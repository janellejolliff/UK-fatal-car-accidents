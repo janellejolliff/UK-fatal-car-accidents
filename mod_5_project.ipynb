{
 "cells": [
  {
   "cell_type": "markdown",
   "metadata": {},
   "source": [
    "## importing"
   ]
  },
  {
   "cell_type": "code",
   "execution_count": 1,
   "metadata": {
    "ExecuteTime": {
     "end_time": "2019-12-28T22:10:24.628988Z",
     "start_time": "2019-12-28T22:10:20.785120Z"
    }
   },
   "outputs": [],
   "source": [
    "import warnings\n",
    "warnings.filterwarnings('ignore')\n",
    "import numpy as np\n",
    "import pandas as pd\n",
    "from xgboost import XGBClassifier, plot_importance\n",
    "import matplotlib.pyplot as plt\n",
    "from matplotlib import pyplot\n",
    "import seaborn as sns\n",
    "from sklearn import svm, tree, preprocessing\n",
    "from sklearn.model_selection import train_test_split, GridSearchCV, cross_val_score\n",
    "from sklearn.metrics import confusion_matrix, precision_score, recall_score, accuracy_score, f1_score, roc_curve, auc, r2_score, classification_report\n",
    "from sklearn.tree import DecisionTreeClassifier\n",
    "from sklearn.ensemble import RandomForestClassifier, AdaBoostClassifier, BaggingClassifier, GradientBoostingClassifier, ExtraTreesClassifier\n",
    "from sklearn.preprocessing import StandardScaler, MinMaxScaler, Normalizer\n",
    "from sklearn.decomposition import PCA\n",
    "from sklearn.pipeline import Pipeline\n",
    "from sklearn.neighbors import KNeighborsClassifier\n",
    "from sklearn.linear_model import LogisticRegression\n",
    "lb = preprocessing.LabelBinarizer()\n",
    "scaler = MinMaxScaler()\n",
    "#classifier = LogisticRegression()\n",
    "# from IPython.core.interactiveshell import InteractiveShell\n",
    "# InteractiveShell.ast_node_interactivity = \"all\""
   ]
  },
  {
   "cell_type": "code",
   "execution_count": 2,
   "metadata": {
    "ExecuteTime": {
     "end_time": "2019-12-28T22:10:24.638254Z",
     "start_time": "2019-12-28T22:10:24.632510Z"
    },
    "code_folding": [
     0
    ]
   },
   "outputs": [],
   "source": [
    "# import pandas as pd\n",
    "# import numpy as np\n",
    "# import pandas_profiling\n",
    "# import matplotlib.pyplot as plt\n",
    "# import seaborn as sns\n",
    "# from sklearn.decomposition import PCA\n",
    "# from time import time\n",
    "# from vpython import *\n",
    "# from IPython.core.interactiveshell import InteractiveShell\n",
    "# InteractiveShell.ast_node_interactivity = \"all\"\n",
    "# #import pprint\n",
    "# from sklearn.model_selection import train_test_split\n",
    "# from sklearn.linear_model import LogisticRegression\n",
    "# from sklearn.pipeline import Pipeline\n",
    "# #from sklearn.pipeline import make_pipeline\n",
    "# from sklearn.preprocessing import MinMaxScaler\n",
    "# scaler = MinMaxScaler()\n",
    "# from sklearn.svm import SVC\n",
    "# from sklearn.model_selection import GridSearchCV\n",
    "# %matplotlib inline\n",
    "# from sklearn import svm\n",
    "# from sklearn.metrics import classification_report\n",
    "# from sklearn.pipeline import Pipeline\n",
    "# from sklearn.ensemble import RandomForestClassifier\n",
    "# from sklearn import tree\n",
    "# from sklearn.ensemble import AdaBoostClassifier"
   ]
  },
  {
   "cell_type": "code",
   "execution_count": 3,
   "metadata": {
    "ExecuteTime": {
     "end_time": "2019-12-28T22:10:24.657338Z",
     "start_time": "2019-12-28T22:10:24.642395Z"
    }
   },
   "outputs": [],
   "source": [
    "def model_report(model): \n",
    "    train_score = model.score(X_train, y_train)\n",
    "    print(\"train score: {:.4}%\".format(train_score * 100))\n",
    "\n",
    "    test_score = model.score(X_test, y_test)\n",
    "    print(\"test score: {:.4}%\".format(test_score * 100))\n",
    "\n",
    "    cv_score = np.mean(cross_val_score(model, X, y, cv=3))\n",
    "    print(\"cross val score: {:.4}%\".format(cv_score * 100))\n",
    "\n",
    "    false_positive_rate, true_positive_rate, thresholds = roc_curve(actuals, predictions)\n",
    "    roc_auc = auc(false_positive_rate, true_positive_rate)\n",
    "    print(\"AUC  : {:.4}%\".format(roc_auc * 100))\n",
    "\n",
    "    print(\"\\nClassification Report:\")\n",
    "    print(classification_report(actuals, predictions))\n",
    "    \n",
    "    print(\"\\nConfusion Matrix: 1=Fatal, 0=Minor\")\n",
    "    display(pd.crosstab(actuals, predictions, rownames=['Actual'], colnames=['Predicted'], margins=True))"
   ]
  },
  {
   "cell_type": "code",
   "execution_count": 4,
   "metadata": {
    "ExecuteTime": {
     "end_time": "2019-12-28T22:10:24.669455Z",
     "start_time": "2019-12-28T22:10:24.662622Z"
    }
   },
   "outputs": [],
   "source": [
    "def confusion_matrix():\n",
    "    print(\"\\nConfusion Matrix: 1=Fatal, 0=Minor\")\n",
    "    display(pd.crosstab(actuals, predictions, rownames=['Actual'], colnames=['Predicted'], margins=True))"
   ]
  },
  {
   "cell_type": "code",
   "execution_count": 5,
   "metadata": {
    "ExecuteTime": {
     "end_time": "2019-12-28T22:10:27.636921Z",
     "start_time": "2019-12-28T22:10:24.673634Z"
    }
   },
   "outputs": [],
   "source": [
    "df = pd.read_csv('Accidents_categorical.csv')"
   ]
  },
  {
   "cell_type": "markdown",
   "metadata": {},
   "source": [
    "## eda"
   ]
  },
  {
   "cell_type": "code",
   "execution_count": 6,
   "metadata": {
    "ExecuteTime": {
     "end_time": "2019-12-28T22:10:27.644040Z",
     "start_time": "2019-12-28T22:10:27.639752Z"
    }
   },
   "outputs": [],
   "source": [
    "#df.head()"
   ]
  },
  {
   "cell_type": "code",
   "execution_count": 7,
   "metadata": {
    "ExecuteTime": {
     "end_time": "2019-12-28T22:10:27.652246Z",
     "start_time": "2019-12-28T22:10:27.647327Z"
    }
   },
   "outputs": [],
   "source": [
    "#df.shape"
   ]
  },
  {
   "cell_type": "code",
   "execution_count": 8,
   "metadata": {
    "ExecuteTime": {
     "end_time": "2019-12-28T22:10:27.669753Z",
     "start_time": "2019-12-28T22:10:27.662640Z"
    }
   },
   "outputs": [],
   "source": [
    "#df.head()"
   ]
  },
  {
   "cell_type": "code",
   "execution_count": 9,
   "metadata": {
    "ExecuteTime": {
     "end_time": "2019-12-28T22:10:27.682448Z",
     "start_time": "2019-12-28T22:10:27.677700Z"
    }
   },
   "outputs": [],
   "source": [
    "#pandas_profiling.ProfileReport(df)"
   ]
  },
  {
   "cell_type": "code",
   "execution_count": 10,
   "metadata": {
    "ExecuteTime": {
     "end_time": "2019-12-28T22:10:27.693089Z",
     "start_time": "2019-12-28T22:10:27.687533Z"
    }
   },
   "outputs": [],
   "source": [
    "#df.plot(kind=\"scatter\", x=\"Longitude\", y=\"Latitude\", alpha= 0.1)"
   ]
  },
  {
   "cell_type": "code",
   "execution_count": 11,
   "metadata": {
    "ExecuteTime": {
     "end_time": "2019-12-28T22:10:27.701124Z",
     "start_time": "2019-12-28T22:10:27.696915Z"
    }
   },
   "outputs": [],
   "source": [
    "#df.hist(figsize=(20,15), bins=30);"
   ]
  },
  {
   "cell_type": "code",
   "execution_count": 12,
   "metadata": {
    "ExecuteTime": {
     "end_time": "2019-12-28T22:10:27.711372Z",
     "start_time": "2019-12-28T22:10:27.705357Z"
    }
   },
   "outputs": [],
   "source": [
    "#df.info()"
   ]
  },
  {
   "cell_type": "code",
   "execution_count": 13,
   "metadata": {
    "ExecuteTime": {
     "end_time": "2019-12-28T22:10:27.719572Z",
     "start_time": "2019-12-28T22:10:27.714969Z"
    }
   },
   "outputs": [],
   "source": [
    "#pairplot and heatmap corr plot"
   ]
  },
  {
   "cell_type": "markdown",
   "metadata": {},
   "source": [
    "## data prep"
   ]
  },
  {
   "cell_type": "code",
   "execution_count": 14,
   "metadata": {
    "ExecuteTime": {
     "end_time": "2019-12-28T22:10:27.791938Z",
     "start_time": "2019-12-28T22:10:27.723662Z"
    }
   },
   "outputs": [],
   "source": [
    "#taking 5% of data for speedier results before committing to model\n",
    "df = df.sample(frac=.01, random_state=3)"
   ]
  },
  {
   "cell_type": "code",
   "execution_count": 15,
   "metadata": {
    "ExecuteTime": {
     "end_time": "2019-12-28T22:10:27.812667Z",
     "start_time": "2019-12-28T22:10:27.796007Z"
    }
   },
   "outputs": [],
   "source": [
    "df[\"Accident_Severity\"]= df['Accident_Severity'].replace(\"Fatal_Serious\", 1)\n",
    "df[\"Accident_Severity\"]= df['Accident_Severity'].replace(\"Slight\", 0)"
   ]
  },
  {
   "cell_type": "code",
   "execution_count": 16,
   "metadata": {
    "ExecuteTime": {
     "end_time": "2019-12-28T22:10:27.821118Z",
     "start_time": "2019-12-28T22:10:27.816197Z"
    }
   },
   "outputs": [],
   "source": [
    "target = df['Accident_Severity']"
   ]
  },
  {
   "cell_type": "code",
   "execution_count": 17,
   "metadata": {
    "ExecuteTime": {
     "end_time": "2019-12-28T22:10:27.845301Z",
     "start_time": "2019-12-28T22:10:27.826190Z"
    }
   },
   "outputs": [
    {
     "data": {
      "text/plain": [
       "array([ 8, 23, 17, 24, 19, 12, 10, 18, 16, 14, 15, 22, 13, 20,  7, 11,  9,\n",
       "        6,  2, 21,  5,  1,  0,  3,  4])"
      ]
     },
     "execution_count": 17,
     "metadata": {},
     "output_type": "execute_result"
    }
   ],
   "source": [
    "# make hour of day\n",
    "df['Hour_of_Day'] = df['Hour_of_Day'].apply(lambda x: round(x*24))\n",
    "df['Hour_of_Day'].unique()"
   ]
  },
  {
   "cell_type": "code",
   "execution_count": 18,
   "metadata": {
    "ExecuteTime": {
     "end_time": "2019-12-28T22:10:27.877077Z",
     "start_time": "2019-12-28T22:10:27.848178Z"
    }
   },
   "outputs": [],
   "source": [
    "# assign target and drop irrelevant features\n",
    "y = df[\"Accident_Severity\"]\n",
    "df.drop(columns=['Accident_Index','Datetime'\n",
    "                 , 'Accident_Severity'\n",
    "                 , 'Year'], axis=1,inplace=True)"
   ]
  },
  {
   "cell_type": "code",
   "execution_count": 19,
   "metadata": {
    "ExecuteTime": {
     "end_time": "2019-12-28T22:10:27.902888Z",
     "start_time": "2019-12-28T22:10:27.879845Z"
    }
   },
   "outputs": [],
   "source": [
    "#selecting categorical features for dummies\n",
    "col_list = list(df.select_dtypes(include=['object']).columns)\n",
    "for col in ('Season','Day_of_Month','Day_of_Week','Month_of_Year','Hour_of_Day'):\n",
    "    col_list.append(col)"
   ]
  },
  {
   "cell_type": "code",
   "execution_count": 20,
   "metadata": {
    "ExecuteTime": {
     "end_time": "2019-12-28T22:10:27.911732Z",
     "start_time": "2019-12-28T22:10:27.907027Z"
    }
   },
   "outputs": [],
   "source": [
    "#col_list"
   ]
  },
  {
   "cell_type": "code",
   "execution_count": 21,
   "metadata": {
    "ExecuteTime": {
     "end_time": "2019-12-28T22:10:27.995314Z",
     "start_time": "2019-12-28T22:10:27.916558Z"
    },
    "code_folding": [],
    "scrolled": false
   },
   "outputs": [],
   "source": [
    "df = pd.DataFrame(pd.get_dummies(data=df, columns=col_list, drop_first=True\n",
    "                    , prefix=col_list))"
   ]
  },
  {
   "cell_type": "code",
   "execution_count": 22,
   "metadata": {
    "ExecuteTime": {
     "end_time": "2019-12-28T22:10:28.004549Z",
     "start_time": "2019-12-28T22:10:27.998749Z"
    }
   },
   "outputs": [],
   "source": [
    "X = df"
   ]
  },
  {
   "cell_type": "code",
   "execution_count": 23,
   "metadata": {
    "ExecuteTime": {
     "end_time": "2019-12-28T22:10:28.031825Z",
     "start_time": "2019-12-28T22:10:28.013945Z"
    }
   },
   "outputs": [],
   "source": [
    "X_train, X_test, y_train, y_test = train_test_split(X, y, test_size=0.2, shuffle=True)"
   ]
  },
  {
   "cell_type": "code",
   "execution_count": 24,
   "metadata": {
    "ExecuteTime": {
     "end_time": "2019-12-28T22:10:28.042798Z",
     "start_time": "2019-12-28T22:10:28.038475Z"
    },
    "code_folding": [
     0
    ]
   },
   "outputs": [],
   "source": [
    "# y_train_fatal = (y_train==\"1\")\n",
    "# y_test_fatal = (y_test==\"1\")"
   ]
  },
  {
   "cell_type": "code",
   "execution_count": 25,
   "metadata": {
    "ExecuteTime": {
     "end_time": "2019-12-28T22:10:28.099564Z",
     "start_time": "2019-12-28T22:10:28.045731Z"
    },
    "scrolled": false
   },
   "outputs": [],
   "source": [
    "X_train = StandardScaler().fit_transform(X_train)\n",
    "X_test = StandardScaler().fit_transform(X_test)"
   ]
  },
  {
   "cell_type": "markdown",
   "metadata": {},
   "source": [
    "## feature importance"
   ]
  },
  {
   "cell_type": "code",
   "execution_count": 26,
   "metadata": {
    "ExecuteTime": {
     "end_time": "2019-12-28T22:10:28.108797Z",
     "start_time": "2019-12-28T22:10:28.103755Z"
    }
   },
   "outputs": [],
   "source": [
    "# model = XGBClassifier()\n",
    "# model.fit(X, y)\n",
    "# ax = plot_importance(model)\n",
    "# fig = ax.figure\n",
    "# ax.grid(False)\n",
    "# fig.set_size_inches(10,20)\n",
    "# plt.show()"
   ]
  },
  {
   "cell_type": "code",
   "execution_count": 27,
   "metadata": {
    "ExecuteTime": {
     "end_time": "2019-12-28T22:10:28.116604Z",
     "start_time": "2019-12-28T22:10:28.111765Z"
    }
   },
   "outputs": [],
   "source": [
    "# from sklearn.ensemble import ExtraTreesClassifier\n",
    "# model = ExtraTreesClassifier()\n",
    "# model.fit(X,y)\n",
    "# #plot graph of feature importances\n",
    "# feat_importances = pd.Series(model.feature_importances_, index=X.columns)\n",
    "# feat_importances.nlargest(20).plot(kind='barh')\n",
    "# plt.show()"
   ]
  },
  {
   "cell_type": "markdown",
   "metadata": {
    "heading_collapsed": true
   },
   "source": [
    "## choosing model"
   ]
  },
  {
   "cell_type": "code",
   "execution_count": 28,
   "metadata": {
    "ExecuteTime": {
     "end_time": "2019-12-28T22:10:28.130655Z",
     "start_time": "2019-12-28T22:10:28.120277Z"
    },
    "hidden": true
   },
   "outputs": [
    {
     "data": {
      "text/plain": [
       "(2014, 178)"
      ]
     },
     "execution_count": 28,
     "metadata": {},
     "output_type": "execute_result"
    }
   ],
   "source": [
    "X_train.shape"
   ]
  },
  {
   "cell_type": "code",
   "execution_count": 29,
   "metadata": {
    "ExecuteTime": {
     "end_time": "2019-12-28T22:10:28.744751Z",
     "start_time": "2019-12-28T22:10:28.134844Z"
    },
    "code_folding": [],
    "hidden": true
   },
   "outputs": [
    {
     "name": "stdout",
     "output_type": "stream",
     "text": [
      "0.8389852343601241\n"
     ]
    }
   ],
   "source": [
    "# looking to keep enough to maintain 80% explained variance\n",
    "pca = PCA(n_components=115)\n",
    "principalComponents = pca.fit_transform(X_train)\n",
    "print(np.sum(pca.explained_variance_ratio_))"
   ]
  },
  {
   "cell_type": "code",
   "execution_count": 30,
   "metadata": {
    "ExecuteTime": {
     "end_time": "2019-12-28T22:10:28.752186Z",
     "start_time": "2019-12-28T22:10:28.747842Z"
    },
    "hidden": true
   },
   "outputs": [],
   "source": [
    "num_feats = 115"
   ]
  },
  {
   "cell_type": "code",
   "execution_count": 31,
   "metadata": {
    "ExecuteTime": {
     "end_time": "2019-12-28T22:10:28.768867Z",
     "start_time": "2019-12-28T22:10:28.755737Z"
    },
    "hidden": true
   },
   "outputs": [],
   "source": [
    "#assign pipelines\n",
    "pipe_kn = Pipeline([('kn_model', KNeighborsClassifier())])\n",
    "\n",
    "pipe_tree = Pipeline([('dt_model', DecisionTreeClassifier(random_state=3))])\n",
    "\n",
    "pipe_bag = Pipeline([('bag_model', BaggingClassifier(DecisionTreeClassifier(random_state=3)))])\n",
    "\n",
    "pipe_rf = Pipeline([('rf_model', RandomForestClassifier(random_state=3))])\n",
    "\n",
    "pipe_ada = Pipeline([('ada_model', AdaBoostClassifier(random_state=3))])\n",
    "\n",
    "pipe_gbt = Pipeline([('gbt_model', GradientBoostingClassifier(random_state=3))])\n",
    "\n",
    "pipe_xgb = Pipeline([('xgb_model', XGBClassifier(random_state=3))])\n",
    "\n",
    "pipe_svc = Pipeline([('svm_model', svm.SVC(random_state=3))])"
   ]
  },
  {
   "cell_type": "code",
   "execution_count": 32,
   "metadata": {
    "ExecuteTime": {
     "end_time": "2019-12-28T22:11:56.632961Z",
     "start_time": "2019-12-28T22:10:28.773506Z"
    },
    "hidden": true,
    "scrolled": true
   },
   "outputs": [
    {
     "name": "stdout",
     "output_type": "stream",
     "text": [
      "KNeighbors :\n",
      "Pipeline(memory=None,\n",
      "     steps=[('kn_model', KNeighborsClassifier(algorithm='auto', leaf_size=30, metric='minkowski',\n",
      "           metric_params=None, n_jobs=None, n_neighbors=5, p=2,\n",
      "           weights='uniform'))])\n",
      "\n",
      "Recall 0.16275247524752476\n",
      "Precision 0.3057390429999408\n",
      "F1 0.2122676509249221\n",
      "\n",
      "\n",
      "Decision Tree :\n",
      "Pipeline(memory=None,\n",
      "     steps=[('dt_model', DecisionTreeClassifier(class_weight=None, criterion='gini', max_depth=None,\n",
      "            max_features=None, max_leaf_nodes=None,\n",
      "            min_impurity_decrease=0.0, min_impurity_split=None,\n",
      "            min_samples_leaf=1, min_samples_split=2,\n",
      "            min_weight_fraction_leaf=0.0, presort=False, random_state=3,\n",
      "            splitter='best'))])\n",
      "\n",
      "Recall 0.3255247524752475\n",
      "Precision 0.32444039659978186\n",
      "F1 0.3242087426239008\n",
      "\n",
      "\n",
      "Bagged Trees :\n",
      "Pipeline(memory=None,\n",
      "     steps=[('bag_model', BaggingClassifier(base_estimator=DecisionTreeClassifier(class_weight=None, criterion='gini', max_depth=None,\n",
      "            max_features=None, max_leaf_nodes=None,\n",
      "            min_impurity_decrease=0.0, min_impurity_split=None,\n",
      "            min_samples_leaf=1, min_samples_split=2,\n",
      " ...imators=10, n_jobs=None, oob_score=False,\n",
      "         random_state=None, verbose=0, warm_start=False))])\n",
      "\n",
      "Recall 0.16271287128712872\n",
      "Precision 0.44400644468313644\n",
      "F1 0.24028159006612318\n",
      "\n",
      "\n",
      "Random Forest :\n",
      "Pipeline(memory=None,\n",
      "     steps=[('rf_model', RandomForestClassifier(bootstrap=True, class_weight=None, criterion='gini',\n",
      "            max_depth=None, max_features='auto', max_leaf_nodes=None,\n",
      "            min_impurity_decrease=0.0, min_impurity_split=None,\n",
      "            min_samples_leaf=1, min_samples_split=2,\n",
      "            min_weight_fraction_leaf=0.0, n_estimators='warn', n_jobs=None,\n",
      "            oob_score=False, random_state=3, verbose=0, warm_start=False))])\n",
      "\n",
      "Recall 0.12112871287128713\n",
      "Precision 0.49891653684757137\n",
      "F1 0.1929105394564475\n",
      "\n",
      "\n",
      "AdaBoost :\n",
      "Pipeline(memory=None,\n",
      "     steps=[('ada_model', AdaBoostClassifier(algorithm='SAMME.R', base_estimator=None,\n",
      "          learning_rate=1.0, n_estimators=50, random_state=3))])\n",
      "\n",
      "Recall 0.21233663366336636\n",
      "Precision 0.48826714616188305\n",
      "F1 0.29399738698143063\n",
      "\n",
      "\n",
      "Gradient Boosting :\n",
      "Pipeline(memory=None,\n",
      "     steps=[('gbt_model', GradientBoostingClassifier(criterion='friedman_mse', init=None,\n",
      "              learning_rate=0.1, loss='deviance', max_depth=3,\n",
      "              max_features=None, max_leaf_nodes=None,\n",
      "              min_impurity_decrease=0.0, min_impurity_split=None,\n",
      "              min_samples_leaf=1...    subsample=1.0, tol=0.0001, validation_fraction=0.1,\n",
      "              verbose=0, warm_start=False))])\n",
      "\n",
      "Recall 0.1408910891089109\n",
      "Precision 0.514233066813712\n",
      "F1 0.219758495413523\n",
      "\n",
      "\n",
      "XGBoost :\n",
      "Pipeline(memory=None,\n",
      "     steps=[('xgb_model', XGBClassifier(base_score=0.5, booster='gbtree', colsample_bylevel=1,\n",
      "       colsample_bynode=1, colsample_bytree=1, gamma=0, learning_rate=0.1,\n",
      "       max_delta_step=0, max_depth=3, min_child_weight=1, missing=None,\n",
      "       n_estimators=100, n_jobs=1, nthread=None,\n",
      "       objective='binary:logistic', random_state=3, reg_alpha=0,\n",
      "       reg_lambda=1, scale_pos_weight=1, seed=None, silent=None,\n",
      "       subsample=1, verbosity=1))])\n",
      "\n",
      "Recall 0.1130891089108911\n",
      "Precision 0.5387766399407267\n",
      "F1 0.186042844544731\n",
      "\n",
      "\n",
      "Logistic Regression :\n",
      "Pipeline(memory=None,\n",
      "     steps=[('svm_model', SVC(C=1.0, cache_size=200, class_weight=None, coef0=0.0,\n",
      "  decision_function_shape='ovr', degree=3, gamma='auto_deprecated',\n",
      "  kernel='rbf', max_iter=-1, probability=False, random_state=3,\n",
      "  shrinking=True, tol=0.001, verbose=False))])\n",
      "\n",
      "Recall 0.02184158415841584\n",
      "Precision 0.5866666666666667\n",
      "F1 0.04162620044423233\n",
      "\n",
      "\n"
     ]
    }
   ],
   "source": [
    "# baseline model cross val scores\n",
    "pipelines = [pipe_kn, pipe_tree, pipe_bag, pipe_rf, pipe_ada, pipe_gbt, pipe_xgb, pipe_svc]\n",
    "pipeline_names = ['KNeighbors','Decision Tree', 'Bagged Trees', 'Random Forest', 'AdaBoost', 'Gradient Boosting', 'XGBoost', 'Logistic Regression', 'Support Vector']\n",
    "\n",
    "for pipeline, name in zip(pipelines, pipeline_names):\n",
    "    print(name, ':')\n",
    "    print(pipeline)\n",
    "    pipeline.fit(X_train, y_train)\n",
    "    \n",
    "    print()\n",
    "    recall = cross_val_score(pipeline, X_train, y_train, cv=5, scoring='recall')\n",
    "    print('Recall', np.mean(recall))\n",
    "    precision = cross_val_score(pipeline, X_train, y_train, cv=5, scoring='precision')\n",
    "    print('Precision', np.mean(precision))\n",
    "    f1 = cross_val_score(pipeline, X_train, y_train, cv=5, scoring='f1')\n",
    "    print('F1', np.mean(f1))\n",
    "    print()\n",
    "    print()"
   ]
  },
  {
   "cell_type": "markdown",
   "metadata": {
    "hidden": true
   },
   "source": [
    "While XGboost shows the highest precision, decision tree shows the highest recall rate and F1 score."
   ]
  },
  {
   "cell_type": "code",
   "execution_count": 33,
   "metadata": {
    "ExecuteTime": {
     "end_time": "2019-12-28T22:12:11.084042Z",
     "start_time": "2019-12-28T22:11:56.637086Z"
    },
    "code_folding": [],
    "hidden": true
   },
   "outputs": [
    {
     "name": "stdout",
     "output_type": "stream",
     "text": [
      "xgbc\n",
      "0.7420634920634921\n",
      "\n",
      "logistic regression\n",
      "0.7420634920634921\n",
      "\n",
      "random forest\n",
      "0.7242063492063492\n",
      "\n",
      "decision tree\n",
      "0.6111111111111112\n",
      "\n",
      "adaboost\n",
      "0.7123015873015873\n",
      "\n",
      "gradient\n",
      "0.7202380952380952\n",
      "\n",
      "bagging\n",
      "0.7043650793650794\n",
      "\n",
      "support vector\n",
      "0.7380952380952381\n",
      "\n"
     ]
    }
   ],
   "source": [
    "#baseline model accuracy scores\n",
    "\n",
    "for classifier, pl in zip((XGBClassifier, LogisticRegression, RandomForestClassifier,DecisionTreeClassifier, AdaBoostClassifier, GradientBoostingClassifier, BaggingClassifier, svm.SVC),('xgbc','logistic regression', 'random forest', 'decision tree', 'adaboost', 'gradient', 'bagging', 'support vector')):\n",
    "\n",
    "    pipe = Pipeline([('pca', PCA(n_components=num_feats)),\n",
    "                    ('clf', classifier(random_state=3))])\n",
    "    pipe.fit(X_train, y_train)\n",
    "    \n",
    "    print(pl)\n",
    "    print(pipe.score(X_test, y_test))\n",
    "    print()"
   ]
  },
  {
   "cell_type": "code",
   "execution_count": 34,
   "metadata": {
    "ExecuteTime": {
     "end_time": "2019-12-28T22:12:11.104600Z",
     "start_time": "2019-12-28T22:12:11.096963Z"
    },
    "code_folding": [
     0
    ],
    "hidden": true
   },
   "outputs": [],
   "source": [
    "# for classifier, cls in zip((XGBClassifier(), LogisticRegression(), RandomForestClassifier(),DecisionTreeClassifier(), AdaBoostClassifier(),GradientBoostingClassifier(), BaggingClassifier(), svm.SVC() ),('xg','logistic regression', 'random forest', 'decision tree', 'adaboost', 'gradient', 'bagging', 'support vector')):\n",
    "    \n",
    "    \n",
    "#     pipe_lr = Pipeline([('pca', PCA(n_components=150, random_state=3)),\n",
    "#          ('clf', classifier(random_state=3))])\n",
    "\n",
    "#     pipe_lr.fit(X_train, y_train)\n",
    "    \n",
    "# #     print(cls, \":\")\n",
    "# #     recall = cross_val_score(classifier, X_train, y_train, cv=5, scoring='recall')\n",
    "# #     print('Recall', np.mean(recall))\n",
    "# #     precision = cross_val_score(classifier, X_train, y_train, cv=5, scoring='precision')\n",
    "# #     print('Precision', np.mean(precision))\n",
    "# #     f1 = cross_val_score(classifier, X_train, y_train, cv=5, scoring='f1')\n",
    "# #     print('F1', np.mean(f1))\n",
    "# #     print()"
   ]
  },
  {
   "cell_type": "markdown",
   "metadata": {},
   "source": [
    "## decision tree"
   ]
  },
  {
   "cell_type": "code",
   "execution_count": 35,
   "metadata": {
    "ExecuteTime": {
     "end_time": "2019-12-28T22:12:11.180828Z",
     "start_time": "2019-12-28T22:12:11.109419Z"
    }
   },
   "outputs": [],
   "source": [
    "# initialize and fit decision tree\n",
    "dt_model = DecisionTreeClassifier()\n",
    "dt_model.fit(X_train, y_train)\n",
    "\n",
    "predictions = dt_model.predict(X_test)\n",
    "actuals = y_test"
   ]
  },
  {
   "cell_type": "code",
   "execution_count": 36,
   "metadata": {
    "ExecuteTime": {
     "end_time": "2019-12-28T22:12:11.489886Z",
     "start_time": "2019-12-28T22:12:11.188017Z"
    }
   },
   "outputs": [
    {
     "name": "stdout",
     "output_type": "stream",
     "text": [
      "train score: 100.0%\n",
      "test score: 64.68%\n",
      "cross val score: 66.2%\n",
      "AUC  : 55.24%\n",
      "\n",
      "Classification Report:\n",
      "              precision    recall  f1-score   support\n",
      "\n",
      "           0       0.76      0.75      0.76       370\n",
      "           1       0.34      0.35      0.35       134\n",
      "\n",
      "   micro avg       0.65      0.65      0.65       504\n",
      "   macro avg       0.55      0.55      0.55       504\n",
      "weighted avg       0.65      0.65      0.65       504\n",
      "\n",
      "\n",
      "Confusion Matrix: 1=Fatal, 0=Minor\n"
     ]
    },
    {
     "data": {
      "text/html": [
       "<div>\n",
       "<style scoped>\n",
       "    .dataframe tbody tr th:only-of-type {\n",
       "        vertical-align: middle;\n",
       "    }\n",
       "\n",
       "    .dataframe tbody tr th {\n",
       "        vertical-align: top;\n",
       "    }\n",
       "\n",
       "    .dataframe thead th {\n",
       "        text-align: right;\n",
       "    }\n",
       "</style>\n",
       "<table border=\"1\" class=\"dataframe\">\n",
       "  <thead>\n",
       "    <tr style=\"text-align: right;\">\n",
       "      <th>Predicted</th>\n",
       "      <th>0</th>\n",
       "      <th>1</th>\n",
       "      <th>All</th>\n",
       "    </tr>\n",
       "    <tr>\n",
       "      <th>Actual</th>\n",
       "      <th></th>\n",
       "      <th></th>\n",
       "      <th></th>\n",
       "    </tr>\n",
       "  </thead>\n",
       "  <tbody>\n",
       "    <tr>\n",
       "      <th>0</th>\n",
       "      <td>279</td>\n",
       "      <td>91</td>\n",
       "      <td>370</td>\n",
       "    </tr>\n",
       "    <tr>\n",
       "      <th>1</th>\n",
       "      <td>87</td>\n",
       "      <td>47</td>\n",
       "      <td>134</td>\n",
       "    </tr>\n",
       "    <tr>\n",
       "      <th>All</th>\n",
       "      <td>366</td>\n",
       "      <td>138</td>\n",
       "      <td>504</td>\n",
       "    </tr>\n",
       "  </tbody>\n",
       "</table>\n",
       "</div>"
      ],
      "text/plain": [
       "Predicted    0    1  All\n",
       "Actual                  \n",
       "0          279   91  370\n",
       "1           87   47  134\n",
       "All        366  138  504"
      ]
     },
     "metadata": {},
     "output_type": "display_data"
    }
   ],
   "source": [
    "model_report(dt_model)"
   ]
  },
  {
   "cell_type": "code",
   "execution_count": null,
   "metadata": {},
   "outputs": [],
   "source": [
    "dec_tree = model_report(dt_model)"
   ]
  },
  {
   "cell_type": "code",
   "execution_count": 37,
   "metadata": {
    "ExecuteTime": {
     "end_time": "2019-12-28T22:12:17.081806Z",
     "start_time": "2019-12-28T22:12:11.494325Z"
    }
   },
   "outputs": [
    {
     "name": "stdout",
     "output_type": "stream",
     "text": [
      "Fitting 4 folds for each of 24 candidates, totalling 96 fits\n"
     ]
    },
    {
     "name": "stderr",
     "output_type": "stream",
     "text": [
      "[Parallel(n_jobs=-1)]: Using backend LokyBackend with 4 concurrent workers.\n",
      "[Parallel(n_jobs=-1)]: Done  51 tasks      | elapsed:    4.7s\n"
     ]
    },
    {
     "name": "stdout",
     "output_type": "stream",
     "text": [
      "Best accuracy: 75.67%\n",
      "params:\n",
      " {'dt_model__criterion': 'entropy', 'dt_model__max_depth': 4, 'dt_model__min_samples_leaf': 0.01, 'dt_model__min_samples_split': 0.002}\n"
     ]
    },
    {
     "name": "stderr",
     "output_type": "stream",
     "text": [
      "[Parallel(n_jobs=-1)]: Done  89 out of  96 | elapsed:    5.4s remaining:    0.4s\n",
      "[Parallel(n_jobs=-1)]: Done  96 out of  96 | elapsed:    5.5s finished\n"
     ]
    }
   ],
   "source": [
    "# grid search params\n",
    "param_grid_dt = [\n",
    "    {'dt_model__criterion': ['entropy','gini'],\n",
    "    'dt_model__max_depth': [3,4,5],\n",
    "    'dt_model__min_samples_split': [0.01, 0.001],\n",
    "    'dt_model__min_samples_leaf': [0.001, 0.01, .1]}\n",
    "]\n",
    "\n",
    "# grid search\n",
    "gs_dt = GridSearchCV(estimator=pipe_tree,\n",
    "                    param_grid=param_grid_dt,\n",
    "                    scoring='accuracy',\n",
    "                    cv=4, n_jobs=-1, verbose=1)\n",
    "\n",
    "# fitting grid search\n",
    "gs_dt.fit(X_train, y_train)\n",
    "\n",
    "# best parameters\n",
    "print('Best accuracy: {:.4}%'.format(gs_dt.best_score_ * 100))\n",
    "print('params:\\n', gs_dt.best_params_)"
   ]
  },
  {
   "cell_type": "code",
   "execution_count": 38,
   "metadata": {
    "ExecuteTime": {
     "end_time": "2019-12-28T22:12:17.114535Z",
     "start_time": "2019-12-28T22:12:17.085728Z"
    }
   },
   "outputs": [],
   "source": [
    "# using best params to fit model\n",
    "dt_gs_model = DecisionTreeClassifier(criterion='entropy',\n",
    "                               max_depth=4,\n",
    "                               min_samples_leaf=0.01,\n",
    "                               min_samples_split=0.002)\n",
    "dt_gs_model.fit(X_train, y_train)\n",
    "\n",
    "predictions = dt_gs_model.predict(X_test)\n",
    "actuals = y_test"
   ]
  },
  {
   "cell_type": "code",
   "execution_count": 39,
   "metadata": {
    "ExecuteTime": {
     "end_time": "2019-12-28T22:12:17.313974Z",
     "start_time": "2019-12-28T22:12:17.118499Z"
    }
   },
   "outputs": [
    {
     "name": "stdout",
     "output_type": "stream",
     "text": [
      "train score: 77.06%\n",
      "test score: 73.21%\n",
      "cross val score: 75.14%\n",
      "AUC  : 53.67%\n",
      "\n",
      "Classification Report:\n",
      "              precision    recall  f1-score   support\n",
      "\n",
      "           0       0.75      0.95      0.84       370\n",
      "           1       0.48      0.12      0.19       134\n",
      "\n",
      "   micro avg       0.73      0.73      0.73       504\n",
      "   macro avg       0.62      0.54      0.52       504\n",
      "weighted avg       0.68      0.73      0.67       504\n",
      "\n",
      "\n",
      "Confusion Matrix: 1=Fatal, 0=Minor\n"
     ]
    },
    {
     "data": {
      "text/html": [
       "<div>\n",
       "<style scoped>\n",
       "    .dataframe tbody tr th:only-of-type {\n",
       "        vertical-align: middle;\n",
       "    }\n",
       "\n",
       "    .dataframe tbody tr th {\n",
       "        vertical-align: top;\n",
       "    }\n",
       "\n",
       "    .dataframe thead th {\n",
       "        text-align: right;\n",
       "    }\n",
       "</style>\n",
       "<table border=\"1\" class=\"dataframe\">\n",
       "  <thead>\n",
       "    <tr style=\"text-align: right;\">\n",
       "      <th>Predicted</th>\n",
       "      <th>0</th>\n",
       "      <th>1</th>\n",
       "      <th>All</th>\n",
       "    </tr>\n",
       "    <tr>\n",
       "      <th>Actual</th>\n",
       "      <th></th>\n",
       "      <th></th>\n",
       "      <th></th>\n",
       "    </tr>\n",
       "  </thead>\n",
       "  <tbody>\n",
       "    <tr>\n",
       "      <th>0</th>\n",
       "      <td>353</td>\n",
       "      <td>17</td>\n",
       "      <td>370</td>\n",
       "    </tr>\n",
       "    <tr>\n",
       "      <th>1</th>\n",
       "      <td>118</td>\n",
       "      <td>16</td>\n",
       "      <td>134</td>\n",
       "    </tr>\n",
       "    <tr>\n",
       "      <th>All</th>\n",
       "      <td>471</td>\n",
       "      <td>33</td>\n",
       "      <td>504</td>\n",
       "    </tr>\n",
       "  </tbody>\n",
       "</table>\n",
       "</div>"
      ],
      "text/plain": [
       "Predicted    0   1  All\n",
       "Actual                 \n",
       "0          353  17  370\n",
       "1          118  16  134\n",
       "All        471  33  504"
      ]
     },
     "metadata": {},
     "output_type": "display_data"
    }
   ],
   "source": [
    "# new model report\n",
    "model_report(dt_gs_model)"
   ]
  },
  {
   "cell_type": "markdown",
   "metadata": {},
   "source": [
    "## Random Forest"
   ]
  },
  {
   "cell_type": "code",
   "execution_count": 40,
   "metadata": {
    "ExecuteTime": {
     "end_time": "2019-12-28T22:12:17.404954Z",
     "start_time": "2019-12-28T22:12:17.318445Z"
    }
   },
   "outputs": [],
   "source": [
    "#initialize and fit random forest\n",
    "rf_model = RandomForestClassifier()\n",
    "rf_model.fit(X_train, y_train)\n",
    "\n",
    "predictions = rf_model.predict(X_test)\n",
    "actuals = y_test"
   ]
  },
  {
   "cell_type": "code",
   "execution_count": 41,
   "metadata": {
    "ExecuteTime": {
     "end_time": "2019-12-28T22:12:17.881058Z",
     "start_time": "2019-12-28T22:12:17.409327Z"
    }
   },
   "outputs": [
    {
     "name": "stdout",
     "output_type": "stream",
     "text": [
      "train score: 97.27%\n",
      "test score: 72.82%\n",
      "cross val score: 74.11%\n",
      "AUC  : 54.59%\n",
      "\n",
      "Classification Report:\n",
      "              precision    recall  f1-score   support\n",
      "\n",
      "           0       0.75      0.94      0.83       370\n",
      "           1       0.47      0.16      0.23       134\n",
      "\n",
      "   micro avg       0.73      0.73      0.73       504\n",
      "   macro avg       0.61      0.55      0.53       504\n",
      "weighted avg       0.68      0.73      0.68       504\n",
      "\n",
      "\n",
      "Confusion Matrix: 1=Fatal, 0=Minor\n"
     ]
    },
    {
     "data": {
      "text/html": [
       "<div>\n",
       "<style scoped>\n",
       "    .dataframe tbody tr th:only-of-type {\n",
       "        vertical-align: middle;\n",
       "    }\n",
       "\n",
       "    .dataframe tbody tr th {\n",
       "        vertical-align: top;\n",
       "    }\n",
       "\n",
       "    .dataframe thead th {\n",
       "        text-align: right;\n",
       "    }\n",
       "</style>\n",
       "<table border=\"1\" class=\"dataframe\">\n",
       "  <thead>\n",
       "    <tr style=\"text-align: right;\">\n",
       "      <th>Predicted</th>\n",
       "      <th>0</th>\n",
       "      <th>1</th>\n",
       "      <th>All</th>\n",
       "    </tr>\n",
       "    <tr>\n",
       "      <th>Actual</th>\n",
       "      <th></th>\n",
       "      <th></th>\n",
       "      <th></th>\n",
       "    </tr>\n",
       "  </thead>\n",
       "  <tbody>\n",
       "    <tr>\n",
       "      <th>0</th>\n",
       "      <td>346</td>\n",
       "      <td>24</td>\n",
       "      <td>370</td>\n",
       "    </tr>\n",
       "    <tr>\n",
       "      <th>1</th>\n",
       "      <td>113</td>\n",
       "      <td>21</td>\n",
       "      <td>134</td>\n",
       "    </tr>\n",
       "    <tr>\n",
       "      <th>All</th>\n",
       "      <td>459</td>\n",
       "      <td>45</td>\n",
       "      <td>504</td>\n",
       "    </tr>\n",
       "  </tbody>\n",
       "</table>\n",
       "</div>"
      ],
      "text/plain": [
       "Predicted    0   1  All\n",
       "Actual                 \n",
       "0          346  24  370\n",
       "1          113  21  134\n",
       "All        459  45  504"
      ]
     },
     "metadata": {},
     "output_type": "display_data"
    }
   ],
   "source": [
    "#baseline model report\n",
    "model_report(rf_model)"
   ]
  },
  {
   "cell_type": "code",
   "execution_count": 42,
   "metadata": {
    "ExecuteTime": {
     "end_time": "2019-12-28T22:12:37.458777Z",
     "start_time": "2019-12-28T22:12:17.884099Z"
    }
   },
   "outputs": [
    {
     "name": "stdout",
     "output_type": "stream",
     "text": [
      "Fitting 4 folds for each of 16 candidates, totalling 64 fits\n"
     ]
    },
    {
     "name": "stderr",
     "output_type": "stream",
     "text": [
      "[Parallel(n_jobs=-1)]: Using backend LokyBackend with 4 concurrent workers.\n",
      "[Parallel(n_jobs=-1)]: Done  42 tasks      | elapsed:   12.8s\n",
      "[Parallel(n_jobs=-1)]: Done  64 out of  64 | elapsed:   18.9s finished\n"
     ]
    },
    {
     "name": "stdout",
     "output_type": "stream",
     "text": [
      "best accuracy: 76.12%\n",
      "params:\n",
      " {'rf_model__criterion': 'gini', 'rf_model__max_depth': None, 'rf_model__min_samples_leaf': 0.001, 'rf_model__min_samples_split': 0.001, 'rf_model__n_estimators': 100}\n"
     ]
    }
   ],
   "source": [
    "# grid search params\n",
    "param_grid_rf = [\n",
    "    {'rf_model__criterion': ['entropy','gini'],\n",
    "    'rf_model__n_estimators': [100,150],\n",
    "    'rf_model__max_depth': [None],\n",
    "    'rf_model__min_samples_split': [0.01,0.001],\n",
    "    'rf_model__min_samples_leaf': [0.01,0.001]}\n",
    "]\n",
    "\n",
    "# grid search\n",
    "gs_rf = GridSearchCV(estimator=pipe_rf,\n",
    "                    param_grid=param_grid_rf,\n",
    "                    scoring='accuracy',\n",
    "                    cv=4, n_jobs=-1, verbose=1)\n",
    "\n",
    "# fitting grid search\n",
    "gs_rf.fit(X_train, y_train)\n",
    "\n",
    "# best parameters\n",
    "print('best accuracy: {:.4}%'.format(gs_rf.best_score_ * 100))\n",
    "print('params:\\n', gs_rf.best_params_)"
   ]
  },
  {
   "cell_type": "code",
   "execution_count": 43,
   "metadata": {
    "ExecuteTime": {
     "end_time": "2019-12-28T22:12:38.413617Z",
     "start_time": "2019-12-28T22:12:37.463362Z"
    }
   },
   "outputs": [],
   "source": [
    "# fitting model using best params\n",
    "rf_gs_model = RandomForestClassifier(criterion='gini',\n",
    "                                 max_depth=None,\n",
    "                                 min_samples_leaf=0.001,\n",
    "                                 min_samples_split=0.001,\n",
    "                                 n_estimators=100)\n",
    "rf_gs_model.fit(X_train, y_train)\n",
    "\n",
    "predictions = rf_gs_model.predict(X_test)\n",
    "actuals = y_test"
   ]
  },
  {
   "cell_type": "code",
   "execution_count": 44,
   "metadata": {
    "ExecuteTime": {
     "end_time": "2019-12-28T22:12:41.545417Z",
     "start_time": "2019-12-28T22:12:38.419022Z"
    }
   },
   "outputs": [
    {
     "name": "stdout",
     "output_type": "stream",
     "text": [
      "train score: 85.95%\n",
      "test score: 75.0%\n",
      "cross val score: 75.58%\n",
      "AUC  : 54.65%\n",
      "\n",
      "Classification Report:\n",
      "              precision    recall  f1-score   support\n",
      "\n",
      "           0       0.75      0.98      0.85       370\n",
      "           1       0.68      0.11      0.19       134\n",
      "\n",
      "   micro avg       0.75      0.75      0.75       504\n",
      "   macro avg       0.72      0.55      0.52       504\n",
      "weighted avg       0.73      0.75      0.68       504\n",
      "\n",
      "\n",
      "Confusion Matrix: 1=Fatal, 0=Minor\n"
     ]
    },
    {
     "data": {
      "text/html": [
       "<div>\n",
       "<style scoped>\n",
       "    .dataframe tbody tr th:only-of-type {\n",
       "        vertical-align: middle;\n",
       "    }\n",
       "\n",
       "    .dataframe tbody tr th {\n",
       "        vertical-align: top;\n",
       "    }\n",
       "\n",
       "    .dataframe thead th {\n",
       "        text-align: right;\n",
       "    }\n",
       "</style>\n",
       "<table border=\"1\" class=\"dataframe\">\n",
       "  <thead>\n",
       "    <tr style=\"text-align: right;\">\n",
       "      <th>Predicted</th>\n",
       "      <th>0</th>\n",
       "      <th>1</th>\n",
       "      <th>All</th>\n",
       "    </tr>\n",
       "    <tr>\n",
       "      <th>Actual</th>\n",
       "      <th></th>\n",
       "      <th></th>\n",
       "      <th></th>\n",
       "    </tr>\n",
       "  </thead>\n",
       "  <tbody>\n",
       "    <tr>\n",
       "      <th>0</th>\n",
       "      <td>363</td>\n",
       "      <td>7</td>\n",
       "      <td>370</td>\n",
       "    </tr>\n",
       "    <tr>\n",
       "      <th>1</th>\n",
       "      <td>119</td>\n",
       "      <td>15</td>\n",
       "      <td>134</td>\n",
       "    </tr>\n",
       "    <tr>\n",
       "      <th>All</th>\n",
       "      <td>482</td>\n",
       "      <td>22</td>\n",
       "      <td>504</td>\n",
       "    </tr>\n",
       "  </tbody>\n",
       "</table>\n",
       "</div>"
      ],
      "text/plain": [
       "Predicted    0   1  All\n",
       "Actual                 \n",
       "0          363   7  370\n",
       "1          119  15  134\n",
       "All        482  22  504"
      ]
     },
     "metadata": {},
     "output_type": "display_data"
    }
   ],
   "source": [
    "# new model report\n",
    "model_report(rf_gs_model)"
   ]
  },
  {
   "cell_type": "markdown",
   "metadata": {},
   "source": [
    "## adaboost"
   ]
  },
  {
   "cell_type": "code",
   "execution_count": 45,
   "metadata": {
    "ExecuteTime": {
     "end_time": "2019-12-28T22:12:41.931890Z",
     "start_time": "2019-12-28T22:12:41.549239Z"
    }
   },
   "outputs": [],
   "source": [
    "#initialize and fit model\n",
    "ada_model = AdaBoostClassifier()\n",
    "ada_model.fit(X_train, y_train)\n",
    "\n",
    "predictions = ada_model.predict(X_test)\n",
    "actuals = y_test"
   ]
  },
  {
   "cell_type": "code",
   "execution_count": 46,
   "metadata": {
    "ExecuteTime": {
     "end_time": "2019-12-28T22:12:43.022575Z",
     "start_time": "2019-12-28T22:12:41.943670Z"
    }
   },
   "outputs": [
    {
     "name": "stdout",
     "output_type": "stream",
     "text": [
      "train score: 77.41%\n",
      "test score: 74.4%\n",
      "cross val score: 74.07%\n",
      "AUC  : 58.53%\n",
      "\n",
      "Classification Report:\n",
      "              precision    recall  f1-score   support\n",
      "\n",
      "           0       0.77      0.92      0.84       370\n",
      "           1       0.54      0.25      0.34       134\n",
      "\n",
      "   micro avg       0.74      0.74      0.74       504\n",
      "   macro avg       0.66      0.59      0.59       504\n",
      "weighted avg       0.71      0.74      0.71       504\n",
      "\n",
      "\n",
      "Confusion Matrix: 1=Fatal, 0=Minor\n"
     ]
    },
    {
     "data": {
      "text/html": [
       "<div>\n",
       "<style scoped>\n",
       "    .dataframe tbody tr th:only-of-type {\n",
       "        vertical-align: middle;\n",
       "    }\n",
       "\n",
       "    .dataframe tbody tr th {\n",
       "        vertical-align: top;\n",
       "    }\n",
       "\n",
       "    .dataframe thead th {\n",
       "        text-align: right;\n",
       "    }\n",
       "</style>\n",
       "<table border=\"1\" class=\"dataframe\">\n",
       "  <thead>\n",
       "    <tr style=\"text-align: right;\">\n",
       "      <th>Predicted</th>\n",
       "      <th>0</th>\n",
       "      <th>1</th>\n",
       "      <th>All</th>\n",
       "    </tr>\n",
       "    <tr>\n",
       "      <th>Actual</th>\n",
       "      <th></th>\n",
       "      <th></th>\n",
       "      <th></th>\n",
       "    </tr>\n",
       "  </thead>\n",
       "  <tbody>\n",
       "    <tr>\n",
       "      <th>0</th>\n",
       "      <td>342</td>\n",
       "      <td>28</td>\n",
       "      <td>370</td>\n",
       "    </tr>\n",
       "    <tr>\n",
       "      <th>1</th>\n",
       "      <td>101</td>\n",
       "      <td>33</td>\n",
       "      <td>134</td>\n",
       "    </tr>\n",
       "    <tr>\n",
       "      <th>All</th>\n",
       "      <td>443</td>\n",
       "      <td>61</td>\n",
       "      <td>504</td>\n",
       "    </tr>\n",
       "  </tbody>\n",
       "</table>\n",
       "</div>"
      ],
      "text/plain": [
       "Predicted    0   1  All\n",
       "Actual                 \n",
       "0          342  28  370\n",
       "1          101  33  134\n",
       "All        443  61  504"
      ]
     },
     "metadata": {},
     "output_type": "display_data"
    }
   ],
   "source": [
    "#baseline model report\n",
    "model_report(ada_model)"
   ]
  },
  {
   "cell_type": "code",
   "execution_count": 47,
   "metadata": {
    "ExecuteTime": {
     "end_time": "2019-12-28T22:13:17.897311Z",
     "start_time": "2019-12-28T22:12:43.026261Z"
    }
   },
   "outputs": [
    {
     "name": "stdout",
     "output_type": "stream",
     "text": [
      "Fitting 4 folds for each of 9 candidates, totalling 36 fits\n"
     ]
    },
    {
     "name": "stderr",
     "output_type": "stream",
     "text": [
      "[Parallel(n_jobs=-1)]: Using backend LokyBackend with 4 concurrent workers.\n",
      "[Parallel(n_jobs=-1)]: Done  36 out of  36 | elapsed:   33.5s finished\n"
     ]
    },
    {
     "name": "stdout",
     "output_type": "stream",
     "text": [
      "best accuracy: 75.57%\n",
      "params:\n",
      " {'ada_model__learning_rate': 0.3, 'ada_model__n_estimators': 200}\n"
     ]
    }
   ],
   "source": [
    "param_grid_ada = [\n",
    "    {'ada_model__n_estimators': [180,200,230],\n",
    "    'ada_model__learning_rate': [0.25,0.30,.35]}\n",
    "]\n",
    "\n",
    "# Construct Grid Search\n",
    "gs_ada = GridSearchCV(estimator=pipe_ada,\n",
    "                    param_grid=param_grid_ada,\n",
    "                    scoring='accuracy',\n",
    "                    cv=4, n_jobs=-1, verbose=1)\n",
    "\n",
    "# Fit using grid search\n",
    "gs_ada.fit(X_train, y_train)\n",
    "\n",
    "# Best accuracy and parameters\n",
    "print('best accuracy: {:.4}%'.format(gs_ada.best_score_ * 100))\n",
    "print('params:\\n', gs_ada.best_params_)"
   ]
  },
  {
   "cell_type": "code",
   "execution_count": 48,
   "metadata": {
    "ExecuteTime": {
     "end_time": "2019-12-28T22:13:19.380849Z",
     "start_time": "2019-12-28T22:13:17.901080Z"
    }
   },
   "outputs": [],
   "source": [
    "ada_gs_model = AdaBoostClassifier(n_estimators=200,\n",
    "                                   learning_rate=0.3)\n",
    "ada_gs_model.fit(X_train, y_train)\n",
    "\n",
    "predictions = ada_gs_model.predict(X_test)\n",
    "actuals = y_test\n"
   ]
  },
  {
   "cell_type": "code",
   "execution_count": 49,
   "metadata": {
    "ExecuteTime": {
     "end_time": "2019-12-28T22:13:24.158337Z",
     "start_time": "2019-12-28T22:13:19.383792Z"
    }
   },
   "outputs": [
    {
     "name": "stdout",
     "output_type": "stream",
     "text": [
      "train score: 78.25%\n",
      "test score: 74.8%\n",
      "cross val score: 74.78%\n",
      "AUC  : 57.61%\n",
      "\n",
      "Classification Report:\n",
      "              precision    recall  f1-score   support\n",
      "\n",
      "           0       0.77      0.94      0.85       370\n",
      "           1       0.57      0.21      0.31       134\n",
      "\n",
      "   micro avg       0.75      0.75      0.75       504\n",
      "   macro avg       0.67      0.58      0.58       504\n",
      "weighted avg       0.72      0.75      0.70       504\n",
      "\n",
      "\n",
      "Confusion Matrix: 1=Fatal, 0=Minor\n"
     ]
    },
    {
     "data": {
      "text/html": [
       "<div>\n",
       "<style scoped>\n",
       "    .dataframe tbody tr th:only-of-type {\n",
       "        vertical-align: middle;\n",
       "    }\n",
       "\n",
       "    .dataframe tbody tr th {\n",
       "        vertical-align: top;\n",
       "    }\n",
       "\n",
       "    .dataframe thead th {\n",
       "        text-align: right;\n",
       "    }\n",
       "</style>\n",
       "<table border=\"1\" class=\"dataframe\">\n",
       "  <thead>\n",
       "    <tr style=\"text-align: right;\">\n",
       "      <th>Predicted</th>\n",
       "      <th>0</th>\n",
       "      <th>1</th>\n",
       "      <th>All</th>\n",
       "    </tr>\n",
       "    <tr>\n",
       "      <th>Actual</th>\n",
       "      <th></th>\n",
       "      <th></th>\n",
       "      <th></th>\n",
       "    </tr>\n",
       "  </thead>\n",
       "  <tbody>\n",
       "    <tr>\n",
       "      <th>0</th>\n",
       "      <td>349</td>\n",
       "      <td>21</td>\n",
       "      <td>370</td>\n",
       "    </tr>\n",
       "    <tr>\n",
       "      <th>1</th>\n",
       "      <td>106</td>\n",
       "      <td>28</td>\n",
       "      <td>134</td>\n",
       "    </tr>\n",
       "    <tr>\n",
       "      <th>All</th>\n",
       "      <td>455</td>\n",
       "      <td>49</td>\n",
       "      <td>504</td>\n",
       "    </tr>\n",
       "  </tbody>\n",
       "</table>\n",
       "</div>"
      ],
      "text/plain": [
       "Predicted    0   1  All\n",
       "Actual                 \n",
       "0          349  21  370\n",
       "1          106  28  134\n",
       "All        455  49  504"
      ]
     },
     "metadata": {},
     "output_type": "display_data"
    }
   ],
   "source": [
    "model_report(ada_gs_model)"
   ]
  },
  {
   "cell_type": "markdown",
   "metadata": {},
   "source": [
    "## gradient boost"
   ]
  },
  {
   "cell_type": "code",
   "execution_count": 50,
   "metadata": {
    "ExecuteTime": {
     "end_time": "2019-12-28T22:13:25.495318Z",
     "start_time": "2019-12-28T22:13:24.164581Z"
    }
   },
   "outputs": [],
   "source": [
    "#initialize and fit gradient boost\n",
    "gbt_model = GradientBoostingClassifier()\n",
    "gbt_model.fit(X_train, y_train)\n",
    "\n",
    "predictions = gbt_model.predict(X_test)\n",
    "actuals = y_test"
   ]
  },
  {
   "cell_type": "code",
   "execution_count": 51,
   "metadata": {
    "ExecuteTime": {
     "end_time": "2019-12-28T22:13:28.968454Z",
     "start_time": "2019-12-28T22:13:25.499052Z"
    }
   },
   "outputs": [
    {
     "name": "stdout",
     "output_type": "stream",
     "text": [
      "train score: 82.87%\n",
      "test score: 75.4%\n",
      "cross val score: 74.94%\n",
      "AUC  : 58.02%\n",
      "\n",
      "Classification Report:\n",
      "              precision    recall  f1-score   support\n",
      "\n",
      "           0       0.77      0.95      0.85       370\n",
      "           1       0.61      0.21      0.31       134\n",
      "\n",
      "   micro avg       0.75      0.75      0.75       504\n",
      "   macro avg       0.69      0.58      0.58       504\n",
      "weighted avg       0.73      0.75      0.71       504\n",
      "\n",
      "\n",
      "Confusion Matrix: 1=Fatal, 0=Minor\n"
     ]
    },
    {
     "data": {
      "text/html": [
       "<div>\n",
       "<style scoped>\n",
       "    .dataframe tbody tr th:only-of-type {\n",
       "        vertical-align: middle;\n",
       "    }\n",
       "\n",
       "    .dataframe tbody tr th {\n",
       "        vertical-align: top;\n",
       "    }\n",
       "\n",
       "    .dataframe thead th {\n",
       "        text-align: right;\n",
       "    }\n",
       "</style>\n",
       "<table border=\"1\" class=\"dataframe\">\n",
       "  <thead>\n",
       "    <tr style=\"text-align: right;\">\n",
       "      <th>Predicted</th>\n",
       "      <th>0</th>\n",
       "      <th>1</th>\n",
       "      <th>All</th>\n",
       "    </tr>\n",
       "    <tr>\n",
       "      <th>Actual</th>\n",
       "      <th></th>\n",
       "      <th></th>\n",
       "      <th></th>\n",
       "    </tr>\n",
       "  </thead>\n",
       "  <tbody>\n",
       "    <tr>\n",
       "      <th>0</th>\n",
       "      <td>352</td>\n",
       "      <td>18</td>\n",
       "      <td>370</td>\n",
       "    </tr>\n",
       "    <tr>\n",
       "      <th>1</th>\n",
       "      <td>106</td>\n",
       "      <td>28</td>\n",
       "      <td>134</td>\n",
       "    </tr>\n",
       "    <tr>\n",
       "      <th>All</th>\n",
       "      <td>458</td>\n",
       "      <td>46</td>\n",
       "      <td>504</td>\n",
       "    </tr>\n",
       "  </tbody>\n",
       "</table>\n",
       "</div>"
      ],
      "text/plain": [
       "Predicted    0   1  All\n",
       "Actual                 \n",
       "0          352  18  370\n",
       "1          106  28  134\n",
       "All        458  46  504"
      ]
     },
     "metadata": {},
     "output_type": "display_data"
    }
   ],
   "source": [
    "#baseline model report\n",
    "model_report(gbt_model)"
   ]
  },
  {
   "cell_type": "code",
   "execution_count": 52,
   "metadata": {
    "ExecuteTime": {
     "end_time": "2019-12-28T22:19:03.324108Z",
     "start_time": "2019-12-28T22:13:28.971876Z"
    },
    "code_folding": []
   },
   "outputs": [
    {
     "name": "stdout",
     "output_type": "stream",
     "text": [
      "Fitting 4 folds for each of 16 candidates, totalling 64 fits\n"
     ]
    },
    {
     "name": "stderr",
     "output_type": "stream",
     "text": [
      "[Parallel(n_jobs=-1)]: Using backend LokyBackend with 4 concurrent workers.\n",
      "[Parallel(n_jobs=-1)]: Done  42 tasks      | elapsed:  3.7min\n",
      "[Parallel(n_jobs=-1)]: Done  64 out of  64 | elapsed:  5.4min finished\n"
     ]
    },
    {
     "name": "stdout",
     "output_type": "stream",
     "text": [
      "best accuracy: 75.82%\n",
      "params:\n",
      " {'gbt_model__learning_rate': 0.01, 'gbt_model__max_depth': 15, 'gbt_model__min_samples_leaf': 0.01, 'gbt_model__min_samples_split': 0.1, 'gbt_model__n_estimators': 200}\n"
     ]
    }
   ],
   "source": [
    "# grid search params\n",
    "param_grid_gbt = [\n",
    "    {'gbt_model__n_estimators': [150,200],\n",
    "    'gbt_model__learning_rate': [0.1,0.01],\n",
    "    'gbt_model__min_samples_split': [0.1, 0.01],\n",
    "    'gbt_model__min_samples_leaf': [0.1, 0.01],\n",
    "    'gbt_model__max_depth': [10, 15]}\n",
    "]\n",
    "\n",
    "# grid search\n",
    "gs_gbt = GridSearchCV(estimator=pipe_gbt,\n",
    "                    param_grid=param_grid_gbt,\n",
    "                    scoring='accuracy',\n",
    "                    cv=4, n_jobs=-1, verbose=1)\n",
    "\n",
    "# fit grid search\n",
    "gs_gbt.fit(X_train, y_train)\n",
    "\n",
    "# best params\n",
    "print('best accuracy: {:.4}%'.format(gs_gbt.best_score_ * 100))\n",
    "print('params:\\n', gs_gbt.best_params_)"
   ]
  },
  {
   "cell_type": "code",
   "execution_count": 53,
   "metadata": {
    "ExecuteTime": {
     "end_time": "2019-12-28T22:19:24.757218Z",
     "start_time": "2019-12-28T22:19:03.329875Z"
    }
   },
   "outputs": [],
   "source": [
    "gbt_gs_model = GradientBoostingClassifier(learning_rate=0.01,\n",
    "                                         max_depth=15,\n",
    "                                         min_samples_leaf=0.01,\n",
    "                                         min_samples_split=0.1,\n",
    "                                         n_estimators=200)\n",
    "gbt_gs_model.fit(X_train, y_train)\n",
    "\n",
    "predictions = gbt_gs_model.predict(X_test)\n",
    "actuals = y_test"
   ]
  },
  {
   "cell_type": "code",
   "execution_count": 54,
   "metadata": {
    "ExecuteTime": {
     "end_time": "2019-12-28T22:20:14.372739Z",
     "start_time": "2019-12-28T22:19:24.760519Z"
    }
   },
   "outputs": [
    {
     "name": "stdout",
     "output_type": "stream",
     "text": [
      "train score: 82.52%\n",
      "test score: 74.21%\n",
      "cross val score: 74.66%\n",
      "AUC  : 56.01%\n",
      "\n",
      "Classification Report:\n",
      "              precision    recall  f1-score   support\n",
      "\n",
      "           0       0.76      0.95      0.84       370\n",
      "           1       0.55      0.17      0.26       134\n",
      "\n",
      "   micro avg       0.74      0.74      0.74       504\n",
      "   macro avg       0.65      0.56      0.55       504\n",
      "weighted avg       0.70      0.74      0.69       504\n",
      "\n",
      "\n",
      "Confusion Matrix: 1=Fatal, 0=Minor\n"
     ]
    },
    {
     "data": {
      "text/html": [
       "<div>\n",
       "<style scoped>\n",
       "    .dataframe tbody tr th:only-of-type {\n",
       "        vertical-align: middle;\n",
       "    }\n",
       "\n",
       "    .dataframe tbody tr th {\n",
       "        vertical-align: top;\n",
       "    }\n",
       "\n",
       "    .dataframe thead th {\n",
       "        text-align: right;\n",
       "    }\n",
       "</style>\n",
       "<table border=\"1\" class=\"dataframe\">\n",
       "  <thead>\n",
       "    <tr style=\"text-align: right;\">\n",
       "      <th>Predicted</th>\n",
       "      <th>0</th>\n",
       "      <th>1</th>\n",
       "      <th>All</th>\n",
       "    </tr>\n",
       "    <tr>\n",
       "      <th>Actual</th>\n",
       "      <th></th>\n",
       "      <th></th>\n",
       "      <th></th>\n",
       "    </tr>\n",
       "  </thead>\n",
       "  <tbody>\n",
       "    <tr>\n",
       "      <th>0</th>\n",
       "      <td>351</td>\n",
       "      <td>19</td>\n",
       "      <td>370</td>\n",
       "    </tr>\n",
       "    <tr>\n",
       "      <th>1</th>\n",
       "      <td>111</td>\n",
       "      <td>23</td>\n",
       "      <td>134</td>\n",
       "    </tr>\n",
       "    <tr>\n",
       "      <th>All</th>\n",
       "      <td>462</td>\n",
       "      <td>42</td>\n",
       "      <td>504</td>\n",
       "    </tr>\n",
       "  </tbody>\n",
       "</table>\n",
       "</div>"
      ],
      "text/plain": [
       "Predicted    0   1  All\n",
       "Actual                 \n",
       "0          351  19  370\n",
       "1          111  23  134\n",
       "All        462  42  504"
      ]
     },
     "metadata": {},
     "output_type": "display_data"
    }
   ],
   "source": [
    "# new model report\n",
    "model_report(gbt_gs_model)"
   ]
  },
  {
   "cell_type": "markdown",
   "metadata": {},
   "source": [
    "## XGB"
   ]
  },
  {
   "cell_type": "code",
   "execution_count": 55,
   "metadata": {
    "ExecuteTime": {
     "end_time": "2019-12-28T22:20:18.845161Z",
     "start_time": "2019-12-28T22:20:14.376392Z"
    }
   },
   "outputs": [],
   "source": [
    "xgb_model = XGBClassifier()\n",
    "xgb_model.fit(X_train, y_train)\n",
    "\n",
    "predictions = xgb_model.predict(X_test)\n",
    "actuals = y_test"
   ]
  },
  {
   "cell_type": "code",
   "execution_count": 56,
   "metadata": {
    "ExecuteTime": {
     "end_time": "2019-12-28T22:20:27.681980Z",
     "start_time": "2019-12-28T22:20:18.848968Z"
    }
   },
   "outputs": [
    {
     "name": "stdout",
     "output_type": "stream",
     "text": [
      "train score: 81.13%\n",
      "test score: 74.8%\n",
      "cross val score: 75.14%\n",
      "AUC  : 56.9%\n",
      "\n",
      "Classification Report:\n",
      "              precision    recall  f1-score   support\n",
      "\n",
      "           0       0.76      0.95      0.85       370\n",
      "           1       0.58      0.19      0.28       134\n",
      "\n",
      "   micro avg       0.75      0.75      0.75       504\n",
      "   macro avg       0.67      0.57      0.56       504\n",
      "weighted avg       0.72      0.75      0.70       504\n",
      "\n",
      "\n",
      "Confusion Matrix: 1=Fatal, 0=Minor\n"
     ]
    },
    {
     "data": {
      "text/html": [
       "<div>\n",
       "<style scoped>\n",
       "    .dataframe tbody tr th:only-of-type {\n",
       "        vertical-align: middle;\n",
       "    }\n",
       "\n",
       "    .dataframe tbody tr th {\n",
       "        vertical-align: top;\n",
       "    }\n",
       "\n",
       "    .dataframe thead th {\n",
       "        text-align: right;\n",
       "    }\n",
       "</style>\n",
       "<table border=\"1\" class=\"dataframe\">\n",
       "  <thead>\n",
       "    <tr style=\"text-align: right;\">\n",
       "      <th>Predicted</th>\n",
       "      <th>0</th>\n",
       "      <th>1</th>\n",
       "      <th>All</th>\n",
       "    </tr>\n",
       "    <tr>\n",
       "      <th>Actual</th>\n",
       "      <th></th>\n",
       "      <th></th>\n",
       "      <th></th>\n",
       "    </tr>\n",
       "  </thead>\n",
       "  <tbody>\n",
       "    <tr>\n",
       "      <th>0</th>\n",
       "      <td>352</td>\n",
       "      <td>18</td>\n",
       "      <td>370</td>\n",
       "    </tr>\n",
       "    <tr>\n",
       "      <th>1</th>\n",
       "      <td>109</td>\n",
       "      <td>25</td>\n",
       "      <td>134</td>\n",
       "    </tr>\n",
       "    <tr>\n",
       "      <th>All</th>\n",
       "      <td>461</td>\n",
       "      <td>43</td>\n",
       "      <td>504</td>\n",
       "    </tr>\n",
       "  </tbody>\n",
       "</table>\n",
       "</div>"
      ],
      "text/plain": [
       "Predicted    0   1  All\n",
       "Actual                 \n",
       "0          352  18  370\n",
       "1          109  25  134\n",
       "All        461  43  504"
      ]
     },
     "metadata": {},
     "output_type": "display_data"
    }
   ],
   "source": [
    "model_report(xgb_model)"
   ]
  },
  {
   "cell_type": "code",
   "execution_count": 57,
   "metadata": {
    "ExecuteTime": {
     "end_time": "2019-12-28T22:21:12.260760Z",
     "start_time": "2019-12-28T22:20:27.685342Z"
    }
   },
   "outputs": [
    {
     "name": "stdout",
     "output_type": "stream",
     "text": [
      "Fitting 4 folds for each of 16 candidates, totalling 64 fits\n"
     ]
    },
    {
     "name": "stderr",
     "output_type": "stream",
     "text": [
      "[Parallel(n_jobs=-1)]: Using backend LokyBackend with 4 concurrent workers.\n",
      "[Parallel(n_jobs=-1)]: Done  42 tasks      | elapsed:   30.1s\n",
      "[Parallel(n_jobs=-1)]: Done  64 out of  64 | elapsed:   43.1s finished\n"
     ]
    },
    {
     "name": "stdout",
     "output_type": "stream",
     "text": [
      "Best accuracy: 75.97%\n",
      "params:\n",
      " {'xgb_model__learning_rate': 0.05, 'xgb_model__max_depth': 3, 'xgb_model__min_child_weight': 0.01, 'xgb_model__n_estimators': 50}\n"
     ]
    }
   ],
   "source": [
    "param_grid_xgb = [\n",
    "    {'xgb_model__min_child_weight': [0.01,0.05,0.001],\n",
    "    'xgb_model__learning_rate': [0.05,0.1],\n",
    "    'xgb_model__n_estimators': [40,50],\n",
    "    'xgb_model__max_depth': [3,4]}\n",
    "]\n",
    "\n",
    "# Construct Grid Search\n",
    "gs_xgb = GridSearchCV(estimator=pipe_xgb,\n",
    "                    param_grid=param_grid_xgb,\n",
    "                    scoring='accuracy',\n",
    "                    cv=4, n_jobs=-1, verbose=1)\n",
    "\n",
    "# Fit using grid search\n",
    "gs_xgb.fit(X, y)\n",
    "\n",
    "# Best accuracy and parameters\n",
    "print('Best accuracy: {:.4}%'.format(gs_xgb.best_score_ * 100))\n",
    "print('params:\\n', gs_xgb.best_params_)"
   ]
  },
  {
   "cell_type": "code",
   "execution_count": 58,
   "metadata": {
    "ExecuteTime": {
     "end_time": "2019-12-28T22:21:13.662450Z",
     "start_time": "2019-12-28T22:21:12.263953Z"
    }
   },
   "outputs": [],
   "source": [
    "xgb_gs_model = XGBClassifier(learning_rate=0.05,\n",
    "                             max_depth=3,\n",
    "                             min_child_weight=0.01,\n",
    "                             n_estimators=50)\n",
    "xgb_gs_model.fit(X_train, y_train)\n",
    "\n",
    "predictions = xgb_gs_model.predict(X_test)\n",
    "actuals = y_test"
   ]
  },
  {
   "cell_type": "code",
   "execution_count": 59,
   "metadata": {
    "ExecuteTime": {
     "end_time": "2019-12-28T22:21:18.028314Z",
     "start_time": "2019-12-28T22:21:13.665118Z"
    },
    "scrolled": true
   },
   "outputs": [
    {
     "name": "stdout",
     "output_type": "stream",
     "text": [
      "train score: 81.58%\n",
      "test score: 75.0%\n",
      "cross val score: 75.74%\n",
      "AUC  : 57.27%\n",
      "\n",
      "Classification Report:\n",
      "              precision    recall  f1-score   support\n",
      "\n",
      "           0       0.77      0.95      0.85       370\n",
      "           1       0.59      0.19      0.29       134\n",
      "\n",
      "   micro avg       0.75      0.75      0.75       504\n",
      "   macro avg       0.68      0.57      0.57       504\n",
      "weighted avg       0.72      0.75      0.70       504\n",
      "\n",
      "\n",
      "Confusion Matrix: 1=Fatal, 0=Minor\n"
     ]
    },
    {
     "data": {
      "text/html": [
       "<div>\n",
       "<style scoped>\n",
       "    .dataframe tbody tr th:only-of-type {\n",
       "        vertical-align: middle;\n",
       "    }\n",
       "\n",
       "    .dataframe tbody tr th {\n",
       "        vertical-align: top;\n",
       "    }\n",
       "\n",
       "    .dataframe thead th {\n",
       "        text-align: right;\n",
       "    }\n",
       "</style>\n",
       "<table border=\"1\" class=\"dataframe\">\n",
       "  <thead>\n",
       "    <tr style=\"text-align: right;\">\n",
       "      <th>Predicted</th>\n",
       "      <th>0</th>\n",
       "      <th>1</th>\n",
       "      <th>All</th>\n",
       "    </tr>\n",
       "    <tr>\n",
       "      <th>Actual</th>\n",
       "      <th></th>\n",
       "      <th></th>\n",
       "      <th></th>\n",
       "    </tr>\n",
       "  </thead>\n",
       "  <tbody>\n",
       "    <tr>\n",
       "      <th>0</th>\n",
       "      <td>352</td>\n",
       "      <td>18</td>\n",
       "      <td>370</td>\n",
       "    </tr>\n",
       "    <tr>\n",
       "      <th>1</th>\n",
       "      <td>108</td>\n",
       "      <td>26</td>\n",
       "      <td>134</td>\n",
       "    </tr>\n",
       "    <tr>\n",
       "      <th>All</th>\n",
       "      <td>460</td>\n",
       "      <td>44</td>\n",
       "      <td>504</td>\n",
       "    </tr>\n",
       "  </tbody>\n",
       "</table>\n",
       "</div>"
      ],
      "text/plain": [
       "Predicted    0   1  All\n",
       "Actual                 \n",
       "0          352  18  370\n",
       "1          108  26  134\n",
       "All        460  44  504"
      ]
     },
     "metadata": {},
     "output_type": "display_data"
    }
   ],
   "source": [
    "model_report(xgb_gs_model)"
   ]
  },
  {
   "cell_type": "code",
   "execution_count": 60,
   "metadata": {
    "ExecuteTime": {
     "end_time": "2019-12-28T22:21:18.035136Z",
     "start_time": "2019-12-28T22:21:18.031224Z"
    },
    "code_folding": [
     0
    ]
   },
   "outputs": [],
   "source": [
    "# xgb_gs_model_train_score = xgb_gs_model.score(X_train, y_train)\n",
    "# print(\"train score: {:.4}%\".format(xgb_gs_model_train_score * 100))\n",
    "\n",
    "# xgb_gs_model_test_score = xgb_gs_model.score(X_test, y_test)\n",
    "# print(\"test score: {:.4}%\".format(xgb_gs_model_test_score * 100))\n",
    "\n",
    "# xgb_gs_cv_score = np.mean(cross_val_score(gbt_gs_model, X, y, cv=3))\n",
    "# print(\"cross val score: {:.4}%\".format(xgb_gs_cv_score * 100))\n",
    "\n",
    "# false_positive_rate, true_positive_rate, thresholds = roc_curve(actuals, predictions)\n",
    "# roc_auc = auc(false_positive_rate, true_positive_rate)\n",
    "# print(\"AUC : {:.4}%\".format(roc_auc * 100))\n",
    "\n",
    "# print(\"\\nClassification Report:\")\n",
    "# print(classification_report(actuals, predictions))\n",
    "\n",
    "# print(\"\\nConfusion Matrix: 1=Fatal, 0=Minor\")\n",
    "# pd.crosstab(actuals, predictions, rownames=['Actual'], colnames=['Predicted'], margins=True)"
   ]
  },
  {
   "cell_type": "code",
   "execution_count": 61,
   "metadata": {
    "ExecuteTime": {
     "end_time": "2019-12-28T22:21:18.042558Z",
     "start_time": "2019-12-28T22:21:18.038490Z"
    },
    "code_folding": [
     0
    ]
   },
   "outputs": [],
   "source": [
    "# model = XGBClassifier(random_state=3)\n",
    "# model.fit(X_train, y_train)\n",
    "# train_preds = model.predict(X_train)\n",
    "# val_preds = model.predict(X_test)\n",
    "# training_accuracy = accuracy_score(y_train, train_preds)\n",
    "# val_accuracy = accuracy_score(y_test, val_preds)\n",
    "# training_precision = precision_score(y_train, train_preds)\n",
    "# val_precision = precision_score(y_test, val_preds)\n",
    "\n",
    "# print(\"Training Accuracy:   {:.4}%\".format(training_accuracy * 100))\n",
    "# print(\"Validation Accuracy: {:.4}%\".format(val_accuracy * 100))\n",
    "# print('----------------------------')\n",
    "# print(\"Training precision:   {:.4}%\".format(training_precision * 100))\n",
    "# print(\"Validation precision: {:.4}%\".format(val_precision * 100))\n",
    "# print('----------------------------')\n",
    "# print(\"Training Confusion Matrix:\")\n",
    "# print(confusion_matrix(y_train, train_preds))\n",
    "# print(\"Validation Confusion Matrix:\")\n",
    "# print(confusion_matrix(y_test, val_preds))"
   ]
  },
  {
   "cell_type": "code",
   "execution_count": 62,
   "metadata": {
    "ExecuteTime": {
     "end_time": "2019-12-28T22:21:18.051537Z",
     "start_time": "2019-12-28T22:21:18.046297Z"
    },
    "code_folding": [
     0
    ]
   },
   "outputs": [],
   "source": [
    "# param_grid_xgb = [\n",
    "#     {'xgb_model__min_child_weight': [0.0001, 0.001],\n",
    "#     'xgb_model__learning_rate': [0.1],\n",
    "#     'xgb_model__n_estimators': [50],\n",
    "#     'xgb_model__max_depth': [2, 3]}\n",
    "# ]\n",
    "\n",
    "# # Construct Grid Search\n",
    "# gs_xgb = GridSearchCV(estimator=pipe_xgb,\n",
    "#                     param_grid=param_grid_xgb,\n",
    "#                     scoring='accuracy',\n",
    "#                     cv=4, n_jobs=-1, verbose=1)\n",
    "\n",
    "# # Fit using grid search\n",
    "# gs_xgb.fit(X_train, y_train)\n",
    "\n",
    "# # Best accuracy and parameters\n",
    "# print('Best accuracy: {:.4}%'.format(gs_xgb.best_score_ * 100))\n",
    "# print('Best Params:\\n', gs_xgb.best_params_)"
   ]
  },
  {
   "cell_type": "code",
   "execution_count": 63,
   "metadata": {
    "ExecuteTime": {
     "end_time": "2019-12-28T22:21:18.061207Z",
     "start_time": "2019-12-28T22:21:18.055230Z"
    },
    "code_folding": [
     0
    ]
   },
   "outputs": [],
   "source": [
    "# xgb_gs_model = XGBClassifier(learning_rate=0.1,\n",
    "#                              max_depth=3,\n",
    "#                              min_child_weight=0.001,\n",
    "#                              n_estimators=50)\n",
    "# xgb_gs_model.fit(X_train, y_train)\n",
    "\n",
    "# predictions = xgb_gs_model.predict(X_test)\n",
    "# actuals = y_test"
   ]
  },
  {
   "cell_type": "code",
   "execution_count": 64,
   "metadata": {
    "ExecuteTime": {
     "end_time": "2019-12-28T22:21:18.072596Z",
     "start_time": "2019-12-28T22:21:18.066644Z"
    },
    "code_folding": [
     0
    ]
   },
   "outputs": [],
   "source": [
    "# xgb_gs_model_train_score = xgb_gs_model.score(X_train, y_train)\n",
    "# print(\"Training Accuracy: {:.4}%\".format(xgb_gs_model_train_score * 100))\n",
    "\n",
    "# xgb_gs_model_test_score = xgb_gs_model.score(X_test, y_test)\n",
    "# print(\"Testing Accuracy: {:.4}%\".format(xgb_gs_model_test_score * 100))\n",
    "\n",
    "# xgb_gs_cv_score = np.mean(cross_val_score(gbt_gs_model, X_train, y_train, cv=3))\n",
    "# print(\"Cross Val Score: {:.4}%\".format(xgb_gs_cv_score * 100))\n",
    "\n",
    "# false_positive_rate, true_positive_rate, thresholds = roc_curve(actuals, predictions)\n",
    "# roc_auc = auc(false_positive_rate, true_positive_rate)\n",
    "# print(\"AUC is : {:.4}%\".format(roc_auc * 100))\n",
    "\n",
    "# print(\"\\nClassification Report:\")\n",
    "# print(classification_report(actuals, predictions))\n",
    "\n",
    "# print(\"\\nConfusion Matrix: 1=Fatal, 0=Minor\")\n",
    "# pd.crosstab(actuals, predictions, rownames=['Actual'], colnames=['Predicted'], margins=True)"
   ]
  },
  {
   "cell_type": "markdown",
   "metadata": {},
   "source": [
    "## SVC"
   ]
  },
  {
   "cell_type": "code",
   "execution_count": 82,
   "metadata": {
    "ExecuteTime": {
     "end_time": "2019-12-28T22:30:24.122925Z",
     "start_time": "2019-12-28T22:30:23.041536Z"
    }
   },
   "outputs": [],
   "source": [
    "svm_model = svm.SVC()\n",
    "svm_model.fit(X_train, y_train)\n",
    "\n",
    "predictions = gbt_model.predict(X_test)\n",
    "actuals = y_test"
   ]
  },
  {
   "cell_type": "code",
   "execution_count": 83,
   "metadata": {
    "ExecuteTime": {
     "end_time": "2019-12-28T22:30:43.487764Z",
     "start_time": "2019-12-28T22:30:39.553058Z"
    }
   },
   "outputs": [
    {
     "name": "stdout",
     "output_type": "stream",
     "text": [
      "train score: 83.12%\n",
      "test score: 74.21%\n",
      "cross val score: 73.27%\n",
      "AUC  : 58.02%\n",
      "\n",
      "Classification Report:\n",
      "              precision    recall  f1-score   support\n",
      "\n",
      "           0       0.77      0.95      0.85       370\n",
      "           1       0.61      0.21      0.31       134\n",
      "\n",
      "   micro avg       0.75      0.75      0.75       504\n",
      "   macro avg       0.69      0.58      0.58       504\n",
      "weighted avg       0.73      0.75      0.71       504\n",
      "\n",
      "\n",
      "Confusion Matrix: 1=Fatal, 0=Minor\n"
     ]
    },
    {
     "data": {
      "text/html": [
       "<div>\n",
       "<style scoped>\n",
       "    .dataframe tbody tr th:only-of-type {\n",
       "        vertical-align: middle;\n",
       "    }\n",
       "\n",
       "    .dataframe tbody tr th {\n",
       "        vertical-align: top;\n",
       "    }\n",
       "\n",
       "    .dataframe thead th {\n",
       "        text-align: right;\n",
       "    }\n",
       "</style>\n",
       "<table border=\"1\" class=\"dataframe\">\n",
       "  <thead>\n",
       "    <tr style=\"text-align: right;\">\n",
       "      <th>Predicted</th>\n",
       "      <th>0</th>\n",
       "      <th>1</th>\n",
       "      <th>All</th>\n",
       "    </tr>\n",
       "    <tr>\n",
       "      <th>Actual</th>\n",
       "      <th></th>\n",
       "      <th></th>\n",
       "      <th></th>\n",
       "    </tr>\n",
       "  </thead>\n",
       "  <tbody>\n",
       "    <tr>\n",
       "      <th>0</th>\n",
       "      <td>352</td>\n",
       "      <td>18</td>\n",
       "      <td>370</td>\n",
       "    </tr>\n",
       "    <tr>\n",
       "      <th>1</th>\n",
       "      <td>106</td>\n",
       "      <td>28</td>\n",
       "      <td>134</td>\n",
       "    </tr>\n",
       "    <tr>\n",
       "      <th>All</th>\n",
       "      <td>458</td>\n",
       "      <td>46</td>\n",
       "      <td>504</td>\n",
       "    </tr>\n",
       "  </tbody>\n",
       "</table>\n",
       "</div>"
      ],
      "text/plain": [
       "Predicted    0   1  All\n",
       "Actual                 \n",
       "0          352  18  370\n",
       "1          106  28  134\n",
       "All        458  46  504"
      ]
     },
     "metadata": {},
     "output_type": "display_data"
    }
   ],
   "source": [
    "model_report(svm_model)"
   ]
  },
  {
   "cell_type": "code",
   "execution_count": 84,
   "metadata": {
    "ExecuteTime": {
     "end_time": "2019-12-28T22:38:20.146647Z",
     "start_time": "2019-12-28T22:33:59.740026Z"
    }
   },
   "outputs": [
    {
     "name": "stdout",
     "output_type": "stream",
     "text": [
      "Fitting 3 folds for each of 18 candidates, totalling 54 fits\n",
      "[CV] clf__C=0.1, clf__gamma=0.001, clf__kernel=rbf ...................\n"
     ]
    },
    {
     "name": "stderr",
     "output_type": "stream",
     "text": [
      "[Parallel(n_jobs=1)]: Using backend SequentialBackend with 1 concurrent workers.\n"
     ]
    },
    {
     "name": "stdout",
     "output_type": "stream",
     "text": [
      "[CV] .... clf__C=0.1, clf__gamma=0.001, clf__kernel=rbf, total=   0.4s\n",
      "[CV] clf__C=0.1, clf__gamma=0.001, clf__kernel=rbf ...................\n"
     ]
    },
    {
     "name": "stderr",
     "output_type": "stream",
     "text": [
      "[Parallel(n_jobs=1)]: Done   1 out of   1 | elapsed:    0.6s remaining:    0.0s\n"
     ]
    },
    {
     "name": "stdout",
     "output_type": "stream",
     "text": [
      "[CV] .... clf__C=0.1, clf__gamma=0.001, clf__kernel=rbf, total=   0.4s\n",
      "[CV] clf__C=0.1, clf__gamma=0.001, clf__kernel=rbf ...................\n",
      "[CV] .... clf__C=0.1, clf__gamma=0.001, clf__kernel=rbf, total=   0.4s\n",
      "[CV] clf__C=0.1, clf__gamma=0.001, clf__kernel=linear ................\n",
      "[CV] . clf__C=0.1, clf__gamma=0.001, clf__kernel=linear, total=   0.5s\n",
      "[CV] clf__C=0.1, clf__gamma=0.001, clf__kernel=linear ................\n",
      "[CV] . clf__C=0.1, clf__gamma=0.001, clf__kernel=linear, total=   0.5s\n",
      "[CV] clf__C=0.1, clf__gamma=0.001, clf__kernel=linear ................\n",
      "[CV] . clf__C=0.1, clf__gamma=0.001, clf__kernel=linear, total=   0.7s\n",
      "[CV] clf__C=0.1, clf__gamma=0.01, clf__kernel=rbf ....................\n",
      "[CV] ..... clf__C=0.1, clf__gamma=0.01, clf__kernel=rbf, total=   0.5s\n",
      "[CV] clf__C=0.1, clf__gamma=0.01, clf__kernel=rbf ....................\n",
      "[CV] ..... clf__C=0.1, clf__gamma=0.01, clf__kernel=rbf, total=   0.5s\n",
      "[CV] clf__C=0.1, clf__gamma=0.01, clf__kernel=rbf ....................\n",
      "[CV] ..... clf__C=0.1, clf__gamma=0.01, clf__kernel=rbf, total=   0.5s\n",
      "[CV] clf__C=0.1, clf__gamma=0.01, clf__kernel=linear .................\n",
      "[CV] .. clf__C=0.1, clf__gamma=0.01, clf__kernel=linear, total=   0.4s\n",
      "[CV] clf__C=0.1, clf__gamma=0.01, clf__kernel=linear .................\n",
      "[CV] .. clf__C=0.1, clf__gamma=0.01, clf__kernel=linear, total=   0.4s\n",
      "[CV] clf__C=0.1, clf__gamma=0.01, clf__kernel=linear .................\n",
      "[CV] .. clf__C=0.1, clf__gamma=0.01, clf__kernel=linear, total=   0.6s\n",
      "[CV] clf__C=0.1, clf__gamma=0.1, clf__kernel=rbf .....................\n",
      "[CV] ...... clf__C=0.1, clf__gamma=0.1, clf__kernel=rbf, total=   0.6s\n",
      "[CV] clf__C=0.1, clf__gamma=0.1, clf__kernel=rbf .....................\n",
      "[CV] ...... clf__C=0.1, clf__gamma=0.1, clf__kernel=rbf, total=   0.6s\n",
      "[CV] clf__C=0.1, clf__gamma=0.1, clf__kernel=rbf .....................\n",
      "[CV] ...... clf__C=0.1, clf__gamma=0.1, clf__kernel=rbf, total=   0.6s\n",
      "[CV] clf__C=0.1, clf__gamma=0.1, clf__kernel=linear ..................\n",
      "[CV] ... clf__C=0.1, clf__gamma=0.1, clf__kernel=linear, total=   0.4s\n",
      "[CV] clf__C=0.1, clf__gamma=0.1, clf__kernel=linear ..................\n",
      "[CV] ... clf__C=0.1, clf__gamma=0.1, clf__kernel=linear, total=   0.5s\n",
      "[CV] clf__C=0.1, clf__gamma=0.1, clf__kernel=linear ..................\n",
      "[CV] ... clf__C=0.1, clf__gamma=0.1, clf__kernel=linear, total=   0.5s\n",
      "[CV] clf__C=1, clf__gamma=0.001, clf__kernel=rbf .....................\n",
      "[CV] ...... clf__C=1, clf__gamma=0.001, clf__kernel=rbf, total=   0.4s\n",
      "[CV] clf__C=1, clf__gamma=0.001, clf__kernel=rbf .....................\n",
      "[CV] ...... clf__C=1, clf__gamma=0.001, clf__kernel=rbf, total=   0.4s\n",
      "[CV] clf__C=1, clf__gamma=0.001, clf__kernel=rbf .....................\n",
      "[CV] ...... clf__C=1, clf__gamma=0.001, clf__kernel=rbf, total=   0.4s\n",
      "[CV] clf__C=1, clf__gamma=0.001, clf__kernel=linear ..................\n",
      "[CV] ... clf__C=1, clf__gamma=0.001, clf__kernel=linear, total=   0.8s\n",
      "[CV] clf__C=1, clf__gamma=0.001, clf__kernel=linear ..................\n",
      "[CV] ... clf__C=1, clf__gamma=0.001, clf__kernel=linear, total=   1.9s\n",
      "[CV] clf__C=1, clf__gamma=0.001, clf__kernel=linear ..................\n",
      "[CV] ... clf__C=1, clf__gamma=0.001, clf__kernel=linear, total=   2.7s\n",
      "[CV] clf__C=1, clf__gamma=0.01, clf__kernel=rbf ......................\n",
      "[CV] ....... clf__C=1, clf__gamma=0.01, clf__kernel=rbf, total=   0.5s\n",
      "[CV] clf__C=1, clf__gamma=0.01, clf__kernel=rbf ......................\n",
      "[CV] ....... clf__C=1, clf__gamma=0.01, clf__kernel=rbf, total=   0.5s\n",
      "[CV] clf__C=1, clf__gamma=0.01, clf__kernel=rbf ......................\n",
      "[CV] ....... clf__C=1, clf__gamma=0.01, clf__kernel=rbf, total=   0.5s\n",
      "[CV] clf__C=1, clf__gamma=0.01, clf__kernel=linear ...................\n",
      "[CV] .... clf__C=1, clf__gamma=0.01, clf__kernel=linear, total=   0.9s\n",
      "[CV] clf__C=1, clf__gamma=0.01, clf__kernel=linear ...................\n",
      "[CV] .... clf__C=1, clf__gamma=0.01, clf__kernel=linear, total=   2.5s\n",
      "[CV] clf__C=1, clf__gamma=0.01, clf__kernel=linear ...................\n",
      "[CV] .... clf__C=1, clf__gamma=0.01, clf__kernel=linear, total=   1.9s\n",
      "[CV] clf__C=1, clf__gamma=0.1, clf__kernel=rbf .......................\n",
      "[CV] ........ clf__C=1, clf__gamma=0.1, clf__kernel=rbf, total=   0.6s\n",
      "[CV] clf__C=1, clf__gamma=0.1, clf__kernel=rbf .......................\n",
      "[CV] ........ clf__C=1, clf__gamma=0.1, clf__kernel=rbf, total=   0.6s\n",
      "[CV] clf__C=1, clf__gamma=0.1, clf__kernel=rbf .......................\n",
      "[CV] ........ clf__C=1, clf__gamma=0.1, clf__kernel=rbf, total=   0.6s\n",
      "[CV] clf__C=1, clf__gamma=0.1, clf__kernel=linear ....................\n",
      "[CV] ..... clf__C=1, clf__gamma=0.1, clf__kernel=linear, total=   0.9s\n",
      "[CV] clf__C=1, clf__gamma=0.1, clf__kernel=linear ....................\n",
      "[CV] ..... clf__C=1, clf__gamma=0.1, clf__kernel=linear, total=   1.4s\n",
      "[CV] clf__C=1, clf__gamma=0.1, clf__kernel=linear ....................\n",
      "[CV] ..... clf__C=1, clf__gamma=0.1, clf__kernel=linear, total=   2.4s\n",
      "[CV] clf__C=10, clf__gamma=0.001, clf__kernel=rbf ....................\n",
      "[CV] ..... clf__C=10, clf__gamma=0.001, clf__kernel=rbf, total=   0.4s\n",
      "[CV] clf__C=10, clf__gamma=0.001, clf__kernel=rbf ....................\n",
      "[CV] ..... clf__C=10, clf__gamma=0.001, clf__kernel=rbf, total=   0.4s\n",
      "[CV] clf__C=10, clf__gamma=0.001, clf__kernel=rbf ....................\n",
      "[CV] ..... clf__C=10, clf__gamma=0.001, clf__kernel=rbf, total=   0.4s\n",
      "[CV] clf__C=10, clf__gamma=0.001, clf__kernel=linear .................\n",
      "[CV] .. clf__C=10, clf__gamma=0.001, clf__kernel=linear, total=  31.0s\n",
      "[CV] clf__C=10, clf__gamma=0.001, clf__kernel=linear .................\n",
      "[CV] .. clf__C=10, clf__gamma=0.001, clf__kernel=linear, total=  20.1s\n",
      "[CV] clf__C=10, clf__gamma=0.001, clf__kernel=linear .................\n",
      "[CV] .. clf__C=10, clf__gamma=0.001, clf__kernel=linear, total=  49.6s\n",
      "[CV] clf__C=10, clf__gamma=0.01, clf__kernel=rbf .....................\n",
      "[CV] ...... clf__C=10, clf__gamma=0.01, clf__kernel=rbf, total=   0.6s\n",
      "[CV] clf__C=10, clf__gamma=0.01, clf__kernel=rbf .....................\n",
      "[CV] ...... clf__C=10, clf__gamma=0.01, clf__kernel=rbf, total=   0.6s\n",
      "[CV] clf__C=10, clf__gamma=0.01, clf__kernel=rbf .....................\n",
      "[CV] ...... clf__C=10, clf__gamma=0.01, clf__kernel=rbf, total=   0.6s\n",
      "[CV] clf__C=10, clf__gamma=0.01, clf__kernel=linear ..................\n",
      "[CV] ... clf__C=10, clf__gamma=0.01, clf__kernel=linear, total=  25.1s\n",
      "[CV] clf__C=10, clf__gamma=0.01, clf__kernel=linear ..................\n",
      "[CV] ... clf__C=10, clf__gamma=0.01, clf__kernel=linear, total=  12.9s\n",
      "[CV] clf__C=10, clf__gamma=0.01, clf__kernel=linear ..................\n",
      "[CV] ... clf__C=10, clf__gamma=0.01, clf__kernel=linear, total=  19.5s\n",
      "[CV] clf__C=10, clf__gamma=0.1, clf__kernel=rbf ......................\n",
      "[CV] ....... clf__C=10, clf__gamma=0.1, clf__kernel=rbf, total=   0.6s\n",
      "[CV] clf__C=10, clf__gamma=0.1, clf__kernel=rbf ......................\n",
      "[CV] ....... clf__C=10, clf__gamma=0.1, clf__kernel=rbf, total=   0.6s\n",
      "[CV] clf__C=10, clf__gamma=0.1, clf__kernel=rbf ......................\n",
      "[CV] ....... clf__C=10, clf__gamma=0.1, clf__kernel=rbf, total=   0.5s\n",
      "[CV] clf__C=10, clf__gamma=0.1, clf__kernel=linear ...................\n",
      "[CV] .... clf__C=10, clf__gamma=0.1, clf__kernel=linear, total=   5.7s\n",
      "[CV] clf__C=10, clf__gamma=0.1, clf__kernel=linear ...................\n",
      "[CV] .... clf__C=10, clf__gamma=0.1, clf__kernel=linear, total=  23.4s\n",
      "[CV] clf__C=10, clf__gamma=0.1, clf__kernel=linear ...................\n",
      "[CV] .... clf__C=10, clf__gamma=0.1, clf__kernel=linear, total=  28.4s\n"
     ]
    },
    {
     "name": "stderr",
     "output_type": "stream",
     "text": [
      "[Parallel(n_jobs=1)]: Done  54 out of  54 | elapsed:  4.3min finished\n"
     ]
    },
    {
     "name": "stdout",
     "output_type": "stream",
     "text": [
      "Best accuracy: 0.750\n",
      "\n",
      "Best params:\n",
      " {'clf__C': 0.1, 'clf__gamma': 0.001, 'clf__kernel': 'rbf'}\n"
     ]
    }
   ],
   "source": [
    "# Construct pipeline for support vector grid search\n",
    "\n",
    "pipe_svm = Pipeline([('pca', PCA(n_components=115)),\n",
    "            ('clf', svm.SVC(random_state=3))])\n",
    "\n",
    "# Set grid search params\n",
    "param_grid_svm = [\n",
    " # {'clf__C': [0.1, 1]  , 'clf__kernel': ['linear']},\n",
    "  {'clf__C': [0.1, 1, 10], 'clf__gamma': [0.001, 0.01, 0.1], 'clf__kernel': ['rbf','linear']},\n",
    " ]\n",
    "\n",
    "# Construct grid search\n",
    "gs_svm = GridSearchCV(estimator=pipe_svm,\n",
    "            param_grid=param_grid_svm,\n",
    "            scoring='accuracy',\n",
    "            cv=3, verbose=2, return_train_score = True)\n",
    "\n",
    "# Fit using grid search\n",
    "gs_svm.fit(X_train, y_train)\n",
    "\n",
    "# Best accuracy\n",
    "print('Best accuracy: %.3f' % gs_svm.best_score_)\n",
    "\n",
    "# Best params\n",
    "print('\\nBest params:\\n', gs_svm.best_params_)"
   ]
  },
  {
   "cell_type": "code",
   "execution_count": 85,
   "metadata": {
    "ExecuteTime": {
     "end_time": "2019-12-28T22:38:50.358351Z",
     "start_time": "2019-12-28T22:38:48.185199Z"
    }
   },
   "outputs": [],
   "source": [
    "svm_gs_model = XGBClassifier(clf_C=0.1,\n",
    "                             clf_gamma=0.001,\n",
    "                             clf_kernel='rbf',\n",
    "                             )\n",
    "svm_gs_model.fit(X_train, y_train)\n",
    "\n",
    "predictions = svm_gs_model.predict(X_test)\n",
    "actuals = y_test"
   ]
  },
  {
   "cell_type": "code",
   "execution_count": 86,
   "metadata": {
    "ExecuteTime": {
     "end_time": "2019-12-28T22:39:10.820384Z",
     "start_time": "2019-12-28T22:39:04.855201Z"
    }
   },
   "outputs": [
    {
     "name": "stdout",
     "output_type": "stream",
     "text": [
      "train score: 81.13%\n",
      "test score: 74.8%\n",
      "cross val score: 75.14%\n",
      "AUC  : 56.9%\n",
      "\n",
      "Classification Report:\n",
      "              precision    recall  f1-score   support\n",
      "\n",
      "           0       0.76      0.95      0.85       370\n",
      "           1       0.58      0.19      0.28       134\n",
      "\n",
      "   micro avg       0.75      0.75      0.75       504\n",
      "   macro avg       0.67      0.57      0.56       504\n",
      "weighted avg       0.72      0.75      0.70       504\n",
      "\n",
      "\n",
      "Confusion Matrix: 1=Fatal, 0=Minor\n"
     ]
    },
    {
     "data": {
      "text/html": [
       "<div>\n",
       "<style scoped>\n",
       "    .dataframe tbody tr th:only-of-type {\n",
       "        vertical-align: middle;\n",
       "    }\n",
       "\n",
       "    .dataframe tbody tr th {\n",
       "        vertical-align: top;\n",
       "    }\n",
       "\n",
       "    .dataframe thead th {\n",
       "        text-align: right;\n",
       "    }\n",
       "</style>\n",
       "<table border=\"1\" class=\"dataframe\">\n",
       "  <thead>\n",
       "    <tr style=\"text-align: right;\">\n",
       "      <th>Predicted</th>\n",
       "      <th>0</th>\n",
       "      <th>1</th>\n",
       "      <th>All</th>\n",
       "    </tr>\n",
       "    <tr>\n",
       "      <th>Actual</th>\n",
       "      <th></th>\n",
       "      <th></th>\n",
       "      <th></th>\n",
       "    </tr>\n",
       "  </thead>\n",
       "  <tbody>\n",
       "    <tr>\n",
       "      <th>0</th>\n",
       "      <td>352</td>\n",
       "      <td>18</td>\n",
       "      <td>370</td>\n",
       "    </tr>\n",
       "    <tr>\n",
       "      <th>1</th>\n",
       "      <td>109</td>\n",
       "      <td>25</td>\n",
       "      <td>134</td>\n",
       "    </tr>\n",
       "    <tr>\n",
       "      <th>All</th>\n",
       "      <td>461</td>\n",
       "      <td>43</td>\n",
       "      <td>504</td>\n",
       "    </tr>\n",
       "  </tbody>\n",
       "</table>\n",
       "</div>"
      ],
      "text/plain": [
       "Predicted    0   1  All\n",
       "Actual                 \n",
       "0          352  18  370\n",
       "1          109  25  134\n",
       "All        461  43  504"
      ]
     },
     "metadata": {},
     "output_type": "display_data"
    }
   ],
   "source": [
    "model_report(svm_gs_model)"
   ]
  },
  {
   "cell_type": "code",
   "execution_count": 88,
   "metadata": {
    "ExecuteTime": {
     "end_time": "2019-12-28T22:39:54.914126Z",
     "start_time": "2019-12-28T22:39:54.908302Z"
    }
   },
   "outputs": [],
   "source": [
    "#from sklearn import svm, grid_search\n",
    "def svc_param_selection(X, y, nfolds):\n",
    "    Cs = [0.001, 0.01, 0.1, 1, 10]\n",
    "    gammas = [0.001, 0.01, 0.1, 1]\n",
    "    param_grid = {'C': Cs, 'gamma' : gammas}\n",
    "    grid_search = GridSearchCV(svm.SVC(kernel='rbf'), param_grid, cv=nfolds)\n",
    "    grid_search.fit(X, y)\n",
    "    grid_search.best_params_\n",
    "    return grid_search.best_params_"
   ]
  },
  {
   "cell_type": "code",
   "execution_count": 89,
   "metadata": {
    "ExecuteTime": {
     "end_time": "2019-12-28T22:41:46.602849Z",
     "start_time": "2019-12-28T22:39:55.785091Z"
    }
   },
   "outputs": [
    {
     "data": {
      "text/plain": [
       "{'C': 10, 'gamma': 0.001}"
      ]
     },
     "execution_count": 89,
     "metadata": {},
     "output_type": "execute_result"
    }
   ],
   "source": [
    "svc_param_selection(X_train, y_train, 5)"
   ]
  },
  {
   "cell_type": "code",
   "execution_count": 81,
   "metadata": {
    "ExecuteTime": {
     "end_time": "2019-12-28T22:29:09.362170Z",
     "start_time": "2019-12-28T22:29:03.580148Z"
    }
   },
   "outputs": [
    {
     "name": "stdout",
     "output_type": "stream",
     "text": [
      "train score: 81.13%\n",
      "test score: 74.8%\n",
      "cross val score: 75.14%\n",
      "AUC  : 56.9%\n",
      "\n",
      "Classification Report:\n",
      "              precision    recall  f1-score   support\n",
      "\n",
      "           0       0.76      0.95      0.85       370\n",
      "           1       0.58      0.19      0.28       134\n",
      "\n",
      "   micro avg       0.75      0.75      0.75       504\n",
      "   macro avg       0.67      0.57      0.56       504\n",
      "weighted avg       0.72      0.75      0.70       504\n",
      "\n",
      "\n",
      "Confusion Matrix: 1=Fatal, 0=Minor\n"
     ]
    },
    {
     "data": {
      "text/html": [
       "<div>\n",
       "<style scoped>\n",
       "    .dataframe tbody tr th:only-of-type {\n",
       "        vertical-align: middle;\n",
       "    }\n",
       "\n",
       "    .dataframe tbody tr th {\n",
       "        vertical-align: top;\n",
       "    }\n",
       "\n",
       "    .dataframe thead th {\n",
       "        text-align: right;\n",
       "    }\n",
       "</style>\n",
       "<table border=\"1\" class=\"dataframe\">\n",
       "  <thead>\n",
       "    <tr style=\"text-align: right;\">\n",
       "      <th>Predicted</th>\n",
       "      <th>0</th>\n",
       "      <th>1</th>\n",
       "      <th>All</th>\n",
       "    </tr>\n",
       "    <tr>\n",
       "      <th>Actual</th>\n",
       "      <th></th>\n",
       "      <th></th>\n",
       "      <th></th>\n",
       "    </tr>\n",
       "  </thead>\n",
       "  <tbody>\n",
       "    <tr>\n",
       "      <th>0</th>\n",
       "      <td>352</td>\n",
       "      <td>18</td>\n",
       "      <td>370</td>\n",
       "    </tr>\n",
       "    <tr>\n",
       "      <th>1</th>\n",
       "      <td>109</td>\n",
       "      <td>25</td>\n",
       "      <td>134</td>\n",
       "    </tr>\n",
       "    <tr>\n",
       "      <th>All</th>\n",
       "      <td>461</td>\n",
       "      <td>43</td>\n",
       "      <td>504</td>\n",
       "    </tr>\n",
       "  </tbody>\n",
       "</table>\n",
       "</div>"
      ],
      "text/plain": [
       "Predicted    0   1  All\n",
       "Actual                 \n",
       "0          352  18  370\n",
       "1          109  25  134\n",
       "All        461  43  504"
      ]
     },
     "metadata": {},
     "output_type": "display_data"
    }
   ],
   "source": [
    "model_report(svm_gs_model)"
   ]
  },
  {
   "cell_type": "code",
   "execution_count": 66,
   "metadata": {
    "ExecuteTime": {
     "end_time": "2019-12-28T22:25:53.076242Z",
     "start_time": "2019-12-28T22:21:37.872706Z"
    }
   },
   "outputs": [
    {
     "name": "stdout",
     "output_type": "stream",
     "text": [
      "# Tuning hyper-parameters for precision\n",
      "\n",
      "Best parameters set found on development set:\n",
      "\n",
      "{'C': 10, 'gamma': 0.001, 'kernel': 'rbf'}\n",
      "\n",
      "Grid scores on development set:\n",
      "\n",
      "0.375 (+/-0.000) for {'C': 1, 'gamma': 0.001, 'kernel': 'rbf'}\n",
      "0.375 (+/-0.000) for {'C': 1, 'gamma': 0.0001, 'kernel': 'rbf'}\n",
      "0.635 (+/-0.045) for {'C': 10, 'gamma': 0.001, 'kernel': 'rbf'}\n",
      "0.458 (+/-0.236) for {'C': 10, 'gamma': 0.0001, 'kernel': 'rbf'}\n",
      "0.561 (+/-0.029) for {'C': 100, 'gamma': 0.001, 'kernel': 'rbf'}\n",
      "0.635 (+/-0.020) for {'C': 100, 'gamma': 0.0001, 'kernel': 'rbf'}\n",
      "0.613 (+/-0.022) for {'C': 1, 'kernel': 'linear'}\n",
      "0.614 (+/-0.020) for {'C': 10, 'kernel': 'linear'}\n",
      "\n",
      "Detailed classification report:\n",
      "\n",
      "The model is trained on the full development set.\n",
      "The scores are computed on the full evaluation set.\n",
      "\n",
      "              precision    recall  f1-score   support\n",
      "\n",
      "           0       0.76      0.96      0.85       370\n",
      "           1       0.57      0.15      0.24       134\n",
      "\n",
      "   micro avg       0.74      0.74      0.74       504\n",
      "   macro avg       0.66      0.55      0.54       504\n",
      "weighted avg       0.71      0.74      0.68       504\n",
      "\n",
      "\n",
      "# Tuning hyper-parameters for recall\n",
      "\n",
      "Best parameters set found on development set:\n",
      "\n",
      "{'C': 10, 'kernel': 'linear'}\n",
      "\n",
      "Grid scores on development set:\n",
      "\n",
      "0.500 (+/-0.000) for {'C': 1, 'gamma': 0.001, 'kernel': 'rbf'}\n",
      "0.500 (+/-0.000) for {'C': 1, 'gamma': 0.0001, 'kernel': 'rbf'}\n",
      "0.554 (+/-0.022) for {'C': 10, 'gamma': 0.001, 'kernel': 'rbf'}\n",
      "0.500 (+/-0.003) for {'C': 10, 'gamma': 0.0001, 'kernel': 'rbf'}\n",
      "0.548 (+/-0.025) for {'C': 100, 'gamma': 0.001, 'kernel': 'rbf'}\n",
      "0.552 (+/-0.017) for {'C': 100, 'gamma': 0.0001, 'kernel': 'rbf'}\n",
      "0.566 (+/-0.018) for {'C': 1, 'kernel': 'linear'}\n",
      "0.569 (+/-0.017) for {'C': 10, 'kernel': 'linear'}\n",
      "\n",
      "Detailed classification report:\n",
      "\n",
      "The model is trained on the full development set.\n",
      "The scores are computed on the full evaluation set.\n",
      "\n",
      "              precision    recall  f1-score   support\n",
      "\n",
      "           0       0.76      0.94      0.84       370\n",
      "           1       0.48      0.16      0.24       134\n",
      "\n",
      "   micro avg       0.73      0.73      0.73       504\n",
      "   macro avg       0.62      0.55      0.54       504\n",
      "weighted avg       0.68      0.73      0.68       504\n",
      "\n",
      "\n"
     ]
    }
   ],
   "source": [
    "# grid search\n",
    "tuned_parameters = [{'kernel': ['rbf'], 'gamma': [1e-3, 1e-4, 1e-5],\n",
    "                     'C': [1, 10, 100]},\n",
    "                    {'kernel': ['linear'], 'C': [1, 10]}]\n",
    "\n",
    "scores = ['precision', 'recall']\n",
    "\n",
    "for score in scores:\n",
    "    print(\"# Tuning hyper-parameters for %s\" % score)\n",
    "    print()\n",
    "\n",
    "    clf = GridSearchCV(\n",
    "        svm.SVC(), tuned_parameters, scoring='%s_macro' % score\n",
    "    )\n",
    "    clf.fit(X_train, y_train)\n",
    "\n",
    "    print(\"Best parameters set found on development set:\")\n",
    "    print()\n",
    "    print(clf.best_params_)\n",
    "    print()\n",
    "    print(\"Grid scores on development set:\")\n",
    "    print()\n",
    "    means = clf.cv_results_['mean_test_score']\n",
    "    stds = clf.cv_results_['std_test_score']\n",
    "    for mean, std, params in zip(means, stds, clf.cv_results_['params']):\n",
    "        print(\"%0.3f (+/-%0.03f) for %r\"\n",
    "              % (mean, std * 2, params))\n",
    "    print()\n",
    "\n",
    "    print(\"Detailed classification report:\")\n",
    "    print()\n",
    "    print(\"The model is trained on the full development set.\")\n",
    "    print(\"The scores are computed on the full evaluation set.\")\n",
    "    print()\n",
    "    y_true, y_pred = y_test, clf.predict(X_test)\n",
    "    print(classification_report(y_true, y_pred))\n",
    "    print()\n"
   ]
  },
  {
   "cell_type": "code",
   "execution_count": 90,
   "metadata": {
    "ExecuteTime": {
     "end_time": "2019-12-28T22:45:09.063701Z",
     "start_time": "2019-12-28T22:45:06.901245Z"
    }
   },
   "outputs": [],
   "source": [
    "svm_gs_model = XGBClassifier(clf_C=10,\n",
    "                             clf_gamma=0.001,\n",
    "                             clf_kernel='rbf',\n",
    "                             )\n",
    "svm_gs_model.fit(X_train, y_train)\n",
    "\n",
    "predictions = svm_gs_model.predict(X_test)\n",
    "actuals = y_test"
   ]
  },
  {
   "cell_type": "code",
   "execution_count": 91,
   "metadata": {
    "ExecuteTime": {
     "end_time": "2019-12-28T22:45:35.761900Z",
     "start_time": "2019-12-28T22:45:29.051968Z"
    }
   },
   "outputs": [
    {
     "name": "stdout",
     "output_type": "stream",
     "text": [
      "train score: 81.13%\n",
      "test score: 74.8%\n",
      "cross val score: 75.14%\n",
      "AUC  : 56.9%\n",
      "\n",
      "Classification Report:\n",
      "              precision    recall  f1-score   support\n",
      "\n",
      "           0       0.76      0.95      0.85       370\n",
      "           1       0.58      0.19      0.28       134\n",
      "\n",
      "   micro avg       0.75      0.75      0.75       504\n",
      "   macro avg       0.67      0.57      0.56       504\n",
      "weighted avg       0.72      0.75      0.70       504\n",
      "\n",
      "\n",
      "Confusion Matrix: 1=Fatal, 0=Minor\n"
     ]
    },
    {
     "data": {
      "text/html": [
       "<div>\n",
       "<style scoped>\n",
       "    .dataframe tbody tr th:only-of-type {\n",
       "        vertical-align: middle;\n",
       "    }\n",
       "\n",
       "    .dataframe tbody tr th {\n",
       "        vertical-align: top;\n",
       "    }\n",
       "\n",
       "    .dataframe thead th {\n",
       "        text-align: right;\n",
       "    }\n",
       "</style>\n",
       "<table border=\"1\" class=\"dataframe\">\n",
       "  <thead>\n",
       "    <tr style=\"text-align: right;\">\n",
       "      <th>Predicted</th>\n",
       "      <th>0</th>\n",
       "      <th>1</th>\n",
       "      <th>All</th>\n",
       "    </tr>\n",
       "    <tr>\n",
       "      <th>Actual</th>\n",
       "      <th></th>\n",
       "      <th></th>\n",
       "      <th></th>\n",
       "    </tr>\n",
       "  </thead>\n",
       "  <tbody>\n",
       "    <tr>\n",
       "      <th>0</th>\n",
       "      <td>352</td>\n",
       "      <td>18</td>\n",
       "      <td>370</td>\n",
       "    </tr>\n",
       "    <tr>\n",
       "      <th>1</th>\n",
       "      <td>109</td>\n",
       "      <td>25</td>\n",
       "      <td>134</td>\n",
       "    </tr>\n",
       "    <tr>\n",
       "      <th>All</th>\n",
       "      <td>461</td>\n",
       "      <td>43</td>\n",
       "      <td>504</td>\n",
       "    </tr>\n",
       "  </tbody>\n",
       "</table>\n",
       "</div>"
      ],
      "text/plain": [
       "Predicted    0   1  All\n",
       "Actual                 \n",
       "0          352  18  370\n",
       "1          109  25  134\n",
       "All        461  43  504"
      ]
     },
     "metadata": {},
     "output_type": "display_data"
    }
   ],
   "source": [
    "model_report(svm_gs_model)"
   ]
  },
  {
   "cell_type": "markdown",
   "metadata": {},
   "source": [
    "## model reports"
   ]
  },
  {
   "cell_type": "code",
   "execution_count": 95,
   "metadata": {
    "ExecuteTime": {
     "end_time": "2019-12-28T23:58:01.342540Z",
     "start_time": "2019-12-28T23:58:01.126033Z"
    }
   },
   "outputs": [
    {
     "name": "stdout",
     "output_type": "stream",
     "text": [
      "train score: 77.06%\n",
      "test score: 73.21%\n",
      "cross val score: 75.14%\n",
      "AUC  : 56.9%\n",
      "\n",
      "Classification Report:\n",
      "              precision    recall  f1-score   support\n",
      "\n",
      "           0       0.76      0.95      0.85       370\n",
      "           1       0.58      0.19      0.28       134\n",
      "\n",
      "   micro avg       0.75      0.75      0.75       504\n",
      "   macro avg       0.67      0.57      0.56       504\n",
      "weighted avg       0.72      0.75      0.70       504\n",
      "\n",
      "\n",
      "Confusion Matrix: 1=Fatal, 0=Minor\n"
     ]
    },
    {
     "data": {
      "text/html": [
       "<div>\n",
       "<style scoped>\n",
       "    .dataframe tbody tr th:only-of-type {\n",
       "        vertical-align: middle;\n",
       "    }\n",
       "\n",
       "    .dataframe tbody tr th {\n",
       "        vertical-align: top;\n",
       "    }\n",
       "\n",
       "    .dataframe thead th {\n",
       "        text-align: right;\n",
       "    }\n",
       "</style>\n",
       "<table border=\"1\" class=\"dataframe\">\n",
       "  <thead>\n",
       "    <tr style=\"text-align: right;\">\n",
       "      <th>Predicted</th>\n",
       "      <th>0</th>\n",
       "      <th>1</th>\n",
       "      <th>All</th>\n",
       "    </tr>\n",
       "    <tr>\n",
       "      <th>Actual</th>\n",
       "      <th></th>\n",
       "      <th></th>\n",
       "      <th></th>\n",
       "    </tr>\n",
       "  </thead>\n",
       "  <tbody>\n",
       "    <tr>\n",
       "      <th>0</th>\n",
       "      <td>352</td>\n",
       "      <td>18</td>\n",
       "      <td>370</td>\n",
       "    </tr>\n",
       "    <tr>\n",
       "      <th>1</th>\n",
       "      <td>109</td>\n",
       "      <td>25</td>\n",
       "      <td>134</td>\n",
       "    </tr>\n",
       "    <tr>\n",
       "      <th>All</th>\n",
       "      <td>461</td>\n",
       "      <td>43</td>\n",
       "      <td>504</td>\n",
       "    </tr>\n",
       "  </tbody>\n",
       "</table>\n",
       "</div>"
      ],
      "text/plain": [
       "Predicted    0   1  All\n",
       "Actual                 \n",
       "0          352  18  370\n",
       "1          109  25  134\n",
       "All        461  43  504"
      ]
     },
     "metadata": {},
     "output_type": "display_data"
    }
   ],
   "source": [
    "model_report(dt_gs_model)"
   ]
  },
  {
   "cell_type": "code",
   "execution_count": 96,
   "metadata": {
    "ExecuteTime": {
     "end_time": "2019-12-28T23:58:06.069643Z",
     "start_time": "2019-12-28T23:58:02.390555Z"
    }
   },
   "outputs": [
    {
     "name": "stdout",
     "output_type": "stream",
     "text": [
      "train score: 85.95%\n",
      "test score: 75.0%\n",
      "cross val score: 75.46%\n",
      "AUC  : 56.9%\n",
      "\n",
      "Classification Report:\n",
      "              precision    recall  f1-score   support\n",
      "\n",
      "           0       0.76      0.95      0.85       370\n",
      "           1       0.58      0.19      0.28       134\n",
      "\n",
      "   micro avg       0.75      0.75      0.75       504\n",
      "   macro avg       0.67      0.57      0.56       504\n",
      "weighted avg       0.72      0.75      0.70       504\n",
      "\n",
      "\n",
      "Confusion Matrix: 1=Fatal, 0=Minor\n"
     ]
    },
    {
     "data": {
      "text/html": [
       "<div>\n",
       "<style scoped>\n",
       "    .dataframe tbody tr th:only-of-type {\n",
       "        vertical-align: middle;\n",
       "    }\n",
       "\n",
       "    .dataframe tbody tr th {\n",
       "        vertical-align: top;\n",
       "    }\n",
       "\n",
       "    .dataframe thead th {\n",
       "        text-align: right;\n",
       "    }\n",
       "</style>\n",
       "<table border=\"1\" class=\"dataframe\">\n",
       "  <thead>\n",
       "    <tr style=\"text-align: right;\">\n",
       "      <th>Predicted</th>\n",
       "      <th>0</th>\n",
       "      <th>1</th>\n",
       "      <th>All</th>\n",
       "    </tr>\n",
       "    <tr>\n",
       "      <th>Actual</th>\n",
       "      <th></th>\n",
       "      <th></th>\n",
       "      <th></th>\n",
       "    </tr>\n",
       "  </thead>\n",
       "  <tbody>\n",
       "    <tr>\n",
       "      <th>0</th>\n",
       "      <td>352</td>\n",
       "      <td>18</td>\n",
       "      <td>370</td>\n",
       "    </tr>\n",
       "    <tr>\n",
       "      <th>1</th>\n",
       "      <td>109</td>\n",
       "      <td>25</td>\n",
       "      <td>134</td>\n",
       "    </tr>\n",
       "    <tr>\n",
       "      <th>All</th>\n",
       "      <td>461</td>\n",
       "      <td>43</td>\n",
       "      <td>504</td>\n",
       "    </tr>\n",
       "  </tbody>\n",
       "</table>\n",
       "</div>"
      ],
      "text/plain": [
       "Predicted    0   1  All\n",
       "Actual                 \n",
       "0          352  18  370\n",
       "1          109  25  134\n",
       "All        461  43  504"
      ]
     },
     "metadata": {},
     "output_type": "display_data"
    }
   ],
   "source": [
    "model_report(rf_gs_model)"
   ]
  },
  {
   "cell_type": "code",
   "execution_count": 97,
   "metadata": {
    "ExecuteTime": {
     "end_time": "2019-12-28T23:58:11.468553Z",
     "start_time": "2019-12-28T23:58:06.074712Z"
    }
   },
   "outputs": [
    {
     "name": "stdout",
     "output_type": "stream",
     "text": [
      "train score: 78.25%\n",
      "test score: 74.8%\n",
      "cross val score: 74.78%\n",
      "AUC  : 56.9%\n",
      "\n",
      "Classification Report:\n",
      "              precision    recall  f1-score   support\n",
      "\n",
      "           0       0.76      0.95      0.85       370\n",
      "           1       0.58      0.19      0.28       134\n",
      "\n",
      "   micro avg       0.75      0.75      0.75       504\n",
      "   macro avg       0.67      0.57      0.56       504\n",
      "weighted avg       0.72      0.75      0.70       504\n",
      "\n",
      "\n",
      "Confusion Matrix: 1=Fatal, 0=Minor\n"
     ]
    },
    {
     "data": {
      "text/html": [
       "<div>\n",
       "<style scoped>\n",
       "    .dataframe tbody tr th:only-of-type {\n",
       "        vertical-align: middle;\n",
       "    }\n",
       "\n",
       "    .dataframe tbody tr th {\n",
       "        vertical-align: top;\n",
       "    }\n",
       "\n",
       "    .dataframe thead th {\n",
       "        text-align: right;\n",
       "    }\n",
       "</style>\n",
       "<table border=\"1\" class=\"dataframe\">\n",
       "  <thead>\n",
       "    <tr style=\"text-align: right;\">\n",
       "      <th>Predicted</th>\n",
       "      <th>0</th>\n",
       "      <th>1</th>\n",
       "      <th>All</th>\n",
       "    </tr>\n",
       "    <tr>\n",
       "      <th>Actual</th>\n",
       "      <th></th>\n",
       "      <th></th>\n",
       "      <th></th>\n",
       "    </tr>\n",
       "  </thead>\n",
       "  <tbody>\n",
       "    <tr>\n",
       "      <th>0</th>\n",
       "      <td>352</td>\n",
       "      <td>18</td>\n",
       "      <td>370</td>\n",
       "    </tr>\n",
       "    <tr>\n",
       "      <th>1</th>\n",
       "      <td>109</td>\n",
       "      <td>25</td>\n",
       "      <td>134</td>\n",
       "    </tr>\n",
       "    <tr>\n",
       "      <th>All</th>\n",
       "      <td>461</td>\n",
       "      <td>43</td>\n",
       "      <td>504</td>\n",
       "    </tr>\n",
       "  </tbody>\n",
       "</table>\n",
       "</div>"
      ],
      "text/plain": [
       "Predicted    0   1  All\n",
       "Actual                 \n",
       "0          352  18  370\n",
       "1          109  25  134\n",
       "All        461  43  504"
      ]
     },
     "metadata": {},
     "output_type": "display_data"
    }
   ],
   "source": [
    "model_report(ada_gs_model)"
   ]
  },
  {
   "cell_type": "code",
   "execution_count": 98,
   "metadata": {
    "ExecuteTime": {
     "end_time": "2019-12-28T23:58:18.689980Z",
     "start_time": "2019-12-28T23:58:11.472704Z"
    }
   },
   "outputs": [
    {
     "name": "stdout",
     "output_type": "stream",
     "text": [
      "train score: 81.58%\n",
      "test score: 75.0%\n",
      "cross val score: 75.74%\n",
      "AUC  : 56.9%\n",
      "\n",
      "Classification Report:\n",
      "              precision    recall  f1-score   support\n",
      "\n",
      "           0       0.76      0.95      0.85       370\n",
      "           1       0.58      0.19      0.28       134\n",
      "\n",
      "   micro avg       0.75      0.75      0.75       504\n",
      "   macro avg       0.67      0.57      0.56       504\n",
      "weighted avg       0.72      0.75      0.70       504\n",
      "\n",
      "\n",
      "Confusion Matrix: 1=Fatal, 0=Minor\n"
     ]
    },
    {
     "data": {
      "text/html": [
       "<div>\n",
       "<style scoped>\n",
       "    .dataframe tbody tr th:only-of-type {\n",
       "        vertical-align: middle;\n",
       "    }\n",
       "\n",
       "    .dataframe tbody tr th {\n",
       "        vertical-align: top;\n",
       "    }\n",
       "\n",
       "    .dataframe thead th {\n",
       "        text-align: right;\n",
       "    }\n",
       "</style>\n",
       "<table border=\"1\" class=\"dataframe\">\n",
       "  <thead>\n",
       "    <tr style=\"text-align: right;\">\n",
       "      <th>Predicted</th>\n",
       "      <th>0</th>\n",
       "      <th>1</th>\n",
       "      <th>All</th>\n",
       "    </tr>\n",
       "    <tr>\n",
       "      <th>Actual</th>\n",
       "      <th></th>\n",
       "      <th></th>\n",
       "      <th></th>\n",
       "    </tr>\n",
       "  </thead>\n",
       "  <tbody>\n",
       "    <tr>\n",
       "      <th>0</th>\n",
       "      <td>352</td>\n",
       "      <td>18</td>\n",
       "      <td>370</td>\n",
       "    </tr>\n",
       "    <tr>\n",
       "      <th>1</th>\n",
       "      <td>109</td>\n",
       "      <td>25</td>\n",
       "      <td>134</td>\n",
       "    </tr>\n",
       "    <tr>\n",
       "      <th>All</th>\n",
       "      <td>461</td>\n",
       "      <td>43</td>\n",
       "      <td>504</td>\n",
       "    </tr>\n",
       "  </tbody>\n",
       "</table>\n",
       "</div>"
      ],
      "text/plain": [
       "Predicted    0   1  All\n",
       "Actual                 \n",
       "0          352  18  370\n",
       "1          109  25  134\n",
       "All        461  43  504"
      ]
     },
     "metadata": {},
     "output_type": "display_data"
    }
   ],
   "source": [
    "model_report(xgb_gs_model)"
   ]
  },
  {
   "cell_type": "code",
   "execution_count": 99,
   "metadata": {
    "ExecuteTime": {
     "end_time": "2019-12-28T23:58:29.151011Z",
     "start_time": "2019-12-28T23:58:18.695261Z"
    }
   },
   "outputs": [
    {
     "name": "stdout",
     "output_type": "stream",
     "text": [
      "train score: 81.13%\n",
      "test score: 74.8%\n",
      "cross val score: 75.14%\n",
      "AUC  : 56.9%\n",
      "\n",
      "Classification Report:\n",
      "              precision    recall  f1-score   support\n",
      "\n",
      "           0       0.76      0.95      0.85       370\n",
      "           1       0.58      0.19      0.28       134\n",
      "\n",
      "   micro avg       0.75      0.75      0.75       504\n",
      "   macro avg       0.67      0.57      0.56       504\n",
      "weighted avg       0.72      0.75      0.70       504\n",
      "\n",
      "\n",
      "Confusion Matrix: 1=Fatal, 0=Minor\n"
     ]
    },
    {
     "data": {
      "text/html": [
       "<div>\n",
       "<style scoped>\n",
       "    .dataframe tbody tr th:only-of-type {\n",
       "        vertical-align: middle;\n",
       "    }\n",
       "\n",
       "    .dataframe tbody tr th {\n",
       "        vertical-align: top;\n",
       "    }\n",
       "\n",
       "    .dataframe thead th {\n",
       "        text-align: right;\n",
       "    }\n",
       "</style>\n",
       "<table border=\"1\" class=\"dataframe\">\n",
       "  <thead>\n",
       "    <tr style=\"text-align: right;\">\n",
       "      <th>Predicted</th>\n",
       "      <th>0</th>\n",
       "      <th>1</th>\n",
       "      <th>All</th>\n",
       "    </tr>\n",
       "    <tr>\n",
       "      <th>Actual</th>\n",
       "      <th></th>\n",
       "      <th></th>\n",
       "      <th></th>\n",
       "    </tr>\n",
       "  </thead>\n",
       "  <tbody>\n",
       "    <tr>\n",
       "      <th>0</th>\n",
       "      <td>352</td>\n",
       "      <td>18</td>\n",
       "      <td>370</td>\n",
       "    </tr>\n",
       "    <tr>\n",
       "      <th>1</th>\n",
       "      <td>109</td>\n",
       "      <td>25</td>\n",
       "      <td>134</td>\n",
       "    </tr>\n",
       "    <tr>\n",
       "      <th>All</th>\n",
       "      <td>461</td>\n",
       "      <td>43</td>\n",
       "      <td>504</td>\n",
       "    </tr>\n",
       "  </tbody>\n",
       "</table>\n",
       "</div>"
      ],
      "text/plain": [
       "Predicted    0   1  All\n",
       "Actual                 \n",
       "0          352  18  370\n",
       "1          109  25  134\n",
       "All        461  43  504"
      ]
     },
     "metadata": {},
     "output_type": "display_data"
    }
   ],
   "source": [
    "model_report(svm_gs_model)"
   ]
  },
  {
   "cell_type": "code",
   "execution_count": null,
   "metadata": {},
   "outputs": [],
   "source": []
  },
  {
   "cell_type": "code",
   "execution_count": null,
   "metadata": {},
   "outputs": [],
   "source": []
  },
  {
   "cell_type": "code",
   "execution_count": null,
   "metadata": {},
   "outputs": [],
   "source": []
  },
  {
   "cell_type": "code",
   "execution_count": null,
   "metadata": {},
   "outputs": [],
   "source": []
  },
  {
   "cell_type": "code",
   "execution_count": null,
   "metadata": {},
   "outputs": [],
   "source": [
    "svc_param_selection(X_train, y_train, 5)"
   ]
  },
  {
   "cell_type": "code",
   "execution_count": 67,
   "metadata": {
    "ExecuteTime": {
     "end_time": "2019-12-28T22:25:53.091243Z",
     "start_time": "2019-12-28T22:25:53.080056Z"
    }
   },
   "outputs": [],
   "source": [
    "# pipe_kn = Pipeline([('scale', StandardScaler()),\n",
    "#                     ('kn_model', KNeighborsClassifier())])\n",
    "\n",
    "# pipe_tree = Pipeline([('dt_model', DecisionTreeClassifier(random_state=81))])\n",
    "\n",
    "# pipe_bag = Pipeline([('bag_model', BaggingClassifier(DecisionTreeClassifier(random_state=81)))])\n",
    "\n",
    "# pipe_rf = Pipeline([('rf_model', RandomForestClassifier(random_state=81))])\n",
    "\n",
    "# pipe_ada = Pipeline([('ada_model', AdaBoostClassifier(random_state=81))])\n",
    "\n",
    "# pipe_gbt = Pipeline([('gbt_model', GradientBoostingClassifier(random_state=81))])\n",
    "\n",
    "# pipe_xgb = Pipeline([('xgb_model', XGBClassifier(random_state=81))])"
   ]
  },
  {
   "cell_type": "code",
   "execution_count": 69,
   "metadata": {
    "ExecuteTime": {
     "end_time": "2019-12-28T22:25:57.645453Z",
     "start_time": "2019-12-28T22:25:57.641007Z"
    }
   },
   "outputs": [],
   "source": [
    "# def plot_feature_importances(model):\n",
    "#     n_features = X.shape[1]\n",
    "#     plt.figure(figsize=(8,8))\n",
    "#     plt.barh(range(n_features), model.feature_importances_, align='center') \n",
    "#     plt.yticks(np.arange(n_features), X.columns.values) \n",
    "#     plt.xlabel(\"Feature importance\")\n",
    "#     plt.ylabel(\"Feature\")"
   ]
  },
  {
   "cell_type": "code",
   "execution_count": 70,
   "metadata": {
    "ExecuteTime": {
     "end_time": "2019-12-28T22:25:58.234756Z",
     "start_time": "2019-12-28T22:25:57.648723Z"
    }
   },
   "outputs": [
    {
     "name": "stdout",
     "output_type": "stream",
     "text": [
      "KNeighbors pipeline test accuracy: 0.690\n",
      "Decision Tree pipeline test accuracy: 0.661\n",
      "Bagged Trees pipeline test accuracy: 0.752\n",
      "Random Forest pipeline test accuracy: 0.742\n",
      "AdaBoost pipeline test accuracy: 0.744\n",
      "Gradient Boosting pipeline test accuracy: 0.754\n",
      "XGBoost pipeline test accuracy: 0.748\n"
     ]
    }
   ],
   "source": [
    "# for index, val in enumerate(pipelines):\n",
    "#     print('%s pipeline test accuracy: %.3f' % (pipeline_names[index], val.score(X_test, y_test)))"
   ]
  },
  {
   "cell_type": "markdown",
   "metadata": {},
   "source": [
    "Decision tree"
   ]
  },
  {
   "cell_type": "code",
   "execution_count": 73,
   "metadata": {
    "ExecuteTime": {
     "end_time": "2019-12-28T22:26:00.791188Z",
     "start_time": "2019-12-28T22:26:00.787280Z"
    }
   },
   "outputs": [],
   "source": [
    "#gs_rf.cv_results_"
   ]
  },
  {
   "cell_type": "code",
   "execution_count": 74,
   "metadata": {
    "ExecuteTime": {
     "end_time": "2019-12-28T22:26:00.798236Z",
     "start_time": "2019-12-28T22:26:00.794581Z"
    }
   },
   "outputs": [],
   "source": [
    "#gs_ab.cv_results_"
   ]
  },
  {
   "cell_type": "code",
   "execution_count": 75,
   "metadata": {
    "ExecuteTime": {
     "end_time": "2019-12-28T22:26:00.806014Z",
     "start_time": "2019-12-28T22:26:00.801726Z"
    },
    "code_folding": [
     0
    ]
   },
   "outputs": [],
   "source": [
    "# from sklearn.model_selection import GridSearchCV\n",
    "# from sklearn.metrics import classification_report\n",
    "from sklearn.svm import SVC"
   ]
  },
  {
   "cell_type": "code",
   "execution_count": 76,
   "metadata": {
    "ExecuteTime": {
     "end_time": "2019-12-28T22:26:00.813056Z",
     "start_time": "2019-12-28T22:26:00.809331Z"
    }
   },
   "outputs": [],
   "source": [
    "#gs_svm.cv_results_"
   ]
  },
  {
   "cell_type": "markdown",
   "metadata": {},
   "source": [
    "## IGNORE BELOW"
   ]
  },
  {
   "cell_type": "code",
   "execution_count": 77,
   "metadata": {
    "ExecuteTime": {
     "end_time": "2019-12-28T22:26:00.820662Z",
     "start_time": "2019-12-28T22:26:00.816764Z"
    },
    "code_folding": [
     0
    ]
   },
   "outputs": [],
   "source": [
    "# from sklearn.linear_model import SGDClassifier\n",
    "# sgd_clf = SGDClassifier(random_state=123)\n",
    "# sgd_clf.fit(X_train, y_train_fatal)"
   ]
  },
  {
   "cell_type": "code",
   "execution_count": 78,
   "metadata": {
    "ExecuteTime": {
     "end_time": "2019-12-28T22:26:00.829743Z",
     "start_time": "2019-12-28T22:26:00.824644Z"
    },
    "code_folding": [
     0
    ]
   },
   "outputs": [],
   "source": [
    "# from sklearn.model_selection import cross_val_score\n",
    "# cross_val_score(sgd_clf, X_train, y_train_fatal, cv=3, scoring=\"accuracy\")"
   ]
  },
  {
   "cell_type": "code",
   "execution_count": 79,
   "metadata": {
    "ExecuteTime": {
     "end_time": "2019-12-28T22:26:01.092261Z",
     "start_time": "2019-12-28T22:26:00.835451Z"
    },
    "code_folding": []
   },
   "outputs": [
    {
     "name": "stdout",
     "output_type": "stream",
     "text": [
      "accuracy score:\n"
     ]
    },
    {
     "ename": "NameError",
     "evalue": "name 'y_train_fatal' is not defined",
     "output_type": "error",
     "traceback": [
      "\u001b[0;31m---------------------------------------------------------------------------\u001b[0m",
      "\u001b[0;31mNameError\u001b[0m                                 Traceback (most recent call last)",
      "\u001b[0;32m<ipython-input-79-9e5f71d96cf1>\u001b[0m in \u001b[0;36m<module>\u001b[0;34m\u001b[0m\n\u001b[1;32m      2\u001b[0m \u001b[0;34m\u001b[0m\u001b[0m\n\u001b[1;32m      3\u001b[0m \u001b[0mprint\u001b[0m\u001b[0;34m(\u001b[0m\u001b[0;34m\"accuracy score:\"\u001b[0m\u001b[0;34m)\u001b[0m\u001b[0;34m\u001b[0m\u001b[0;34m\u001b[0m\u001b[0m\n\u001b[0;32m----> 4\u001b[0;31m \u001b[0mprecision_score\u001b[0m\u001b[0;34m(\u001b[0m\u001b[0my_train_fatal\u001b[0m\u001b[0;34m,\u001b[0m \u001b[0my_train_pred\u001b[0m\u001b[0;34m)\u001b[0m\u001b[0;34m\u001b[0m\u001b[0;34m\u001b[0m\u001b[0m\n\u001b[0m\u001b[1;32m      5\u001b[0m \u001b[0;34m\u001b[0m\u001b[0m\n\u001b[1;32m      6\u001b[0m \u001b[0mprint\u001b[0m \u001b[0;34m(\u001b[0m\u001b[0;34m\"recall score:\"\u001b[0m\u001b[0;34m)\u001b[0m\u001b[0;34m\u001b[0m\u001b[0;34m\u001b[0m\u001b[0m\n",
      "\u001b[0;31mNameError\u001b[0m: name 'y_train_fatal' is not defined"
     ]
    }
   ],
   "source": [
    "# from sklearn.metrics import precision_score, recall_score, f1_score\n",
    "\n",
    "print(\"accuracy score:\")\n",
    "precision_score(y_train_fatal, y_train_pred)\n",
    "\n",
    "print (\"recall score:\")\n",
    "recall_score(y_train_fatal, y_train_pred)\n",
    "\n",
    "print(\"f1 score:\")\n",
    "f1_score(y_train_fatal, y_train_pred)"
   ]
  },
  {
   "cell_type": "code",
   "execution_count": null,
   "metadata": {
    "ExecuteTime": {
     "end_time": "2019-12-28T22:26:01.097308Z",
     "start_time": "2019-12-28T22:10:21.606Z"
    },
    "code_folding": []
   },
   "outputs": [],
   "source": [
    "# y_scores = cross_val_predict(sgd_clf, X_train, y_train_fatal, cv=3, method=\"decision_function\")"
   ]
  },
  {
   "cell_type": "code",
   "execution_count": null,
   "metadata": {
    "ExecuteTime": {
     "end_time": "2019-12-28T22:26:01.100121Z",
     "start_time": "2019-12-28T22:10:21.613Z"
    },
    "code_folding": [
     0
    ]
   },
   "outputs": [],
   "source": [
    "# from sklearn.metrics import precision_recall_curve\n",
    "# precisions, recalls, thresholds = precision_recall_curve(y_train_fatal, y_scores)"
   ]
  },
  {
   "cell_type": "code",
   "execution_count": null,
   "metadata": {
    "ExecuteTime": {
     "end_time": "2019-12-28T22:26:01.102967Z",
     "start_time": "2019-12-28T22:10:21.619Z"
    },
    "code_folding": [
     0
    ]
   },
   "outputs": [],
   "source": [
    "# def plot_precision_recall_vs_threshold(precisions, recalls, thresholds):\n",
    "#     plt.plot(thresholds, precisions[:-1], \"b--\", label=\"Precision\")\n",
    "#     plt.plot(thresholds, recalls[:-1], \"g--\", label=\"Recall\")"
   ]
  },
  {
   "cell_type": "code",
   "execution_count": null,
   "metadata": {
    "ExecuteTime": {
     "end_time": "2019-12-28T22:26:01.105417Z",
     "start_time": "2019-12-28T22:10:21.625Z"
    },
    "code_folding": [
     0
    ]
   },
   "outputs": [],
   "source": [
    "# plot_precision_recall_vs_threshold(precisions, recalls, thresholds)\n",
    "# plt.show()"
   ]
  },
  {
   "cell_type": "code",
   "execution_count": null,
   "metadata": {
    "ExecuteTime": {
     "end_time": "2019-12-28T22:26:01.107509Z",
     "start_time": "2019-12-28T22:10:21.632Z"
    },
    "code_folding": [
     0
    ]
   },
   "outputs": [],
   "source": [
    "# from sklearn.metrics import roc_curve\n",
    "# fpr, tpr, thresholds = roc_curve(y_train_fatal, y_scores)"
   ]
  },
  {
   "cell_type": "code",
   "execution_count": null,
   "metadata": {
    "ExecuteTime": {
     "end_time": "2019-12-28T22:26:01.109865Z",
     "start_time": "2019-12-28T22:10:21.638Z"
    },
    "code_folding": [
     0
    ]
   },
   "outputs": [],
   "source": [
    "# def plot_roc_curve(fpr, tpr, label=None):\n",
    "#     plt.plot(fpr, tpr, linewidth=2, label=label)\n",
    "#     plt.plot([0,1], [0,1], 'k--')"
   ]
  },
  {
   "cell_type": "code",
   "execution_count": null,
   "metadata": {
    "ExecuteTime": {
     "end_time": "2019-12-28T22:26:01.112792Z",
     "start_time": "2019-12-28T22:10:21.645Z"
    }
   },
   "outputs": [],
   "source": [
    "# plot_roc_curve(fpr, tpr)"
   ]
  },
  {
   "cell_type": "code",
   "execution_count": null,
   "metadata": {
    "ExecuteTime": {
     "end_time": "2019-12-28T22:26:01.115709Z",
     "start_time": "2019-12-28T22:10:21.652Z"
    }
   },
   "outputs": [],
   "source": [
    "# from sklearn.metrics import roc_auc_score\n",
    "# roc_auc_score(y_train_fatal, y_scores)"
   ]
  },
  {
   "cell_type": "code",
   "execution_count": null,
   "metadata": {
    "ExecuteTime": {
     "end_time": "2019-12-28T22:26:01.118745Z",
     "start_time": "2019-12-28T22:10:21.658Z"
    }
   },
   "outputs": [],
   "source": [
    "# from sklearn.ensemble import RandomForestClassifier\n",
    "# forest_clf = RandomForestClassifier(random_state=42)\n",
    "# y_probas_forest = cross_val_predict(forest_clf, X_train, y_train_fatal, cv=3, method=\"predict_proba\")"
   ]
  },
  {
   "cell_type": "code",
   "execution_count": null,
   "metadata": {
    "ExecuteTime": {
     "end_time": "2019-12-28T22:26:01.121142Z",
     "start_time": "2019-12-28T22:10:21.664Z"
    },
    "code_folding": [
     0
    ]
   },
   "outputs": [],
   "source": [
    "# y_scores_forest = y_probas_forest[:, 1]\n",
    "# fpr_forest, tpr_forest, thresholds_forest = roc_curve(y_train_fatal, y_scores_forest)"
   ]
  },
  {
   "cell_type": "code",
   "execution_count": null,
   "metadata": {
    "ExecuteTime": {
     "end_time": "2019-12-28T22:26:01.123315Z",
     "start_time": "2019-12-28T22:10:21.670Z"
    },
    "code_folding": [
     0
    ],
    "scrolled": true
   },
   "outputs": [],
   "source": [
    "# plt.plot(fpr, tpr, \"b:\", label='SGD')\n",
    "# plot_roc_curve(fpr_forest, tpr_forest, \"Random Forest\")\n",
    "# plt.legend(loc=\"lower right\")\n",
    "# plt.show()"
   ]
  },
  {
   "cell_type": "code",
   "execution_count": null,
   "metadata": {
    "ExecuteTime": {
     "end_time": "2019-12-28T22:26:01.125532Z",
     "start_time": "2019-12-28T22:10:21.676Z"
    }
   },
   "outputs": [],
   "source": [
    "# roc_auc_score(y_train_fatal, y_scores_forest)"
   ]
  },
  {
   "cell_type": "code",
   "execution_count": null,
   "metadata": {
    "ExecuteTime": {
     "end_time": "2019-12-28T22:26:01.128720Z",
     "start_time": "2019-12-28T22:10:21.684Z"
    },
    "code_folding": [
     0
    ]
   },
   "outputs": [],
   "source": [
    "# # Model Evaluation metrics \n",
    "# from sklearn.metrics import accuracy_score,recall_score,precision_score,f1_score\n",
    "# print('Accuracy Score : ' + str(accuracy_score(y_test,y_pred)))\n",
    "# # print('Precision Score : ' + str(precision_score(y_test,y_pred)))\n",
    "# # print('Recall Score : ' + str(recall_score(y_test,y_pred)))\n",
    "# # print('F1 Score : ' + str(f1_score(y_test,y_pred)))\n",
    "\n",
    "# #Dummy Classifier Confusion matrix\n",
    "# from sklearn.metrics import confusion_matrix\n",
    "# print('Confusion Matrix : \\n' + str(confusion_matrix(y_test,y_pred)))"
   ]
  },
  {
   "cell_type": "code",
   "execution_count": null,
   "metadata": {
    "ExecuteTime": {
     "end_time": "2019-12-28T22:26:01.132277Z",
     "start_time": "2019-12-28T22:10:21.690Z"
    },
    "code_folding": []
   },
   "outputs": [],
   "source": [
    "# from sklearn.svm import SVC\n",
    "# svm_clf = SVC()\n",
    "# svm_clf.fit(X_train[:300], y_train[:300])\n",
    "# #svm_clf.predict(X[0])"
   ]
  },
  {
   "cell_type": "code",
   "execution_count": null,
   "metadata": {
    "ExecuteTime": {
     "end_time": "2019-12-28T22:26:01.135435Z",
     "start_time": "2019-12-28T22:10:21.695Z"
    }
   },
   "outputs": [],
   "source": [
    "# cross_val_score(sgd_clf, X_train, y_train, cv=3, scoring = \"accuracy\")"
   ]
  },
  {
   "cell_type": "code",
   "execution_count": 93,
   "metadata": {
    "ExecuteTime": {
     "end_time": "2019-12-28T22:47:31.787429Z",
     "start_time": "2019-12-28T22:47:31.782417Z"
    }
   },
   "outputs": [],
   "source": [
    "random_state=3"
   ]
  },
  {
   "cell_type": "code",
   "execution_count": 94,
   "metadata": {
    "ExecuteTime": {
     "end_time": "2019-12-28T22:47:32.348521Z",
     "start_time": "2019-12-28T22:47:32.325741Z"
    },
    "code_folding": []
   },
   "outputs": [
    {
     "ename": "NameError",
     "evalue": "name 'y_train_pred' is not defined",
     "output_type": "error",
     "traceback": [
      "\u001b[0;31m---------------------------------------------------------------------------\u001b[0m",
      "\u001b[0;31mNameError\u001b[0m                                 Traceback (most recent call last)",
      "\u001b[0;32m<ipython-input-94-ef9c75e1c2ab>\u001b[0m in \u001b[0;36m<module>\u001b[0;34m\u001b[0m\n\u001b[1;32m     20\u001b[0m     \u001b[0;32mfor\u001b[0m \u001b[0mi\u001b[0m\u001b[0;34m,\u001b[0m \u001b[0msamples\u001b[0m \u001b[0;32min\u001b[0m \u001b[0menumerate\u001b[0m\u001b[0;34m(\u001b[0m\u001b[0;34m[\u001b[0m\u001b[0msamples_1\u001b[0m\u001b[0;34m,\u001b[0m \u001b[0msamples_10\u001b[0m\u001b[0;34m,\u001b[0m   \u001b[0msamples_100\u001b[0m\u001b[0;34m]\u001b[0m\u001b[0;34m)\u001b[0m\u001b[0;34m:\u001b[0m\u001b[0;34m\u001b[0m\u001b[0;34m\u001b[0m\u001b[0m\n\u001b[1;32m     21\u001b[0m         \u001b[0mresults\u001b[0m\u001b[0;34m[\u001b[0m\u001b[0mclf_name\u001b[0m\u001b[0;34m]\u001b[0m\u001b[0;34m[\u001b[0m\u001b[0mi\u001b[0m\u001b[0;34m]\u001b[0m \u001b[0;34m=\u001b[0m\u001b[0;31m \u001b[0m\u001b[0;31m\\\u001b[0m\u001b[0;34m\u001b[0m\u001b[0;34m\u001b[0m\u001b[0m\n\u001b[0;32m---> 22\u001b[0;31m         \u001b[0my_train_pred\u001b[0m\u001b[0;34m(\u001b[0m\u001b[0mclf\u001b[0m\u001b[0;34m,\u001b[0m \u001b[0msamples\u001b[0m\u001b[0;34m,\u001b[0m \u001b[0mX_train\u001b[0m\u001b[0;34m,\u001b[0m \u001b[0my_train\u001b[0m\u001b[0;34m,\u001b[0m \u001b[0mX_test\u001b[0m\u001b[0;34m,\u001b[0m \u001b[0my_test\u001b[0m\u001b[0;34m)\u001b[0m\u001b[0;34m\u001b[0m\u001b[0;34m\u001b[0m\u001b[0m\n\u001b[0m\u001b[1;32m     23\u001b[0m \u001b[0;34m\u001b[0m\u001b[0m\n\u001b[1;32m     24\u001b[0m \u001b[0;31m# Run metrics visualization for the three supervised learning models chosen\u001b[0m\u001b[0;34m\u001b[0m\u001b[0;34m\u001b[0m\u001b[0;34m\u001b[0m\u001b[0m\n",
      "\u001b[0;31mNameError\u001b[0m: name 'y_train_pred' is not defined"
     ]
    }
   ],
   "source": [
    "# Import the three supervised learning models from sklearn\n",
    "from sklearn.ensemble import RandomForestClassifier\n",
    "from sklearn.naive_bayes import GaussianNB\n",
    "\n",
    "\n",
    "clf_A = RandomForestClassifier(random_state=random_state)\n",
    "clf_B = GaussianNB()\n",
    "clf_C = SVC(random_state=random_state)\n",
    "\n",
    "# Calculate the number of samples for 1%, 10%, and 100% of the training data\n",
    "samples_100 = len(y_train)\n",
    "samples_10 = int(len(y_train)/10)\n",
    "samples_1 = int(len(y_train)/100)\n",
    "\n",
    "# Collect results on the learners\n",
    "results = {}\n",
    "for clf in [clf_A, clf_B, clf_C]:\n",
    "    clf_name = clf.__class__.__name__\n",
    "    results[clf_name] = {}\n",
    "    for i, samples in enumerate([samples_1, samples_10,   samples_100]):\n",
    "        results[clf_name][i] = \\\n",
    "        y_train_pred(clf, samples, X_train, y_train, X_test, y_test)\n",
    "\n",
    "# Run metrics visualization for the three supervised learning models chosen\n",
    "vs.evaluate(results, accuracy, fscore)"
   ]
  },
  {
   "cell_type": "code",
   "execution_count": null,
   "metadata": {
    "ExecuteTime": {
     "end_time": "2019-12-20T04:19:44.853172Z",
     "start_time": "2019-12-20T04:10:38.820Z"
    }
   },
   "outputs": [],
   "source": []
  }
 ],
 "metadata": {
  "hide_input": false,
  "kernelspec": {
   "display_name": "Python 3",
   "language": "python",
   "name": "python3"
  },
  "language_info": {
   "codemirror_mode": {
    "name": "ipython",
    "version": 3
   },
   "file_extension": ".py",
   "mimetype": "text/x-python",
   "name": "python",
   "nbconvert_exporter": "python",
   "pygments_lexer": "ipython3",
   "version": "3.7.3"
  },
  "toc": {
   "base_numbering": 1,
   "nav_menu": {},
   "number_sections": true,
   "sideBar": true,
   "skip_h1_title": false,
   "title_cell": "Table of Contents",
   "title_sidebar": "Contents",
   "toc_cell": false,
   "toc_position": {
    "height": "calc(100% - 180px)",
    "left": "10px",
    "top": "150px",
    "width": "165px"
   },
   "toc_section_display": true,
   "toc_window_display": true
  }
 },
 "nbformat": 4,
 "nbformat_minor": 2
}
