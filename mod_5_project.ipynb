{
 "cells": [
  {
   "cell_type": "markdown",
   "metadata": {},
   "source": [
    "# Car accidents in the U.K."
   ]
  },
  {
   "cell_type": "markdown",
   "metadata": {},
   "source": [
    "Classifying fatal and minor car accidents. Dataset provides 251,832 incidents, and a range of features describing the driver, car type, weather condition, timing, and location of the accidents. Only features involving the car or driver will be used, as a way of determining which insurance policies should have elevated rates based on the prospective customer's applications, as they present a higher likeliness of severe car collisions."
   ]
  },
  {
   "cell_type": "markdown",
   "metadata": {},
   "source": [
    "## importing"
   ]
  },
  {
   "cell_type": "code",
   "execution_count": 1,
   "metadata": {
    "ExecuteTime": {
     "end_time": "2019-12-30T05:40:06.935050Z",
     "start_time": "2019-12-30T05:40:03.375323Z"
    },
    "code_folding": [
     0
    ]
   },
   "outputs": [],
   "source": [
    "# imports\n",
    "import warnings\n",
    "warnings.filterwarnings('ignore')\n",
    "import numpy as np\n",
    "import pandas as pd\n",
    "import pandas_profiling\n",
    "from xgboost import XGBClassifier, plot_importance\n",
    "import matplotlib.pyplot as plt\n",
    "from matplotlib import pyplot\n",
    "import seaborn as sns\n",
    "from sklearn import svm, tree\n",
    "from sklearn.model_selection import train_test_split, GridSearchCV, cross_val_score\n",
    "from sklearn.metrics import confusion_matrix, precision_score, recall_score, accuracy_score, f1_score, roc_curve, auc, r2_score, classification_report\n",
    "from sklearn.tree import DecisionTreeClassifier\n",
    "from sklearn.ensemble import RandomForestClassifier, AdaBoostClassifier, BaggingClassifier, GradientBoostingClassifier, ExtraTreesClassifier\n",
    "from sklearn.preprocessing import MinMaxScaler, Normalizer, StandardScaler\n",
    "from sklearn.decomposition import PCA\n",
    "from sklearn.pipeline import Pipeline, make_pipeline\n",
    "from sklearn.neighbors import KNeighborsClassifier\n",
    "from sklearn.linear_model import LogisticRegression\n",
    "scaler = MinMaxScaler()\n",
    "%matplotlib inline\n",
    "import pprint\n",
    "# from IPython.core.interactiveshell import InteractiveShell\n",
    "# InteractiveShell.ast_node_interactivity = \"all\""
   ]
  },
  {
   "cell_type": "code",
   "execution_count": 2,
   "metadata": {
    "ExecuteTime": {
     "end_time": "2019-12-30T05:40:06.955730Z",
     "start_time": "2019-12-30T05:40:06.938799Z"
    },
    "code_folding": [
     0
    ]
   },
   "outputs": [],
   "source": [
    "# model diagnostics and confusion matrix\n",
    "def model_report(model): \n",
    "    train_score = model.score(X_train, y_train)\n",
    "    print(\"train score: {:.4}%\".format(train_score * 100))\n",
    "\n",
    "    test_score = model.score(X_test, y_test)\n",
    "    print(\"test score: {:.4}%\".format(test_score * 100))\n",
    "\n",
    "    cv_score = np.mean(cross_val_score(model, X, y, cv=3))\n",
    "    print(\"cross val score: {:.4}%\".format(cv_score * 100))\n",
    "\n",
    "    false_positive_rate, true_positive_rate, thresholds = roc_curve(actuals, predictions)\n",
    "    roc_auc = auc(false_positive_rate, true_positive_rate)\n",
    "    print(\"AUC  : {:.4}%\".format(roc_auc * 100))\n",
    "\n",
    "    print(\"\\nClassification Report:\")\n",
    "    print(classification_report(actuals, predictions))\n",
    "    \n",
    "    print(\"\\nConfusion Matrix: 1=Fatal, 0=Minor\")\n",
    "    display(pd.crosstab(actuals, predictions, rownames=['Actual'], colnames=['Predicted'], margins=True))"
   ]
  },
  {
   "cell_type": "code",
   "execution_count": 3,
   "metadata": {
    "ExecuteTime": {
     "end_time": "2019-12-30T05:40:09.480808Z",
     "start_time": "2019-12-30T05:40:06.962166Z"
    },
    "code_folding": []
   },
   "outputs": [],
   "source": [
    "# Accident data\n",
    "df = pd.read_csv('Accidents_categorical.csv')"
   ]
  },
  {
   "cell_type": "markdown",
   "metadata": {},
   "source": [
    "## eda"
   ]
  },
  {
   "cell_type": "code",
   "execution_count": 4,
   "metadata": {
    "ExecuteTime": {
     "end_time": "2019-12-30T05:40:09.494444Z",
     "start_time": "2019-12-30T05:40:09.483764Z"
    }
   },
   "outputs": [
    {
     "data": {
      "text/plain": [
       "(251832, 33)"
      ]
     },
     "execution_count": 4,
     "metadata": {},
     "output_type": "execute_result"
    }
   ],
   "source": [
    "df.shape"
   ]
  },
  {
   "cell_type": "code",
   "execution_count": 5,
   "metadata": {
    "ExecuteTime": {
     "end_time": "2019-12-30T05:40:09.502143Z",
     "start_time": "2019-12-30T05:40:09.498297Z"
    }
   },
   "outputs": [],
   "source": [
    "df.head()"
   ]
  },
  {
   "cell_type": "code",
   "execution_count": 6,
   "metadata": {
    "ExecuteTime": {
     "end_time": "2019-12-30T05:40:09.510345Z",
     "start_time": "2019-12-30T05:40:09.506871Z"
    }
   },
   "outputs": [],
   "source": [
    "pandas_profiling.ProfileReport(df)"
   ]
  },
  {
   "cell_type": "markdown",
   "metadata": {},
   "source": [
    "Are any areas impacted significantly more than others?"
   ]
  },
  {
   "cell_type": "code",
   "execution_count": 7,
   "metadata": {
    "ExecuteTime": {
     "end_time": "2019-12-30T05:40:09.520903Z",
     "start_time": "2019-12-30T05:40:09.516664Z"
    }
   },
   "outputs": [],
   "source": [
    "df.plot(kind=\"scatter\", x=\"Longitude\", y=\"Latitude\", alpha= 0.1)"
   ]
  },
  {
   "cell_type": "markdown",
   "metadata": {},
   "source": [
    "Are feature data normally distributed?"
   ]
  },
  {
   "cell_type": "code",
   "execution_count": 8,
   "metadata": {
    "ExecuteTime": {
     "end_time": "2019-12-30T05:40:09.529641Z",
     "start_time": "2019-12-30T05:40:09.525440Z"
    }
   },
   "outputs": [],
   "source": [
    "df.hist(figsize=(20,15), bins=30);"
   ]
  },
  {
   "cell_type": "code",
   "execution_count": null,
   "metadata": {},
   "outputs": [],
   "source": []
  },
  {
   "cell_type": "code",
   "execution_count": 10,
   "metadata": {
    "ExecuteTime": {
     "end_time": "2019-12-30T05:40:09.551465Z",
     "start_time": "2019-12-30T05:40:09.546859Z"
    }
   },
   "outputs": [],
   "source": [
    "#pairplot and heatmap corr plot"
   ]
  },
  {
   "cell_type": "markdown",
   "metadata": {},
   "source": [
    "## data prep"
   ]
  },
  {
   "cell_type": "code",
   "execution_count": 11,
   "metadata": {
    "ExecuteTime": {
     "end_time": "2019-12-30T05:40:09.703515Z",
     "start_time": "2019-12-30T05:40:09.555337Z"
    }
   },
   "outputs": [],
   "source": [
    "#taking % of data for speedier results before committing to model\n",
    "df = df.sample(frac=.25, random_state=3)"
   ]
  },
  {
   "cell_type": "code",
   "execution_count": 12,
   "metadata": {
    "ExecuteTime": {
     "end_time": "2019-12-30T05:40:09.828421Z",
     "start_time": "2019-12-30T05:40:09.707345Z"
    },
    "code_folding": []
   },
   "outputs": [],
   "source": [
    "# assign 1 and 0 to fatal and slight accidents in preparation of further analysis\n",
    "df[\"Accident_Severity\"]= df['Accident_Severity'].replace(\"Fatal_Serious\", 1)\n",
    "df[\"Accident_Severity\"]= df['Accident_Severity'].replace(\"Slight\", 0)"
   ]
  },
  {
   "cell_type": "code",
   "execution_count": 13,
   "metadata": {
    "ExecuteTime": {
     "end_time": "2019-12-30T05:40:09.838149Z",
     "start_time": "2019-12-30T05:40:09.832576Z"
    }
   },
   "outputs": [],
   "source": [
    "# assigning target as accident severity\n",
    "target = df['Accident_Severity']"
   ]
  },
  {
   "cell_type": "code",
   "execution_count": 14,
   "metadata": {
    "ExecuteTime": {
     "end_time": "2019-12-30T05:40:09.931306Z",
     "start_time": "2019-12-30T05:40:09.843147Z"
    },
    "code_folding": [
     0
    ]
   },
   "outputs": [],
   "source": [
    "# reduce time of day to hour as opposed to minute and hour\n",
    "df['Hour_of_Day'] = df['Hour_of_Day'].apply(lambda x: round(x*24))\n",
    "#df['Hour_of_Day'].unique()"
   ]
  },
  {
   "cell_type": "code",
   "execution_count": 15,
   "metadata": {
    "ExecuteTime": {
     "end_time": "2019-12-30T05:40:09.943317Z",
     "start_time": "2019-12-30T05:40:09.936934Z"
    },
    "code_folding": []
   },
   "outputs": [],
   "source": [
    "# assign target\n",
    "y = df[\"Accident_Severity\"]"
   ]
  },
  {
   "cell_type": "code",
   "execution_count": 9,
   "metadata": {
    "ExecuteTime": {
     "end_time": "2019-12-30T05:40:09.542328Z",
     "start_time": "2019-12-30T05:40:09.533689Z"
    }
   },
   "outputs": [
    {
     "data": {
      "text/plain": [
       "Index(['Accident_Index', 'Latitude', 'Longitude', 'Region',\n",
       "       'Urban_or_Rural_Area', 'X1st_Road_Class', 'Driver_IMD_Decile',\n",
       "       'Speed_limit', 'Road_Type', 'Road_Surface_Conditions', 'Weather',\n",
       "       'High_Wind', 'Lights', 'Datetime', 'Year', 'Season', 'Month_of_Year',\n",
       "       'Day_of_Month', 'Day_of_Week', 'Hour_of_Day', 'Number_of_Vehicles',\n",
       "       'Age_of_Driver', 'Age_of_Vehicle', 'Junction_Detail',\n",
       "       'Junction_Location', 'X1st_Point_of_Impact', 'Driver_Journey_Purpose',\n",
       "       'Engine_CC', 'Propulsion_Code', 'Vehicle_Make', 'Vehicle_Category',\n",
       "       'Vehicle_Manoeuvre', 'Accident_Severity'],\n",
       "      dtype='object')"
      ]
     },
     "execution_count": 9,
     "metadata": {},
     "output_type": "execute_result"
    }
   ],
   "source": [
    "df.columns"
   ]
  },
  {
   "cell_type": "code",
   "execution_count": 16,
   "metadata": {
    "ExecuteTime": {
     "end_time": "2019-12-30T05:40:10.006716Z",
     "start_time": "2019-12-30T05:40:09.952018Z"
    },
    "code_folding": []
   },
   "outputs": [],
   "source": [
    "#dropping columns relating to time and weather or road conditions.\n",
    "df.drop(columns=\n",
    "    [\n",
    "        'Accident_Index','Datetime'\n",
    "        ,'Accident_Severity','Year','Latitude', 'Longitude', 'Region','X1st_Road_Class'\n",
    "       ,'Speed_limit', 'Road_Type', 'Road_Surface_Conditions', 'Weather'\n",
    "       ,'High_Wind', 'Lights', 'Season', 'Month_of_Year'\n",
    "       ,'Day_of_Month','Day_of_Week','Hour_of_Day', 'Number_of_Vehicles'\n",
    "        ,'Junction_Detail','Junction_Location','X1st_Point_of_Impact','Vehicle_Manoeuvre'\n",
    "        ]\n",
    ", axis=1, inplace=True)"
   ]
  },
  {
   "cell_type": "code",
   "execution_count": 17,
   "metadata": {
    "ExecuteTime": {
     "end_time": "2019-12-30T05:40:10.013097Z",
     "start_time": "2019-12-30T05:40:10.009569Z"
    },
    "code_folding": []
   },
   "outputs": [],
   "source": [
    "# #selecting categorical features for dummies\n",
    "# col_list = list(df.select_dtypes(include=['object']).columns)\n",
    "# for col in ('Season','Day_of_Month','Day_of_Week','Month_of_Year','Hour_of_Day'):\n",
    "#     col_list.append(col)"
   ]
  },
  {
   "cell_type": "code",
   "execution_count": 18,
   "metadata": {
    "ExecuteTime": {
     "end_time": "2019-12-30T05:40:10.038603Z",
     "start_time": "2019-12-30T05:40:10.019760Z"
    }
   },
   "outputs": [],
   "source": [
    "col_list = list(df.select_dtypes(include=['object']).columns)"
   ]
  },
  {
   "cell_type": "code",
   "execution_count": 19,
   "metadata": {
    "ExecuteTime": {
     "end_time": "2019-12-30T05:40:10.051410Z",
     "start_time": "2019-12-30T05:40:10.047436Z"
    },
    "code_folding": []
   },
   "outputs": [],
   "source": [
    "## list of categorical features to dummy\n",
    "#col_list"
   ]
  },
  {
   "cell_type": "code",
   "execution_count": 20,
   "metadata": {
    "ExecuteTime": {
     "end_time": "2019-12-30T05:40:10.138019Z",
     "start_time": "2019-12-30T05:40:10.055482Z"
    },
    "code_folding": []
   },
   "outputs": [],
   "source": [
    "# create dummies for categorical features, assign to X\n",
    "df = pd.DataFrame(pd.get_dummies(data=df,columns=col_list, drop_first=True\n",
    "                    , prefix=col_list))\n",
    "X = df"
   ]
  },
  {
   "cell_type": "code",
   "execution_count": 21,
   "metadata": {
    "ExecuteTime": {
     "end_time": "2019-12-30T05:40:10.180673Z",
     "start_time": "2019-12-30T05:40:10.141417Z"
    }
   },
   "outputs": [],
   "source": [
    "#train-test split 80%/20%\n",
    "X_train, X_test, y_train, y_test = train_test_split(X, y, test_size=0.2, shuffle=True)"
   ]
  },
  {
   "cell_type": "code",
   "execution_count": 22,
   "metadata": {
    "ExecuteTime": {
     "end_time": "2019-12-30T05:40:10.196996Z",
     "start_time": "2019-12-30T05:40:10.192640Z"
    },
    "code_folding": []
   },
   "outputs": [],
   "source": [
    "# y_train_fatal = (y_train==\"1\")\n",
    "# y_test_fatal = (y_test==\"1\")"
   ]
  },
  {
   "cell_type": "code",
   "execution_count": 23,
   "metadata": {
    "ExecuteTime": {
     "end_time": "2019-12-30T05:40:10.377102Z",
     "start_time": "2019-12-30T05:40:10.206569Z"
    },
    "code_folding": [],
    "scrolled": false
   },
   "outputs": [],
   "source": [
    "# scale train and test features seperately\n",
    "X_train = StandardScaler().fit_transform(X_train)\n",
    "X_test = StandardScaler().fit_transform(X_test)"
   ]
  },
  {
   "cell_type": "markdown",
   "metadata": {
    "heading_collapsed": true
   },
   "source": [
    "## feature importance"
   ]
  },
  {
   "cell_type": "code",
   "execution_count": 24,
   "metadata": {
    "ExecuteTime": {
     "end_time": "2019-12-30T05:40:10.385700Z",
     "start_time": "2019-12-30T05:40:10.380986Z"
    },
    "code_folding": [
     0
    ],
    "hidden": true
   },
   "outputs": [],
   "source": [
    "# model = XGBClassifier()\n",
    "# model.fit(X, y)\n",
    "# ax = plot_importance(model)\n",
    "# fig = ax.figure\n",
    "# ax.grid(False)\n",
    "# fig.set_size_inches(10,20)\n",
    "# plt.show()"
   ]
  },
  {
   "cell_type": "code",
   "execution_count": 25,
   "metadata": {
    "ExecuteTime": {
     "end_time": "2019-12-30T05:40:10.393658Z",
     "start_time": "2019-12-30T05:40:10.389697Z"
    },
    "code_folding": [
     0
    ],
    "hidden": true
   },
   "outputs": [],
   "source": [
    "# from sklearn.ensemble import ExtraTreesClassifier\n",
    "# model = ExtraTreesClassifier()\n",
    "# model.fit(X,y)\n",
    "# #plot graph of feature importances\n",
    "# feat_importances = pd.Series(model.feature_importances_, index=X.columns)\n",
    "# feat_importances.nlargest(20).plot(kind='barh')\n",
    "# plt.show()"
   ]
  },
  {
   "cell_type": "markdown",
   "metadata": {},
   "source": [
    "## choosing model"
   ]
  },
  {
   "cell_type": "code",
   "execution_count": 26,
   "metadata": {
    "ExecuteTime": {
     "end_time": "2019-12-30T05:40:10.405313Z",
     "start_time": "2019-12-30T05:40:10.398245Z"
    }
   },
   "outputs": [
    {
     "data": {
      "text/plain": [
       "(50366, 39)"
      ]
     },
     "execution_count": 26,
     "metadata": {},
     "output_type": "execute_result"
    }
   ],
   "source": [
    "X_train.shape"
   ]
  },
  {
   "cell_type": "code",
   "execution_count": 30,
   "metadata": {
    "ExecuteTime": {
     "end_time": "2019-12-30T05:40:39.897611Z",
     "start_time": "2019-12-30T05:40:39.254936Z"
    },
    "code_folding": []
   },
   "outputs": [
    {
     "name": "stdout",
     "output_type": "stream",
     "text": [
      "0.8085629866377877\n"
     ]
    }
   ],
   "source": [
    "# looking to keep enough to maintain 80% explained variance\n",
    "pca = PCA(n_components=26)\n",
    "principalComponents = pca.fit_transform(X_train)\n",
    "print(np.sum(pca.explained_variance_ratio_))"
   ]
  },
  {
   "cell_type": "code",
   "execution_count": 31,
   "metadata": {
    "ExecuteTime": {
     "end_time": "2019-12-30T05:40:39.906558Z",
     "start_time": "2019-12-30T05:40:39.901614Z"
    }
   },
   "outputs": [],
   "source": [
    "num_feats = 26"
   ]
  },
  {
   "cell_type": "code",
   "execution_count": 32,
   "metadata": {
    "ExecuteTime": {
     "end_time": "2019-12-30T05:40:39.926324Z",
     "start_time": "2019-12-30T05:40:39.912366Z"
    },
    "code_folding": []
   },
   "outputs": [],
   "source": [
    "#assign pipelines\n",
    "pipe_kn = Pipeline([('kn_model', KNeighborsClassifier())])\n",
    "\n",
    "pipe_tree = Pipeline([('dt_model', DecisionTreeClassifier(random_state=3))])\n",
    "\n",
    "pipe_bag = Pipeline([('bag_model', BaggingClassifier(DecisionTreeClassifier(random_state=3)))])\n",
    "\n",
    "pipe_rf = Pipeline([('rf_model', RandomForestClassifier(random_state=3))])\n",
    "\n",
    "pipe_ada = Pipeline([('ada_model', AdaBoostClassifier(random_state=3))])\n",
    "\n",
    "pipe_gbt = Pipeline([('gbt_model', GradientBoostingClassifier(random_state=3))])\n",
    "\n",
    "pipe_xgb = Pipeline([('xgb_model', XGBClassifier(random_state=3))])\n",
    "\n",
    "pipe_svc = Pipeline([('svm_model', svm.SVC(random_state=3))])"
   ]
  },
  {
   "cell_type": "code",
   "execution_count": 33,
   "metadata": {
    "ExecuteTime": {
     "end_time": "2019-12-30T05:40:39.940835Z",
     "start_time": "2019-12-30T05:40:39.934378Z"
    },
    "code_folding": [
     0
    ],
    "scrolled": true
   },
   "outputs": [],
   "source": [
    "# # initiating baseline model, cross val scores\n",
    "# pipelines = [pipe_kn, pipe_tree, pipe_bag, pipe_rf, pipe_ada, pipe_gbt, pipe_xgb, pipe_svc]\n",
    "# pipeline_names = ['KNeighbors','Decision Tree', 'Bagged Trees', 'Random Forest', 'AdaBoost', 'Gradient Boosting', 'XGBoost', 'Logistic Regression', 'Support Vector']\n",
    "\n",
    "# for pipeline, name in zip(pipelines, pipeline_names):\n",
    "#     print(name, ':')\n",
    "#     print(pipeline)\n",
    "#     pipeline.fit(X_train, y_train)\n",
    "    \n",
    "#     print()\n",
    "#     recall = cross_val_score(pipeline, X_train, y_train, cv=5, scoring='recall')\n",
    "#     print('Recall', np.mean(recall))\n",
    "#     precision = cross_val_score(pipeline, X_train, y_train, cv=5, scoring='precision')\n",
    "#     print('Precision', np.mean(precision))\n",
    "#     f1 = cross_val_score(pipeline, X_train, y_train, cv=5, scoring='f1')\n",
    "#     print('F1', np.mean(f1))\n",
    "#     print()\n",
    "#     print()"
   ]
  },
  {
   "cell_type": "code",
   "execution_count": 34,
   "metadata": {
    "ExecuteTime": {
     "end_time": "2019-12-30T05:40:39.951116Z",
     "start_time": "2019-12-30T05:40:39.944953Z"
    },
    "code_folding": [
     0
    ]
   },
   "outputs": [],
   "source": [
    "# #baseline model accuracy scores\n",
    "\n",
    "# for classifier, pl in zip((XGBClassifier, LogisticRegression, RandomForestClassifier,DecisionTreeClassifier, AdaBoostClassifier, GradientBoostingClassifier, BaggingClassifier, svm.SVC),('xgbc','logistic regression', 'random forest', 'decision tree', 'adaboost', 'gradient', 'bagging', 'support vector')):\n",
    "\n",
    "#     pipe = Pipeline([('pca', PCA(n_components=num_feats)),\n",
    "#                     ('clf', classifier(random_state=3))])\n",
    "#     pipe.fit(X_train, y_train)\n",
    "    \n",
    "#     print(pl)\n",
    "#     print(pipe.score(X_test, y_test))\n",
    "#     print()"
   ]
  },
  {
   "cell_type": "code",
   "execution_count": 35,
   "metadata": {
    "ExecuteTime": {
     "end_time": "2019-12-30T11:49:08.614306Z",
     "start_time": "2019-12-30T05:40:39.954835Z"
    },
    "code_folding": []
   },
   "outputs": [
    {
     "name": "stdout",
     "output_type": "stream",
     "text": [
      "xg :\n",
      "Accuracy 0.761783743001231\n",
      "Recall 0.07897271268057784\n",
      "Precision 0.619021858188776\n",
      "F1 0.1400191670664559\n",
      "\n",
      "logistic regression :\n",
      "Accuracy 0.7556089425406027\n",
      "Recall 0.0747191011235955\n",
      "Precision 0.6276184200921654\n",
      "F1 0.13352515239750679\n",
      "\n",
      "random forest :\n",
      "Accuracy 0.9471667394671008\n",
      "Recall 0.15818619582664525\n",
      "Precision 0.35075127724521943\n",
      "F1 0.21691327623614934\n",
      "\n",
      "decision tree :\n",
      "Accuracy 0.9643608783703292\n",
      "Recall 0.2918940609951846\n",
      "Precision 0.28193109533087163\n",
      "F1 0.28705289445940807\n",
      "\n",
      "adaboost :\n",
      "Accuracy 0.7594011833379661\n",
      "Recall 0.08956661316211878\n",
      "Precision 0.6121638685582239\n",
      "F1 0.15616146888997534\n",
      "\n",
      "gradient :\n",
      "Accuracy 0.7629154588412819\n",
      "Recall 0.08081861958266452\n",
      "Precision 0.6197332665665177\n",
      "F1 0.1429406248729658\n",
      "\n",
      "bagging :\n",
      "Accuracy 0.9486955485843624\n",
      "Recall 0.17383627608346708\n",
      "Precision 0.32617443887415154\n",
      "F1 0.2292229238773114\n",
      "\n",
      "support vector :\n",
      "Accuracy 0.7610094111106699\n",
      "Recall 0.08739967897271268\n",
      "Precision 0.6027729911469525\n",
      "F1 0.15258103295073489\n",
      "\n"
     ]
    }
   ],
   "source": [
    "for classifier, cls in zip((XGBClassifier(), LogisticRegression(), RandomForestClassifier(),DecisionTreeClassifier(), AdaBoostClassifier(),GradientBoostingClassifier(), BaggingClassifier(), svm.SVC() ),('xg','logistic regression', 'random forest', 'decision tree', 'adaboost', 'gradient', 'bagging', 'support vector')):\n",
    "    \n",
    "    \n",
    "    pipe_lr = Pipeline([('pca', PCA(n_components=num_feats, random_state=3)),\n",
    "         ('clf', classifier)])\n",
    "\n",
    "    pipe_lr.fit(X_train, y_train)\n",
    "    \n",
    "    \n",
    "    print(cls, \":\")\n",
    "    print('Accuracy',pipe_lr.score(X_train, y_train))\n",
    "    recall = cross_val_score(classifier, X_train, y_train, cv=5, scoring='recall')\n",
    "    print('Recall', np.mean(recall))\n",
    "    precision = cross_val_score(classifier, X_train, y_train, cv=5, scoring='precision')\n",
    "    print('Precision', np.mean(precision))\n",
    "    f1 = cross_val_score(classifier, X_train, y_train, cv=5, scoring='f1')\n",
    "    print('F1', np.mean(f1))\n",
    "    print()"
   ]
  },
  {
   "cell_type": "markdown",
   "metadata": {},
   "source": [
    "## decision tree"
   ]
  },
  {
   "cell_type": "code",
   "execution_count": 36,
   "metadata": {
    "ExecuteTime": {
     "end_time": "2019-12-30T11:49:09.033482Z",
     "start_time": "2019-12-30T11:49:08.618320Z"
    }
   },
   "outputs": [],
   "source": [
    "# initialize and fit decision tree\n",
    "dt_model = DecisionTreeClassifier()\n",
    "dt_model.fit(X_train, y_train)\n",
    "\n",
    "predictions = dt_model.predict(X_test)\n",
    "actuals = y_test"
   ]
  },
  {
   "cell_type": "code",
   "execution_count": 37,
   "metadata": {
    "ExecuteTime": {
     "end_time": "2019-12-30T11:49:10.318611Z",
     "start_time": "2019-12-30T11:49:09.038097Z"
    }
   },
   "outputs": [
    {
     "name": "stdout",
     "output_type": "stream",
     "text": [
      "train score: 97.68%\n",
      "test score: 63.93%\n",
      "cross val score: 63.92%\n",
      "AUC  : 52.35%\n",
      "\n",
      "Classification Report:\n",
      "              precision    recall  f1-score   support\n",
      "\n",
      "           0       0.76      0.76      0.76      9397\n",
      "           1       0.29      0.29      0.29      3195\n",
      "\n",
      "   micro avg       0.64      0.64      0.64     12592\n",
      "   macro avg       0.52      0.52      0.52     12592\n",
      "weighted avg       0.64      0.64      0.64     12592\n",
      "\n",
      "\n",
      "Confusion Matrix: 1=Fatal, 0=Minor\n"
     ]
    },
    {
     "data": {
      "text/html": [
       "<div>\n",
       "<style scoped>\n",
       "    .dataframe tbody tr th:only-of-type {\n",
       "        vertical-align: middle;\n",
       "    }\n",
       "\n",
       "    .dataframe tbody tr th {\n",
       "        vertical-align: top;\n",
       "    }\n",
       "\n",
       "    .dataframe thead th {\n",
       "        text-align: right;\n",
       "    }\n",
       "</style>\n",
       "<table border=\"1\" class=\"dataframe\">\n",
       "  <thead>\n",
       "    <tr style=\"text-align: right;\">\n",
       "      <th>Predicted</th>\n",
       "      <th>0</th>\n",
       "      <th>1</th>\n",
       "      <th>All</th>\n",
       "    </tr>\n",
       "    <tr>\n",
       "      <th>Actual</th>\n",
       "      <th></th>\n",
       "      <th></th>\n",
       "      <th></th>\n",
       "    </tr>\n",
       "  </thead>\n",
       "  <tbody>\n",
       "    <tr>\n",
       "      <th>0</th>\n",
       "      <td>7129</td>\n",
       "      <td>2268</td>\n",
       "      <td>9397</td>\n",
       "    </tr>\n",
       "    <tr>\n",
       "      <th>1</th>\n",
       "      <td>2274</td>\n",
       "      <td>921</td>\n",
       "      <td>3195</td>\n",
       "    </tr>\n",
       "    <tr>\n",
       "      <th>All</th>\n",
       "      <td>9403</td>\n",
       "      <td>3189</td>\n",
       "      <td>12592</td>\n",
       "    </tr>\n",
       "  </tbody>\n",
       "</table>\n",
       "</div>"
      ],
      "text/plain": [
       "Predicted     0     1    All\n",
       "Actual                      \n",
       "0          7129  2268   9397\n",
       "1          2274   921   3195\n",
       "All        9403  3189  12592"
      ]
     },
     "metadata": {},
     "output_type": "display_data"
    }
   ],
   "source": [
    "model_report(dt_model)"
   ]
  },
  {
   "cell_type": "code",
   "execution_count": 38,
   "metadata": {
    "ExecuteTime": {
     "end_time": "2019-12-30T11:49:26.482944Z",
     "start_time": "2019-12-30T11:49:10.323479Z"
    },
    "code_folding": []
   },
   "outputs": [
    {
     "name": "stdout",
     "output_type": "stream",
     "text": [
      "Fitting 5 folds for each of 24 candidates, totalling 120 fits\n"
     ]
    },
    {
     "name": "stderr",
     "output_type": "stream",
     "text": [
      "[Parallel(n_jobs=-1)]: Using backend LokyBackend with 4 concurrent workers.\n",
      "[Parallel(n_jobs=-1)]: Done  42 tasks      | elapsed:    8.3s\n"
     ]
    },
    {
     "name": "stdout",
     "output_type": "stream",
     "text": [
      "Best accuracy: 76.03%\n",
      "params:\n",
      " {'dt_model__criterion': 'entropy', 'dt_model__max_depth': 3, 'dt_model__min_samples_leaf': 0.01, 'dt_model__min_samples_split': 0.01}\n"
     ]
    },
    {
     "name": "stderr",
     "output_type": "stream",
     "text": [
      "[Parallel(n_jobs=-1)]: Done 120 out of 120 | elapsed:   16.0s finished\n"
     ]
    }
   ],
   "source": [
    "# grid search params\n",
    "param_grid_dt = [\n",
    "    {'dt_model__criterion': ['entropy','gini'],\n",
    "    'dt_model__max_depth': [2,3,4],\n",
    "    'dt_model__min_samples_split': [0.01, 0.001],\n",
    "    'dt_model__min_samples_leaf': [0.01, 0.001]}\n",
    "]\n",
    "\n",
    "# grid search\n",
    "gs_dt = GridSearchCV(estimator=pipe_tree,\n",
    "                    param_grid=param_grid_dt,\n",
    "                    scoring=('accuracy'),\n",
    "                    cv=5, n_jobs=-1, verbose=1)\n",
    "\n",
    "# fitting grid search\n",
    "gs_dt.fit(X_train, y_train)\n",
    "\n",
    "# best parameters\n",
    "print('Best accuracy: {:.4}%'.format(gs_dt.best_score_ * 100))\n",
    "print('params:\\n', gs_dt.best_params_)"
   ]
  },
  {
   "cell_type": "code",
   "execution_count": 39,
   "metadata": {
    "ExecuteTime": {
     "end_time": "2019-12-30T11:49:26.491481Z",
     "start_time": "2019-12-30T11:49:26.486952Z"
    },
    "code_folding": [
     0
    ]
   },
   "outputs": [],
   "source": [
    "## recall scoring grid search\n",
    "# gs_dt = GridSearchCV(estimator=pipe_tree,\n",
    "#                     param_grid=param_grid_dt,\n",
    "#                     scoring=('recall'),\n",
    "#                     cv=4, n_jobs=-1, verbose=1)\n",
    "# # fitting grid search\n",
    "# gs_dt.fit(X_train, y_train)\n",
    "\n",
    "# # best parameters\n",
    "# print('Best accuracy: {:.4}%'.format(gs_dt.best_score_ * 100))\n",
    "# print('params:\\n', gs_dt.best_params_)"
   ]
  },
  {
   "cell_type": "code",
   "execution_count": 40,
   "metadata": {
    "ExecuteTime": {
     "end_time": "2019-12-30T11:49:26.573233Z",
     "start_time": "2019-12-30T11:49:26.495465Z"
    }
   },
   "outputs": [],
   "source": [
    "# using best params to fit model\n",
    "dt_gs_model = DecisionTreeClassifier(criterion='entropy',\n",
    "                               max_depth=3,\n",
    "                               min_samples_leaf=0.01,\n",
    "                               min_samples_split=0.01)\n",
    "dt_gs_model.fit(X_train, y_train)\n",
    "\n",
    "predictions = dt_gs_model.predict(X_test)\n",
    "actuals = y_test"
   ]
  },
  {
   "cell_type": "code",
   "execution_count": 41,
   "metadata": {
    "ExecuteTime": {
     "end_time": "2019-12-30T11:49:26.935247Z",
     "start_time": "2019-12-30T11:49:26.575765Z"
    }
   },
   "outputs": [
    {
     "name": "stdout",
     "output_type": "stream",
     "text": [
      "train score: 76.06%\n",
      "test score: 75.56%\n",
      "cross val score: 75.96%\n",
      "AUC  : 52.94%\n",
      "\n",
      "Classification Report:\n",
      "              precision    recall  f1-score   support\n",
      "\n",
      "           0       0.76      0.99      0.86      9397\n",
      "           1       0.68      0.07      0.13      3195\n",
      "\n",
      "   micro avg       0.76      0.76      0.76     12592\n",
      "   macro avg       0.72      0.53      0.49     12592\n",
      "weighted avg       0.74      0.76      0.67     12592\n",
      "\n",
      "\n",
      "Confusion Matrix: 1=Fatal, 0=Minor\n"
     ]
    },
    {
     "data": {
      "text/html": [
       "<div>\n",
       "<style scoped>\n",
       "    .dataframe tbody tr th:only-of-type {\n",
       "        vertical-align: middle;\n",
       "    }\n",
       "\n",
       "    .dataframe tbody tr th {\n",
       "        vertical-align: top;\n",
       "    }\n",
       "\n",
       "    .dataframe thead th {\n",
       "        text-align: right;\n",
       "    }\n",
       "</style>\n",
       "<table border=\"1\" class=\"dataframe\">\n",
       "  <thead>\n",
       "    <tr style=\"text-align: right;\">\n",
       "      <th>Predicted</th>\n",
       "      <th>0</th>\n",
       "      <th>1</th>\n",
       "      <th>All</th>\n",
       "    </tr>\n",
       "    <tr>\n",
       "      <th>Actual</th>\n",
       "      <th></th>\n",
       "      <th></th>\n",
       "      <th></th>\n",
       "    </tr>\n",
       "  </thead>\n",
       "  <tbody>\n",
       "    <tr>\n",
       "      <th>0</th>\n",
       "      <td>9290</td>\n",
       "      <td>107</td>\n",
       "      <td>9397</td>\n",
       "    </tr>\n",
       "    <tr>\n",
       "      <th>1</th>\n",
       "      <td>2971</td>\n",
       "      <td>224</td>\n",
       "      <td>3195</td>\n",
       "    </tr>\n",
       "    <tr>\n",
       "      <th>All</th>\n",
       "      <td>12261</td>\n",
       "      <td>331</td>\n",
       "      <td>12592</td>\n",
       "    </tr>\n",
       "  </tbody>\n",
       "</table>\n",
       "</div>"
      ],
      "text/plain": [
       "Predicted      0    1    All\n",
       "Actual                      \n",
       "0           9290  107   9397\n",
       "1           2971  224   3195\n",
       "All        12261  331  12592"
      ]
     },
     "metadata": {},
     "output_type": "display_data"
    }
   ],
   "source": [
    "# new model report\n",
    "model_report(dt_gs_model)"
   ]
  },
  {
   "cell_type": "markdown",
   "metadata": {},
   "source": [
    "## Random Forest"
   ]
  },
  {
   "cell_type": "code",
   "execution_count": 42,
   "metadata": {
    "ExecuteTime": {
     "end_time": "2019-12-30T11:49:27.832196Z",
     "start_time": "2019-12-30T11:49:26.938411Z"
    }
   },
   "outputs": [],
   "source": [
    "#initialize and fit random forest\n",
    "rf_model = RandomForestClassifier()\n",
    "rf_model.fit(X_train, y_train)\n",
    "\n",
    "predictions = rf_model.predict(X_test)\n",
    "actuals = y_test"
   ]
  },
  {
   "cell_type": "code",
   "execution_count": 43,
   "metadata": {
    "ExecuteTime": {
     "end_time": "2019-12-30T11:49:30.339405Z",
     "start_time": "2019-12-30T11:49:27.835575Z"
    }
   },
   "outputs": [
    {
     "name": "stdout",
     "output_type": "stream",
     "text": [
      "train score: 95.11%\n",
      "test score: 71.59%\n",
      "cross val score: 71.46%\n",
      "AUC  : 52.93%\n",
      "\n",
      "Classification Report:\n",
      "              precision    recall  f1-score   support\n",
      "\n",
      "           0       0.76      0.91      0.83      9397\n",
      "           1       0.36      0.15      0.21      3195\n",
      "\n",
      "   micro avg       0.72      0.72      0.72     12592\n",
      "   macro avg       0.56      0.53      0.52     12592\n",
      "weighted avg       0.66      0.72      0.67     12592\n",
      "\n",
      "\n",
      "Confusion Matrix: 1=Fatal, 0=Minor\n"
     ]
    },
    {
     "data": {
      "text/html": [
       "<div>\n",
       "<style scoped>\n",
       "    .dataframe tbody tr th:only-of-type {\n",
       "        vertical-align: middle;\n",
       "    }\n",
       "\n",
       "    .dataframe tbody tr th {\n",
       "        vertical-align: top;\n",
       "    }\n",
       "\n",
       "    .dataframe thead th {\n",
       "        text-align: right;\n",
       "    }\n",
       "</style>\n",
       "<table border=\"1\" class=\"dataframe\">\n",
       "  <thead>\n",
       "    <tr style=\"text-align: right;\">\n",
       "      <th>Predicted</th>\n",
       "      <th>0</th>\n",
       "      <th>1</th>\n",
       "      <th>All</th>\n",
       "    </tr>\n",
       "    <tr>\n",
       "      <th>Actual</th>\n",
       "      <th></th>\n",
       "      <th></th>\n",
       "      <th></th>\n",
       "    </tr>\n",
       "  </thead>\n",
       "  <tbody>\n",
       "    <tr>\n",
       "      <th>0</th>\n",
       "      <td>8533</td>\n",
       "      <td>864</td>\n",
       "      <td>9397</td>\n",
       "    </tr>\n",
       "    <tr>\n",
       "      <th>1</th>\n",
       "      <td>2714</td>\n",
       "      <td>481</td>\n",
       "      <td>3195</td>\n",
       "    </tr>\n",
       "    <tr>\n",
       "      <th>All</th>\n",
       "      <td>11247</td>\n",
       "      <td>1345</td>\n",
       "      <td>12592</td>\n",
       "    </tr>\n",
       "  </tbody>\n",
       "</table>\n",
       "</div>"
      ],
      "text/plain": [
       "Predicted      0     1    All\n",
       "Actual                       \n",
       "0           8533   864   9397\n",
       "1           2714   481   3195\n",
       "All        11247  1345  12592"
      ]
     },
     "metadata": {},
     "output_type": "display_data"
    }
   ],
   "source": [
    "#baseline model report\n",
    "model_report(rf_model)"
   ]
  },
  {
   "cell_type": "code",
   "execution_count": 44,
   "metadata": {
    "ExecuteTime": {
     "end_time": "2019-12-30T12:07:40.223708Z",
     "start_time": "2019-12-30T11:49:30.343318Z"
    }
   },
   "outputs": [
    {
     "name": "stdout",
     "output_type": "stream",
     "text": [
      "Fitting 5 folds for each of 16 candidates, totalling 80 fits\n"
     ]
    },
    {
     "name": "stderr",
     "output_type": "stream",
     "text": [
      "[Parallel(n_jobs=-1)]: Using backend LokyBackend with 4 concurrent workers.\n",
      "[Parallel(n_jobs=-1)]: Done  42 tasks      | elapsed:  9.2min\n",
      "[Parallel(n_jobs=-1)]: Done  80 out of  80 | elapsed: 18.1min finished\n"
     ]
    },
    {
     "name": "stdout",
     "output_type": "stream",
     "text": [
      "best accuracy: 76.07%\n",
      "params:\n",
      " {'rf_model__criterion': 'entropy', 'rf_model__max_depth': None, 'rf_model__min_samples_leaf': 0.001, 'rf_model__min_samples_split': 0.001, 'rf_model__n_estimators': 100}\n"
     ]
    }
   ],
   "source": [
    "# grid search params\n",
    "param_grid_rf = [\n",
    "    {'rf_model__criterion': ['entropy','gini'],\n",
    "    'rf_model__n_estimators': [100,150],\n",
    "    'rf_model__max_depth': [None],\n",
    "    'rf_model__min_samples_split': [0.01,0.001],\n",
    "    'rf_model__min_samples_leaf': [0.01,0.001]}\n",
    "]\n",
    "\n",
    "# grid search\n",
    "gs_rf = GridSearchCV(estimator=pipe_rf,\n",
    "                    param_grid=param_grid_rf,\n",
    "                    scoring='accuracy',\n",
    "                    cv=5, n_jobs=-1, verbose=1)\n",
    "\n",
    "# fitting grid search\n",
    "gs_rf.fit(X_train, y_train)\n",
    "\n",
    "# best parameters\n",
    "print('best accuracy: {:.4}%'.format(gs_rf.best_score_ * 100))\n",
    "print('params:\\n', gs_rf.best_params_)"
   ]
  },
  {
   "cell_type": "code",
   "execution_count": 45,
   "metadata": {
    "ExecuteTime": {
     "end_time": "2019-12-30T12:07:45.577885Z",
     "start_time": "2019-12-30T12:07:40.227041Z"
    }
   },
   "outputs": [],
   "source": [
    "# fitting model using best params\n",
    "rf_gs_model = RandomForestClassifier(criterion='entropy',\n",
    "                                 max_depth=None,\n",
    "                                 min_samples_leaf=0.001,\n",
    "                                 min_samples_split=0.001,\n",
    "                                 n_estimators=100)\n",
    "rf_gs_model.fit(X_train, y_train)\n",
    "\n",
    "predictions = rf_gs_model.predict(X_test)\n",
    "actuals = y_test"
   ]
  },
  {
   "cell_type": "code",
   "execution_count": 46,
   "metadata": {
    "ExecuteTime": {
     "end_time": "2019-12-30T12:08:01.223843Z",
     "start_time": "2019-12-30T12:07:45.581776Z"
    }
   },
   "outputs": [
    {
     "name": "stdout",
     "output_type": "stream",
     "text": [
      "train score: 76.13%\n",
      "test score: 75.54%\n",
      "cross val score: 75.96%\n",
      "AUC  : 52.84%\n",
      "\n",
      "Classification Report:\n",
      "              precision    recall  f1-score   support\n",
      "\n",
      "           0       0.76      0.99      0.86      9397\n",
      "           1       0.68      0.07      0.12      3195\n",
      "\n",
      "   micro avg       0.76      0.76      0.76     12592\n",
      "   macro avg       0.72      0.53      0.49     12592\n",
      "weighted avg       0.74      0.76      0.67     12592\n",
      "\n",
      "\n",
      "Confusion Matrix: 1=Fatal, 0=Minor\n"
     ]
    },
    {
     "data": {
      "text/html": [
       "<div>\n",
       "<style scoped>\n",
       "    .dataframe tbody tr th:only-of-type {\n",
       "        vertical-align: middle;\n",
       "    }\n",
       "\n",
       "    .dataframe tbody tr th {\n",
       "        vertical-align: top;\n",
       "    }\n",
       "\n",
       "    .dataframe thead th {\n",
       "        text-align: right;\n",
       "    }\n",
       "</style>\n",
       "<table border=\"1\" class=\"dataframe\">\n",
       "  <thead>\n",
       "    <tr style=\"text-align: right;\">\n",
       "      <th>Predicted</th>\n",
       "      <th>0</th>\n",
       "      <th>1</th>\n",
       "      <th>All</th>\n",
       "    </tr>\n",
       "    <tr>\n",
       "      <th>Actual</th>\n",
       "      <th></th>\n",
       "      <th></th>\n",
       "      <th></th>\n",
       "    </tr>\n",
       "  </thead>\n",
       "  <tbody>\n",
       "    <tr>\n",
       "      <th>0</th>\n",
       "      <td>9296</td>\n",
       "      <td>101</td>\n",
       "      <td>9397</td>\n",
       "    </tr>\n",
       "    <tr>\n",
       "      <th>1</th>\n",
       "      <td>2979</td>\n",
       "      <td>216</td>\n",
       "      <td>3195</td>\n",
       "    </tr>\n",
       "    <tr>\n",
       "      <th>All</th>\n",
       "      <td>12275</td>\n",
       "      <td>317</td>\n",
       "      <td>12592</td>\n",
       "    </tr>\n",
       "  </tbody>\n",
       "</table>\n",
       "</div>"
      ],
      "text/plain": [
       "Predicted      0    1    All\n",
       "Actual                      \n",
       "0           9296  101   9397\n",
       "1           2979  216   3195\n",
       "All        12275  317  12592"
      ]
     },
     "metadata": {},
     "output_type": "display_data"
    }
   ],
   "source": [
    "# new model report\n",
    "model_report(rf_gs_model)"
   ]
  },
  {
   "cell_type": "markdown",
   "metadata": {},
   "source": [
    "## adaboost"
   ]
  },
  {
   "cell_type": "code",
   "execution_count": 47,
   "metadata": {
    "ExecuteTime": {
     "end_time": "2019-12-30T12:08:02.761450Z",
     "start_time": "2019-12-30T12:08:01.227322Z"
    }
   },
   "outputs": [],
   "source": [
    "#initialize and fit model\n",
    "ada_model = AdaBoostClassifier()\n",
    "ada_model.fit(X_train, y_train)\n",
    "\n",
    "predictions = ada_model.predict(X_test)\n",
    "actuals = y_test"
   ]
  },
  {
   "cell_type": "code",
   "execution_count": 48,
   "metadata": {
    "ExecuteTime": {
     "end_time": "2019-12-30T12:08:07.078116Z",
     "start_time": "2019-12-30T12:08:02.763634Z"
    }
   },
   "outputs": [
    {
     "name": "stdout",
     "output_type": "stream",
     "text": [
      "train score: 76.11%\n",
      "test score: 75.44%\n",
      "cross val score: 75.98%\n",
      "AUC  : 53.35%\n",
      "\n",
      "Classification Report:\n",
      "              precision    recall  f1-score   support\n",
      "\n",
      "           0       0.76      0.98      0.86      9397\n",
      "           1       0.62      0.08      0.15      3195\n",
      "\n",
      "   micro avg       0.75      0.75      0.75     12592\n",
      "   macro avg       0.69      0.53      0.50     12592\n",
      "weighted avg       0.72      0.75      0.68     12592\n",
      "\n",
      "\n",
      "Confusion Matrix: 1=Fatal, 0=Minor\n"
     ]
    },
    {
     "data": {
      "text/html": [
       "<div>\n",
       "<style scoped>\n",
       "    .dataframe tbody tr th:only-of-type {\n",
       "        vertical-align: middle;\n",
       "    }\n",
       "\n",
       "    .dataframe tbody tr th {\n",
       "        vertical-align: top;\n",
       "    }\n",
       "\n",
       "    .dataframe thead th {\n",
       "        text-align: right;\n",
       "    }\n",
       "</style>\n",
       "<table border=\"1\" class=\"dataframe\">\n",
       "  <thead>\n",
       "    <tr style=\"text-align: right;\">\n",
       "      <th>Predicted</th>\n",
       "      <th>0</th>\n",
       "      <th>1</th>\n",
       "      <th>All</th>\n",
       "    </tr>\n",
       "    <tr>\n",
       "      <th>Actual</th>\n",
       "      <th></th>\n",
       "      <th></th>\n",
       "      <th></th>\n",
       "    </tr>\n",
       "  </thead>\n",
       "  <tbody>\n",
       "    <tr>\n",
       "      <th>0</th>\n",
       "      <td>9229</td>\n",
       "      <td>168</td>\n",
       "      <td>9397</td>\n",
       "    </tr>\n",
       "    <tr>\n",
       "      <th>1</th>\n",
       "      <td>2924</td>\n",
       "      <td>271</td>\n",
       "      <td>3195</td>\n",
       "    </tr>\n",
       "    <tr>\n",
       "      <th>All</th>\n",
       "      <td>12153</td>\n",
       "      <td>439</td>\n",
       "      <td>12592</td>\n",
       "    </tr>\n",
       "  </tbody>\n",
       "</table>\n",
       "</div>"
      ],
      "text/plain": [
       "Predicted      0    1    All\n",
       "Actual                      \n",
       "0           9229  168   9397\n",
       "1           2924  271   3195\n",
       "All        12153  439  12592"
      ]
     },
     "metadata": {},
     "output_type": "display_data"
    }
   ],
   "source": [
    "#baseline model report\n",
    "model_report(ada_model)"
   ]
  },
  {
   "cell_type": "code",
   "execution_count": 49,
   "metadata": {
    "ExecuteTime": {
     "end_time": "2019-12-30T12:12:23.014003Z",
     "start_time": "2019-12-30T12:08:07.081678Z"
    }
   },
   "outputs": [
    {
     "name": "stdout",
     "output_type": "stream",
     "text": [
      "Fitting 5 folds for each of 4 candidates, totalling 20 fits\n"
     ]
    },
    {
     "name": "stderr",
     "output_type": "stream",
     "text": [
      "[Parallel(n_jobs=-1)]: Using backend LokyBackend with 4 concurrent workers.\n",
      "[Parallel(n_jobs=-1)]: Done  20 out of  20 | elapsed:  4.2min finished\n"
     ]
    },
    {
     "name": "stdout",
     "output_type": "stream",
     "text": [
      "best accuracy: 76.04%\n",
      "params:\n",
      " {'ada_model__learning_rate': 0.2, 'ada_model__n_estimators': 70}\n"
     ]
    }
   ],
   "source": [
    "param_grid_ada = [\n",
    "    {'ada_model__n_estimators': [50,70],\n",
    "    'ada_model__learning_rate': [0.1,0.2]}\n",
    "]\n",
    "\n",
    "# Construct Grid Search\n",
    "gs_ada = GridSearchCV(estimator=pipe_ada,\n",
    "                    param_grid=param_grid_ada,\n",
    "                    scoring='accuracy',\n",
    "                    cv=5, n_jobs=-1, verbose=1)\n",
    "\n",
    "# Fit using grid search\n",
    "gs_ada.fit(X_train, y_train)\n",
    "\n",
    "# Best accuracy and parameters\n",
    "print('best accuracy: {:.4}%'.format(gs_ada.best_score_ * 100))\n",
    "print('params:\\n', gs_ada.best_params_)"
   ]
  },
  {
   "cell_type": "code",
   "execution_count": 50,
   "metadata": {
    "ExecuteTime": {
     "end_time": "2019-12-30T12:12:25.023247Z",
     "start_time": "2019-12-30T12:12:23.017233Z"
    }
   },
   "outputs": [],
   "source": [
    "ada_gs_model = AdaBoostClassifier(n_estimators=70,\n",
    "                                   learning_rate=0.2)\n",
    "ada_gs_model.fit(X_train, y_train)\n",
    "\n",
    "predictions = ada_gs_model.predict(X_test)\n",
    "actuals = y_test\n"
   ]
  },
  {
   "cell_type": "code",
   "execution_count": 51,
   "metadata": {
    "ExecuteTime": {
     "end_time": "2019-12-30T12:12:30.892881Z",
     "start_time": "2019-12-30T12:12:25.025341Z"
    }
   },
   "outputs": [
    {
     "name": "stdout",
     "output_type": "stream",
     "text": [
      "train score: 76.07%\n",
      "test score: 75.6%\n",
      "cross val score: 75.97%\n",
      "AUC  : 53.04%\n",
      "\n",
      "Classification Report:\n",
      "              precision    recall  f1-score   support\n",
      "\n",
      "           0       0.76      0.99      0.86      9397\n",
      "           1       0.68      0.07      0.13      3195\n",
      "\n",
      "   micro avg       0.76      0.76      0.76     12592\n",
      "   macro avg       0.72      0.53      0.49     12592\n",
      "weighted avg       0.74      0.76      0.67     12592\n",
      "\n",
      "\n",
      "Confusion Matrix: 1=Fatal, 0=Minor\n"
     ]
    },
    {
     "data": {
      "text/html": [
       "<div>\n",
       "<style scoped>\n",
       "    .dataframe tbody tr th:only-of-type {\n",
       "        vertical-align: middle;\n",
       "    }\n",
       "\n",
       "    .dataframe tbody tr th {\n",
       "        vertical-align: top;\n",
       "    }\n",
       "\n",
       "    .dataframe thead th {\n",
       "        text-align: right;\n",
       "    }\n",
       "</style>\n",
       "<table border=\"1\" class=\"dataframe\">\n",
       "  <thead>\n",
       "    <tr style=\"text-align: right;\">\n",
       "      <th>Predicted</th>\n",
       "      <th>0</th>\n",
       "      <th>1</th>\n",
       "      <th>All</th>\n",
       "    </tr>\n",
       "    <tr>\n",
       "      <th>Actual</th>\n",
       "      <th></th>\n",
       "      <th></th>\n",
       "      <th></th>\n",
       "    </tr>\n",
       "  </thead>\n",
       "  <tbody>\n",
       "    <tr>\n",
       "      <th>0</th>\n",
       "      <td>9289</td>\n",
       "      <td>108</td>\n",
       "      <td>9397</td>\n",
       "    </tr>\n",
       "    <tr>\n",
       "      <th>1</th>\n",
       "      <td>2964</td>\n",
       "      <td>231</td>\n",
       "      <td>3195</td>\n",
       "    </tr>\n",
       "    <tr>\n",
       "      <th>All</th>\n",
       "      <td>12253</td>\n",
       "      <td>339</td>\n",
       "      <td>12592</td>\n",
       "    </tr>\n",
       "  </tbody>\n",
       "</table>\n",
       "</div>"
      ],
      "text/plain": [
       "Predicted      0    1    All\n",
       "Actual                      \n",
       "0           9289  108   9397\n",
       "1           2964  231   3195\n",
       "All        12253  339  12592"
      ]
     },
     "metadata": {},
     "output_type": "display_data"
    }
   ],
   "source": [
    "model_report(ada_gs_model)"
   ]
  },
  {
   "cell_type": "markdown",
   "metadata": {},
   "source": [
    "## gradient boost"
   ]
  },
  {
   "cell_type": "code",
   "execution_count": 52,
   "metadata": {
    "ExecuteTime": {
     "end_time": "2019-12-30T12:12:37.347702Z",
     "start_time": "2019-12-30T12:12:30.901092Z"
    }
   },
   "outputs": [],
   "source": [
    "#initialize and fit gradient boost\n",
    "gbt_model = GradientBoostingClassifier()\n",
    "gbt_model.fit(X_train, y_train)\n",
    "\n",
    "predictions = gbt_model.predict(X_test)\n",
    "actuals = y_test"
   ]
  },
  {
   "cell_type": "code",
   "execution_count": 53,
   "metadata": {
    "ExecuteTime": {
     "end_time": "2019-12-30T12:16:37.590253Z",
     "start_time": "2019-12-30T12:12:37.354044Z"
    }
   },
   "outputs": [
    {
     "name": "stdout",
     "output_type": "stream",
     "text": [
      "train score: 76.17%\n",
      "test score: 75.56%\n",
      "cross val score: 75.93%\n",
      "AUC  : 53.35%\n",
      "\n",
      "Classification Report:\n",
      "              precision    recall  f1-score   support\n",
      "\n",
      "           0       0.76      0.98      0.86      9397\n",
      "           1       0.64      0.08      0.15      3195\n",
      "\n",
      "   micro avg       0.76      0.76      0.76     12592\n",
      "   macro avg       0.70      0.53      0.50     12592\n",
      "weighted avg       0.73      0.76      0.68     12592\n",
      "\n",
      "\n",
      "Confusion Matrix: 1=Fatal, 0=Minor\n"
     ]
    },
    {
     "data": {
      "text/html": [
       "<div>\n",
       "<style scoped>\n",
       "    .dataframe tbody tr th:only-of-type {\n",
       "        vertical-align: middle;\n",
       "    }\n",
       "\n",
       "    .dataframe tbody tr th {\n",
       "        vertical-align: top;\n",
       "    }\n",
       "\n",
       "    .dataframe thead th {\n",
       "        text-align: right;\n",
       "    }\n",
       "</style>\n",
       "<table border=\"1\" class=\"dataframe\">\n",
       "  <thead>\n",
       "    <tr style=\"text-align: right;\">\n",
       "      <th>Predicted</th>\n",
       "      <th>0</th>\n",
       "      <th>1</th>\n",
       "      <th>All</th>\n",
       "    </tr>\n",
       "    <tr>\n",
       "      <th>Actual</th>\n",
       "      <th></th>\n",
       "      <th></th>\n",
       "      <th></th>\n",
       "    </tr>\n",
       "  </thead>\n",
       "  <tbody>\n",
       "    <tr>\n",
       "      <th>0</th>\n",
       "      <td>9251</td>\n",
       "      <td>146</td>\n",
       "      <td>9397</td>\n",
       "    </tr>\n",
       "    <tr>\n",
       "      <th>1</th>\n",
       "      <td>2931</td>\n",
       "      <td>264</td>\n",
       "      <td>3195</td>\n",
       "    </tr>\n",
       "    <tr>\n",
       "      <th>All</th>\n",
       "      <td>12182</td>\n",
       "      <td>410</td>\n",
       "      <td>12592</td>\n",
       "    </tr>\n",
       "  </tbody>\n",
       "</table>\n",
       "</div>"
      ],
      "text/plain": [
       "Predicted      0    1    All\n",
       "Actual                      \n",
       "0           9251  146   9397\n",
       "1           2931  264   3195\n",
       "All        12182  410  12592"
      ]
     },
     "metadata": {},
     "output_type": "display_data"
    }
   ],
   "source": [
    "#baseline model report\n",
    "model_report(gbt_model)"
   ]
  },
  {
   "cell_type": "code",
   "execution_count": 54,
   "metadata": {
    "ExecuteTime": {
     "end_time": "2019-12-30T12:58:26.867013Z",
     "start_time": "2019-12-30T12:16:37.593128Z"
    },
    "code_folding": []
   },
   "outputs": [
    {
     "name": "stdout",
     "output_type": "stream",
     "text": [
      "Fitting 5 folds for each of 32 candidates, totalling 160 fits\n"
     ]
    },
    {
     "name": "stderr",
     "output_type": "stream",
     "text": [
      "[Parallel(n_jobs=-1)]: Using backend LokyBackend with 4 concurrent workers.\n",
      "[Parallel(n_jobs=-1)]: Done  42 tasks      | elapsed:  9.4min\n",
      "[Parallel(n_jobs=-1)]: Done 160 out of 160 | elapsed: 41.8min finished\n"
     ]
    },
    {
     "name": "stdout",
     "output_type": "stream",
     "text": [
      "best accuracy: 76.09%\n",
      "params:\n",
      " {'gbt_model__learning_rate': 0.15, 'gbt_model__max_depth': 4, 'gbt_model__min_samples_leaf': 1, 'gbt_model__min_samples_split': 0.1, 'gbt_model__n_estimators': 50}\n"
     ]
    }
   ],
   "source": [
    "# grid search params\n",
    "param_grid_gbt = [\n",
    "    {'gbt_model__n_estimators': [40,50],\n",
    "    'gbt_model__learning_rate': [0.15,0.1],\n",
    "    'gbt_model__min_samples_split': [0.2,0.1],\n",
    "    'gbt_model__min_samples_leaf': [0.1,1],\n",
    "    'gbt_model__max_depth': [3,4]}\n",
    "]\n",
    "\n",
    "# grid search\n",
    "gs_gbt = GridSearchCV(estimator=pipe_gbt,\n",
    "                    param_grid=param_grid_gbt,\n",
    "                    scoring='accuracy',\n",
    "                    cv=5, n_jobs=-1, verbose=1)\n",
    "\n",
    "# fit grid search\n",
    "gs_gbt.fit(X_train, y_train)\n",
    "\n",
    "# best params\n",
    "print('best accuracy: {:.4}%'.format(gs_gbt.best_score_ * 100))\n",
    "print('params:\\n', gs_gbt.best_params_)"
   ]
  },
  {
   "cell_type": "code",
   "execution_count": 55,
   "metadata": {
    "ExecuteTime": {
     "end_time": "2019-12-30T12:58:30.226432Z",
     "start_time": "2019-12-30T12:58:26.870456Z"
    }
   },
   "outputs": [],
   "source": [
    "gbt_gs_model = GradientBoostingClassifier(learning_rate=0.15,\n",
    "                                         max_depth=4,\n",
    "                                         min_samples_leaf=1,\n",
    "                                         min_samples_split=0.1,\n",
    "                                         n_estimators=50)\n",
    "gbt_gs_model.fit(X_train, y_train)\n",
    "\n",
    "predictions = gbt_gs_model.predict(X_test)\n",
    "actuals = y_test"
   ]
  },
  {
   "cell_type": "code",
   "execution_count": 56,
   "metadata": {
    "ExecuteTime": {
     "end_time": "2019-12-30T13:02:23.264018Z",
     "start_time": "2019-12-30T12:58:30.228520Z"
    }
   },
   "outputs": [
    {
     "name": "stdout",
     "output_type": "stream",
     "text": [
      "train score: 75.9%\n",
      "test score: 75.44%\n",
      "cross val score: 75.79%\n",
      "AUC  : 52.53%\n",
      "\n",
      "Classification Report:\n",
      "              precision    recall  f1-score   support\n",
      "\n",
      "           0       0.76      0.99      0.86      9397\n",
      "           1       0.68      0.06      0.11      3195\n",
      "\n",
      "   micro avg       0.75      0.75      0.75     12592\n",
      "   macro avg       0.72      0.53      0.48     12592\n",
      "weighted avg       0.74      0.75      0.67     12592\n",
      "\n",
      "\n",
      "Confusion Matrix: 1=Fatal, 0=Minor\n"
     ]
    },
    {
     "data": {
      "text/html": [
       "<div>\n",
       "<style scoped>\n",
       "    .dataframe tbody tr th:only-of-type {\n",
       "        vertical-align: middle;\n",
       "    }\n",
       "\n",
       "    .dataframe tbody tr th {\n",
       "        vertical-align: top;\n",
       "    }\n",
       "\n",
       "    .dataframe thead th {\n",
       "        text-align: right;\n",
       "    }\n",
       "</style>\n",
       "<table border=\"1\" class=\"dataframe\">\n",
       "  <thead>\n",
       "    <tr style=\"text-align: right;\">\n",
       "      <th>Predicted</th>\n",
       "      <th>0</th>\n",
       "      <th>1</th>\n",
       "      <th>All</th>\n",
       "    </tr>\n",
       "    <tr>\n",
       "      <th>Actual</th>\n",
       "      <th></th>\n",
       "      <th></th>\n",
       "      <th></th>\n",
       "    </tr>\n",
       "  </thead>\n",
       "  <tbody>\n",
       "    <tr>\n",
       "      <th>0</th>\n",
       "      <td>9308</td>\n",
       "      <td>89</td>\n",
       "      <td>9397</td>\n",
       "    </tr>\n",
       "    <tr>\n",
       "      <th>1</th>\n",
       "      <td>3003</td>\n",
       "      <td>192</td>\n",
       "      <td>3195</td>\n",
       "    </tr>\n",
       "    <tr>\n",
       "      <th>All</th>\n",
       "      <td>12311</td>\n",
       "      <td>281</td>\n",
       "      <td>12592</td>\n",
       "    </tr>\n",
       "  </tbody>\n",
       "</table>\n",
       "</div>"
      ],
      "text/plain": [
       "Predicted      0    1    All\n",
       "Actual                      \n",
       "0           9308   89   9397\n",
       "1           3003  192   3195\n",
       "All        12311  281  12592"
      ]
     },
     "metadata": {},
     "output_type": "display_data"
    }
   ],
   "source": [
    "# new model report\n",
    "model_report(gbt_gs_model)"
   ]
  },
  {
   "cell_type": "markdown",
   "metadata": {},
   "source": [
    "## XGB"
   ]
  },
  {
   "cell_type": "code",
   "execution_count": 57,
   "metadata": {
    "ExecuteTime": {
     "end_time": "2019-12-30T13:02:36.399469Z",
     "start_time": "2019-12-30T13:02:23.267079Z"
    }
   },
   "outputs": [],
   "source": [
    "xgb_model = XGBClassifier()\n",
    "xgb_model.fit(X_train, y_train)\n",
    "\n",
    "predictions = xgb_model.predict(X_test)\n",
    "actuals = y_test"
   ]
  },
  {
   "cell_type": "code",
   "execution_count": 58,
   "metadata": {
    "ExecuteTime": {
     "end_time": "2019-12-30T13:06:54.055323Z",
     "start_time": "2019-12-30T13:02:36.401765Z"
    }
   },
   "outputs": [
    {
     "name": "stdout",
     "output_type": "stream",
     "text": [
      "train score: 76.13%\n",
      "test score: 75.62%\n",
      "cross val score: 75.96%\n",
      "AUC  : 53.24%\n",
      "\n",
      "Classification Report:\n",
      "              precision    recall  f1-score   support\n",
      "\n",
      "           0       0.76      0.99      0.86      9397\n",
      "           1       0.67      0.08      0.14      3195\n",
      "\n",
      "   micro avg       0.76      0.76      0.76     12592\n",
      "   macro avg       0.71      0.53      0.50     12592\n",
      "weighted avg       0.74      0.76      0.68     12592\n",
      "\n",
      "\n",
      "Confusion Matrix: 1=Fatal, 0=Minor\n"
     ]
    },
    {
     "data": {
      "text/html": [
       "<div>\n",
       "<style scoped>\n",
       "    .dataframe tbody tr th:only-of-type {\n",
       "        vertical-align: middle;\n",
       "    }\n",
       "\n",
       "    .dataframe tbody tr th {\n",
       "        vertical-align: top;\n",
       "    }\n",
       "\n",
       "    .dataframe thead th {\n",
       "        text-align: right;\n",
       "    }\n",
       "</style>\n",
       "<table border=\"1\" class=\"dataframe\">\n",
       "  <thead>\n",
       "    <tr style=\"text-align: right;\">\n",
       "      <th>Predicted</th>\n",
       "      <th>0</th>\n",
       "      <th>1</th>\n",
       "      <th>All</th>\n",
       "    </tr>\n",
       "    <tr>\n",
       "      <th>Actual</th>\n",
       "      <th></th>\n",
       "      <th></th>\n",
       "      <th></th>\n",
       "    </tr>\n",
       "  </thead>\n",
       "  <tbody>\n",
       "    <tr>\n",
       "      <th>0</th>\n",
       "      <td>9273</td>\n",
       "      <td>124</td>\n",
       "      <td>9397</td>\n",
       "    </tr>\n",
       "    <tr>\n",
       "      <th>1</th>\n",
       "      <td>2946</td>\n",
       "      <td>249</td>\n",
       "      <td>3195</td>\n",
       "    </tr>\n",
       "    <tr>\n",
       "      <th>All</th>\n",
       "      <td>12219</td>\n",
       "      <td>373</td>\n",
       "      <td>12592</td>\n",
       "    </tr>\n",
       "  </tbody>\n",
       "</table>\n",
       "</div>"
      ],
      "text/plain": [
       "Predicted      0    1    All\n",
       "Actual                      \n",
       "0           9273  124   9397\n",
       "1           2946  249   3195\n",
       "All        12219  373  12592"
      ]
     },
     "metadata": {},
     "output_type": "display_data"
    }
   ],
   "source": [
    "model_report(xgb_model)"
   ]
  },
  {
   "cell_type": "code",
   "execution_count": 59,
   "metadata": {
    "ExecuteTime": {
     "end_time": "2019-12-30T13:25:21.877872Z",
     "start_time": "2019-12-30T13:06:54.058524Z"
    }
   },
   "outputs": [
    {
     "name": "stdout",
     "output_type": "stream",
     "text": [
      "Fitting 5 folds for each of 16 candidates, totalling 80 fits\n"
     ]
    },
    {
     "name": "stderr",
     "output_type": "stream",
     "text": [
      "[Parallel(n_jobs=-1)]: Using backend LokyBackend with 4 concurrent workers.\n",
      "[Parallel(n_jobs=-1)]: Done  42 tasks      | elapsed:  5.4min\n",
      "[Parallel(n_jobs=-1)]: Done  80 out of  80 | elapsed: 18.4min finished\n"
     ]
    },
    {
     "name": "stdout",
     "output_type": "stream",
     "text": [
      "Best accuracy: 75.97%\n",
      "params:\n",
      " {'xgb_model__learning_rate': 0.1, 'xgb_model__max_depth': 2, 'xgb_model__min_child_weight': 0.01, 'xgb_model__n_estimators': 50}\n"
     ]
    }
   ],
   "source": [
    "param_grid_xgb = [\n",
    "    {'xgb_model__min_child_weight': [.01,1e-3],\n",
    "    'xgb_model__learning_rate': [0.01,0.1],\n",
    "    'xgb_model__n_estimators': [40,50],\n",
    "    'xgb_model__max_depth': [2,3]}\n",
    "]\n",
    "\n",
    "# Construct Grid Search\n",
    "gs_xgb = GridSearchCV(estimator=pipe_xgb,\n",
    "                    param_grid=param_grid_xgb,\n",
    "                    scoring='accuracy',\n",
    "                    cv=5, n_jobs=-1, verbose=1)\n",
    "\n",
    "# Fit using grid search\n",
    "gs_xgb.fit(X, y)\n",
    "\n",
    "# Best accuracy and parameters\n",
    "print('Best accuracy: {:.4}%'.format(gs_xgb.best_score_ * 100))\n",
    "print('params:\\n', gs_xgb.best_params_)"
   ]
  },
  {
   "cell_type": "code",
   "execution_count": 60,
   "metadata": {
    "ExecuteTime": {
     "end_time": "2019-12-30T13:25:26.918693Z",
     "start_time": "2019-12-30T13:25:21.882257Z"
    }
   },
   "outputs": [],
   "source": [
    "xgb_gs_model = XGBClassifier(learning_rate=0.1,\n",
    "                             max_depth=2,\n",
    "                             min_child_weight=0.01,\n",
    "                             n_estimators=50)\n",
    "xgb_gs_model.fit(X_train, y_train)\n",
    "\n",
    "predictions = xgb_gs_model.predict(X_test)\n",
    "actuals = y_test"
   ]
  },
  {
   "cell_type": "code",
   "execution_count": 61,
   "metadata": {
    "ExecuteTime": {
     "end_time": "2019-12-30T13:25:40.315632Z",
     "start_time": "2019-12-30T13:25:26.921258Z"
    },
    "scrolled": true
   },
   "outputs": [
    {
     "name": "stdout",
     "output_type": "stream",
     "text": [
      "train score: 76.08%\n",
      "test score: 75.57%\n",
      "cross val score: 75.97%\n",
      "AUC  : 53.02%\n",
      "\n",
      "Classification Report:\n",
      "              precision    recall  f1-score   support\n",
      "\n",
      "           0       0.76      0.99      0.86      9397\n",
      "           1       0.67      0.07      0.13      3195\n",
      "\n",
      "   micro avg       0.76      0.76      0.76     12592\n",
      "   macro avg       0.72      0.53      0.49     12592\n",
      "weighted avg       0.74      0.76      0.67     12592\n",
      "\n",
      "\n",
      "Confusion Matrix: 1=Fatal, 0=Minor\n"
     ]
    },
    {
     "data": {
      "text/html": [
       "<div>\n",
       "<style scoped>\n",
       "    .dataframe tbody tr th:only-of-type {\n",
       "        vertical-align: middle;\n",
       "    }\n",
       "\n",
       "    .dataframe tbody tr th {\n",
       "        vertical-align: top;\n",
       "    }\n",
       "\n",
       "    .dataframe thead th {\n",
       "        text-align: right;\n",
       "    }\n",
       "</style>\n",
       "<table border=\"1\" class=\"dataframe\">\n",
       "  <thead>\n",
       "    <tr style=\"text-align: right;\">\n",
       "      <th>Predicted</th>\n",
       "      <th>0</th>\n",
       "      <th>1</th>\n",
       "      <th>All</th>\n",
       "    </tr>\n",
       "    <tr>\n",
       "      <th>Actual</th>\n",
       "      <th></th>\n",
       "      <th></th>\n",
       "      <th></th>\n",
       "    </tr>\n",
       "  </thead>\n",
       "  <tbody>\n",
       "    <tr>\n",
       "      <th>0</th>\n",
       "      <td>9285</td>\n",
       "      <td>112</td>\n",
       "      <td>9397</td>\n",
       "    </tr>\n",
       "    <tr>\n",
       "      <th>1</th>\n",
       "      <td>2964</td>\n",
       "      <td>231</td>\n",
       "      <td>3195</td>\n",
       "    </tr>\n",
       "    <tr>\n",
       "      <th>All</th>\n",
       "      <td>12249</td>\n",
       "      <td>343</td>\n",
       "      <td>12592</td>\n",
       "    </tr>\n",
       "  </tbody>\n",
       "</table>\n",
       "</div>"
      ],
      "text/plain": [
       "Predicted      0    1    All\n",
       "Actual                      \n",
       "0           9285  112   9397\n",
       "1           2964  231   3195\n",
       "All        12249  343  12592"
      ]
     },
     "metadata": {},
     "output_type": "display_data"
    }
   ],
   "source": [
    "model_report(xgb_gs_model)"
   ]
  },
  {
   "cell_type": "code",
   "execution_count": 62,
   "metadata": {
    "ExecuteTime": {
     "end_time": "2019-12-30T13:25:40.326426Z",
     "start_time": "2019-12-30T13:25:40.319537Z"
    },
    "code_folding": [
     0
    ]
   },
   "outputs": [],
   "source": [
    "# xgb_gs_model_train_score = xgb_gs_model.score(X_train, y_train)\n",
    "# print(\"train score: {:.4}%\".format(xgb_gs_model_train_score * 100))\n",
    "\n",
    "# xgb_gs_model_test_score = xgb_gs_model.score(X_test, y_test)\n",
    "# print(\"test score: {:.4}%\".format(xgb_gs_model_test_score * 100))\n",
    "\n",
    "# xgb_gs_cv_score = np.mean(cross_val_score(gbt_gs_model, X, y, cv=3))\n",
    "# print(\"cross val score: {:.4}%\".format(xgb_gs_cv_score * 100))\n",
    "\n",
    "# false_positive_rate, true_positive_rate, thresholds = roc_curve(actuals, predictions)\n",
    "# roc_auc = auc(false_positive_rate, true_positive_rate)\n",
    "# print(\"AUC : {:.4}%\".format(roc_auc * 100))\n",
    "\n",
    "# print(\"\\nClassification Report:\")\n",
    "# print(classification_report(actuals, predictions))\n",
    "\n",
    "# print(\"\\nConfusion Matrix: 1=Fatal, 0=Minor\")\n",
    "# pd.crosstab(actuals, predictions, rownames=['Actual'], colnames=['Predicted'], margins=True)"
   ]
  },
  {
   "cell_type": "code",
   "execution_count": 63,
   "metadata": {
    "ExecuteTime": {
     "end_time": "2019-12-30T13:25:40.336073Z",
     "start_time": "2019-12-30T13:25:40.330663Z"
    },
    "code_folding": []
   },
   "outputs": [],
   "source": [
    "# model = XGBClassifier(random_state=3)\n",
    "# model.fit(X_train, y_train)\n",
    "# train_preds = model.predict(X_train)\n",
    "# val_preds = model.predict(X_test)\n",
    "# training_accuracy = accuracy_score(y_train, train_preds)\n",
    "# val_accuracy = accuracy_score(y_test, val_preds)\n",
    "# training_precision = precision_score(y_train, train_preds)\n",
    "# val_precision = precision_score(y_test, val_preds)\n",
    "\n",
    "# print(\"Training Accuracy:   {:.4}%\".format(training_accuracy * 100))\n",
    "# print(\"Validation Accuracy: {:.4}%\".format(val_accuracy * 100))\n",
    "# print('----------------------------')\n",
    "# print(\"Training precision:   {:.4}%\".format(training_precision * 100))\n",
    "# print(\"Validation precision: {:.4}%\".format(val_precision * 100))\n",
    "# print('----------------------------')\n",
    "# print(\"Training Confusion Matrix:\")\n",
    "# print(confusion_matrix(y_train, train_preds))\n",
    "# print(\"Validation Confusion Matrix:\")\n",
    "# print(confusion_matrix(y_test, val_preds))"
   ]
  },
  {
   "cell_type": "code",
   "execution_count": 64,
   "metadata": {
    "ExecuteTime": {
     "end_time": "2019-12-30T13:25:40.348803Z",
     "start_time": "2019-12-30T13:25:40.340284Z"
    },
    "code_folding": [
     0
    ]
   },
   "outputs": [],
   "source": [
    "# param_grid_xgb = [\n",
    "#     {'xgb_model__min_child_weight': [0.0001, 0.001],\n",
    "#     'xgb_model__learning_rate': [0.1],\n",
    "#     'xgb_model__n_estimators': [50],\n",
    "#     'xgb_model__max_depth': [2, 3]}\n",
    "# ]\n",
    "\n",
    "# # Construct Grid Search\n",
    "# gs_xgb = GridSearchCV(estimator=pipe_xgb,\n",
    "#                     param_grid=param_grid_xgb,\n",
    "#                     scoring='accuracy',\n",
    "#                     cv=4, n_jobs=-1, verbose=1)\n",
    "\n",
    "# # Fit using grid search\n",
    "# gs_xgb.fit(X_train, y_train)\n",
    "\n",
    "# # Best accuracy and parameters\n",
    "# print('Best accuracy: {:.4}%'.format(gs_xgb.best_score_ * 100))\n",
    "# print('Best Params:\\n', gs_xgb.best_params_)"
   ]
  },
  {
   "cell_type": "code",
   "execution_count": 65,
   "metadata": {
    "ExecuteTime": {
     "end_time": "2019-12-30T13:25:40.360633Z",
     "start_time": "2019-12-30T13:25:40.353716Z"
    },
    "code_folding": [
     0
    ]
   },
   "outputs": [],
   "source": [
    "# xgb_gs_model = XGBClassifier(learning_rate=0.1,\n",
    "#                              max_depth=3,\n",
    "#                              min_child_weight=0.001,\n",
    "#                              n_estimators=50)\n",
    "# xgb_gs_model.fit(X_train, y_train)\n",
    "\n",
    "# predictions = xgb_gs_model.predict(X_test)\n",
    "# actuals = y_test"
   ]
  },
  {
   "cell_type": "code",
   "execution_count": 66,
   "metadata": {
    "ExecuteTime": {
     "end_time": "2019-12-30T13:25:40.369263Z",
     "start_time": "2019-12-30T13:25:40.364283Z"
    },
    "code_folding": [
     0
    ]
   },
   "outputs": [],
   "source": [
    "# xgb_gs_model_train_score = xgb_gs_model.score(X_train, y_train)\n",
    "# print(\"Training Accuracy: {:.4}%\".format(xgb_gs_model_train_score * 100))\n",
    "\n",
    "# xgb_gs_model_test_score = xgb_gs_model.score(X_test, y_test)\n",
    "# print(\"Testing Accuracy: {:.4}%\".format(xgb_gs_model_test_score * 100))\n",
    "\n",
    "# xgb_gs_cv_score = np.mean(cross_val_score(gbt_gs_model, X_train, y_train, cv=3))\n",
    "# print(\"Cross Val Score: {:.4}%\".format(xgb_gs_cv_score * 100))\n",
    "\n",
    "# false_positive_rate, true_positive_rate, thresholds = roc_curve(actuals, predictions)\n",
    "# roc_auc = auc(false_positive_rate, true_positive_rate)\n",
    "# print(\"AUC is : {:.4}%\".format(roc_auc * 100))\n",
    "\n",
    "# print(\"\\nClassification Report:\")\n",
    "# print(classification_report(actuals, predictions))\n",
    "\n",
    "# print(\"\\nConfusion Matrix: 1=Fatal, 0=Minor\")\n",
    "# pd.crosstab(actuals, predictions, rownames=['Actual'], colnames=['Predicted'], margins=True)"
   ]
  },
  {
   "cell_type": "markdown",
   "metadata": {},
   "source": [
    "## SVC"
   ]
  },
  {
   "cell_type": "code",
   "execution_count": 67,
   "metadata": {
    "ExecuteTime": {
     "end_time": "2019-12-30T14:29:33.804107Z",
     "start_time": "2019-12-30T13:25:40.373944Z"
    }
   },
   "outputs": [],
   "source": [
    "svm_model = svm.SVC()\n",
    "svm_model.fit(X_train, y_train)\n",
    "\n",
    "predictions = gbt_model.predict(X_test)\n",
    "actuals = y_test"
   ]
  },
  {
   "cell_type": "code",
   "execution_count": 68,
   "metadata": {
    "ExecuteTime": {
     "end_time": "2019-12-30T16:33:30.835794Z",
     "start_time": "2019-12-30T14:29:33.806558Z"
    }
   },
   "outputs": [
    {
     "name": "stdout",
     "output_type": "stream",
     "text": [
      "train score: 76.08%\n",
      "test score: 75.56%\n",
      "cross val score: 75.51%\n",
      "AUC  : 53.35%\n",
      "\n",
      "Classification Report:\n",
      "              precision    recall  f1-score   support\n",
      "\n",
      "           0       0.76      0.98      0.86      9397\n",
      "           1       0.64      0.08      0.15      3195\n",
      "\n",
      "   micro avg       0.76      0.76      0.76     12592\n",
      "   macro avg       0.70      0.53      0.50     12592\n",
      "weighted avg       0.73      0.76      0.68     12592\n",
      "\n",
      "\n",
      "Confusion Matrix: 1=Fatal, 0=Minor\n"
     ]
    },
    {
     "data": {
      "text/html": [
       "<div>\n",
       "<style scoped>\n",
       "    .dataframe tbody tr th:only-of-type {\n",
       "        vertical-align: middle;\n",
       "    }\n",
       "\n",
       "    .dataframe tbody tr th {\n",
       "        vertical-align: top;\n",
       "    }\n",
       "\n",
       "    .dataframe thead th {\n",
       "        text-align: right;\n",
       "    }\n",
       "</style>\n",
       "<table border=\"1\" class=\"dataframe\">\n",
       "  <thead>\n",
       "    <tr style=\"text-align: right;\">\n",
       "      <th>Predicted</th>\n",
       "      <th>0</th>\n",
       "      <th>1</th>\n",
       "      <th>All</th>\n",
       "    </tr>\n",
       "    <tr>\n",
       "      <th>Actual</th>\n",
       "      <th></th>\n",
       "      <th></th>\n",
       "      <th></th>\n",
       "    </tr>\n",
       "  </thead>\n",
       "  <tbody>\n",
       "    <tr>\n",
       "      <th>0</th>\n",
       "      <td>9251</td>\n",
       "      <td>146</td>\n",
       "      <td>9397</td>\n",
       "    </tr>\n",
       "    <tr>\n",
       "      <th>1</th>\n",
       "      <td>2931</td>\n",
       "      <td>264</td>\n",
       "      <td>3195</td>\n",
       "    </tr>\n",
       "    <tr>\n",
       "      <th>All</th>\n",
       "      <td>12182</td>\n",
       "      <td>410</td>\n",
       "      <td>12592</td>\n",
       "    </tr>\n",
       "  </tbody>\n",
       "</table>\n",
       "</div>"
      ],
      "text/plain": [
       "Predicted      0    1    All\n",
       "Actual                      \n",
       "0           9251  146   9397\n",
       "1           2931  264   3195\n",
       "All        12182  410  12592"
      ]
     },
     "metadata": {},
     "output_type": "display_data"
    }
   ],
   "source": [
    "model_report(svm_model)"
   ]
  },
  {
   "cell_type": "code",
   "execution_count": 69,
   "metadata": {
    "ExecuteTime": {
     "end_time": "2019-12-30T17:29:07.147312Z",
     "start_time": "2019-12-30T16:33:30.839128Z"
    }
   },
   "outputs": [
    {
     "name": "stdout",
     "output_type": "stream",
     "text": [
      "Fitting 3 folds for each of 8 candidates, totalling 24 fits\n",
      "[CV] clf__C=0.1, clf__gamma=0.1, clf__kernel=rbf .....................\n"
     ]
    },
    {
     "name": "stderr",
     "output_type": "stream",
     "text": [
      "[Parallel(n_jobs=1)]: Using backend SequentialBackend with 1 concurrent workers.\n"
     ]
    },
    {
     "name": "stdout",
     "output_type": "stream",
     "text": [
      "[CV] ...... clf__C=0.1, clf__gamma=0.1, clf__kernel=rbf, total= 1.9min\n",
      "[CV] clf__C=0.1, clf__gamma=0.1, clf__kernel=rbf .....................\n"
     ]
    },
    {
     "name": "stderr",
     "output_type": "stream",
     "text": [
      "[Parallel(n_jobs=1)]: Done   1 out of   1 | elapsed:  2.3min remaining:    0.0s\n"
     ]
    },
    {
     "name": "stdout",
     "output_type": "stream",
     "text": [
      "[CV] ...... clf__C=0.1, clf__gamma=0.1, clf__kernel=rbf, total= 1.8min\n",
      "[CV] clf__C=0.1, clf__gamma=0.1, clf__kernel=rbf .....................\n",
      "[CV] ...... clf__C=0.1, clf__gamma=0.1, clf__kernel=rbf, total= 1.8min\n",
      "[CV] clf__C=0.1, clf__gamma=0.1, clf__kernel=linear ..................\n",
      "[CV] ... clf__C=0.1, clf__gamma=0.1, clf__kernel=linear, total=  35.3s\n",
      "[CV] clf__C=0.1, clf__gamma=0.1, clf__kernel=linear ..................\n",
      "[CV] ... clf__C=0.1, clf__gamma=0.1, clf__kernel=linear, total=  35.4s\n",
      "[CV] clf__C=0.1, clf__gamma=0.1, clf__kernel=linear ..................\n",
      "[CV] ... clf__C=0.1, clf__gamma=0.1, clf__kernel=linear, total=  35.7s\n",
      "[CV] clf__C=0.1, clf__gamma=0.01, clf__kernel=rbf ....................\n",
      "[CV] ..... clf__C=0.1, clf__gamma=0.01, clf__kernel=rbf, total= 1.2min\n",
      "[CV] clf__C=0.1, clf__gamma=0.01, clf__kernel=rbf ....................\n",
      "[CV] ..... clf__C=0.1, clf__gamma=0.01, clf__kernel=rbf, total= 1.2min\n",
      "[CV] clf__C=0.1, clf__gamma=0.01, clf__kernel=rbf ....................\n",
      "[CV] ..... clf__C=0.1, clf__gamma=0.01, clf__kernel=rbf, total= 1.2min\n",
      "[CV] clf__C=0.1, clf__gamma=0.01, clf__kernel=linear .................\n",
      "[CV] .. clf__C=0.1, clf__gamma=0.01, clf__kernel=linear, total=  35.4s\n",
      "[CV] clf__C=0.1, clf__gamma=0.01, clf__kernel=linear .................\n",
      "[CV] .. clf__C=0.1, clf__gamma=0.01, clf__kernel=linear, total=  35.9s\n",
      "[CV] clf__C=0.1, clf__gamma=0.01, clf__kernel=linear .................\n",
      "[CV] .. clf__C=0.1, clf__gamma=0.01, clf__kernel=linear, total=  35.6s\n",
      "[CV] clf__C=1, clf__gamma=0.1, clf__kernel=rbf .......................\n",
      "[CV] ........ clf__C=1, clf__gamma=0.1, clf__kernel=rbf, total= 3.5min\n",
      "[CV] clf__C=1, clf__gamma=0.1, clf__kernel=rbf .......................\n",
      "[CV] ........ clf__C=1, clf__gamma=0.1, clf__kernel=rbf, total= 3.7min\n",
      "[CV] clf__C=1, clf__gamma=0.1, clf__kernel=rbf .......................\n",
      "[CV] ........ clf__C=1, clf__gamma=0.1, clf__kernel=rbf, total= 4.1min\n",
      "[CV] clf__C=1, clf__gamma=0.1, clf__kernel=linear ....................\n",
      "[CV] ..... clf__C=1, clf__gamma=0.1, clf__kernel=linear, total= 1.2min\n",
      "[CV] clf__C=1, clf__gamma=0.1, clf__kernel=linear ....................\n",
      "[CV] ..... clf__C=1, clf__gamma=0.1, clf__kernel=linear, total= 1.1min\n",
      "[CV] clf__C=1, clf__gamma=0.1, clf__kernel=linear ....................\n",
      "[CV] ..... clf__C=1, clf__gamma=0.1, clf__kernel=linear, total= 1.2min\n",
      "[CV] clf__C=1, clf__gamma=0.01, clf__kernel=rbf ......................\n",
      "[CV] ....... clf__C=1, clf__gamma=0.01, clf__kernel=rbf, total= 1.9min\n",
      "[CV] clf__C=1, clf__gamma=0.01, clf__kernel=rbf ......................\n",
      "[CV] ....... clf__C=1, clf__gamma=0.01, clf__kernel=rbf, total= 1.7min\n",
      "[CV] clf__C=1, clf__gamma=0.01, clf__kernel=rbf ......................\n",
      "[CV] ....... clf__C=1, clf__gamma=0.01, clf__kernel=rbf, total= 1.8min\n",
      "[CV] clf__C=1, clf__gamma=0.01, clf__kernel=linear ...................\n",
      "[CV] .... clf__C=1, clf__gamma=0.01, clf__kernel=linear, total= 1.1min\n",
      "[CV] clf__C=1, clf__gamma=0.01, clf__kernel=linear ...................\n",
      "[CV] .... clf__C=1, clf__gamma=0.01, clf__kernel=linear, total= 1.1min\n",
      "[CV] clf__C=1, clf__gamma=0.01, clf__kernel=linear ...................\n",
      "[CV] .... clf__C=1, clf__gamma=0.01, clf__kernel=linear, total= 1.2min\n"
     ]
    },
    {
     "name": "stderr",
     "output_type": "stream",
     "text": [
      "[Parallel(n_jobs=1)]: Done  24 out of  24 | elapsed: 44.7min finished\n"
     ]
    },
    {
     "name": "stdout",
     "output_type": "stream",
     "text": [
      "Best accuracy: 0.084\n",
      "\n",
      "Best params:\n",
      " {'clf__C': 1, 'clf__gamma': 0.1, 'clf__kernel': 'rbf'}\n"
     ]
    }
   ],
   "source": [
    "# Construct pipeline for support vector grid search\n",
    "\n",
    "pipe_svm = Pipeline([('pca', PCA(n_components=26)),\n",
    "            ('clf', svm.SVC(random_state=3))])\n",
    "\n",
    "# Set grid search params\n",
    "param_grid_svm = [\n",
    " # {'clf__C': [0.1, 1]  , 'clf__kernel': ['linear']},\n",
    "  {'clf__C': [0.1, 1], 'clf__gamma': [0.1, 0.01], 'clf__kernel': ['rbf','linear']},\n",
    " ]\n",
    "\n",
    "# Construct grid search\n",
    "gs_svm = GridSearchCV(estimator=pipe_svm,\n",
    "            param_grid=param_grid_svm,\n",
    "            scoring='recall',\n",
    "            cv=3, verbose=2, return_train_score = True)\n",
    "\n",
    "# Fit using grid search\n",
    "gs_svm.fit(X_train, y_train)\n",
    "\n",
    "# Best accuracy\n",
    "print('Best accuracy: %.3f' % gs_svm.best_score_)\n",
    "\n",
    "# Best params\n",
    "print('\\nBest params:\\n', gs_svm.best_params_)"
   ]
  },
  {
   "cell_type": "code",
   "execution_count": 70,
   "metadata": {
    "ExecuteTime": {
     "end_time": "2019-12-30T17:29:20.419710Z",
     "start_time": "2019-12-30T17:29:07.150670Z"
    }
   },
   "outputs": [],
   "source": [
    "svm_gs_model = XGBClassifier(clf_C=1,\n",
    "                             clf_gamma=0.1,\n",
    "                             clf_kernel='rbf',\n",
    "                             )\n",
    "svm_gs_model.fit(X_train, y_train)\n",
    "\n",
    "predictions = svm_gs_model.predict(X_test)\n",
    "actuals = y_test"
   ]
  },
  {
   "cell_type": "code",
   "execution_count": 71,
   "metadata": {
    "ExecuteTime": {
     "end_time": "2019-12-30T17:29:53.697597Z",
     "start_time": "2019-12-30T17:29:20.421844Z"
    }
   },
   "outputs": [
    {
     "name": "stdout",
     "output_type": "stream",
     "text": [
      "train score: 76.13%\n",
      "test score: 75.62%\n",
      "cross val score: 75.96%\n",
      "AUC  : 53.24%\n",
      "\n",
      "Classification Report:\n",
      "              precision    recall  f1-score   support\n",
      "\n",
      "           0       0.76      0.99      0.86      9397\n",
      "           1       0.67      0.08      0.14      3195\n",
      "\n",
      "   micro avg       0.76      0.76      0.76     12592\n",
      "   macro avg       0.71      0.53      0.50     12592\n",
      "weighted avg       0.74      0.76      0.68     12592\n",
      "\n",
      "\n",
      "Confusion Matrix: 1=Fatal, 0=Minor\n"
     ]
    },
    {
     "data": {
      "text/html": [
       "<div>\n",
       "<style scoped>\n",
       "    .dataframe tbody tr th:only-of-type {\n",
       "        vertical-align: middle;\n",
       "    }\n",
       "\n",
       "    .dataframe tbody tr th {\n",
       "        vertical-align: top;\n",
       "    }\n",
       "\n",
       "    .dataframe thead th {\n",
       "        text-align: right;\n",
       "    }\n",
       "</style>\n",
       "<table border=\"1\" class=\"dataframe\">\n",
       "  <thead>\n",
       "    <tr style=\"text-align: right;\">\n",
       "      <th>Predicted</th>\n",
       "      <th>0</th>\n",
       "      <th>1</th>\n",
       "      <th>All</th>\n",
       "    </tr>\n",
       "    <tr>\n",
       "      <th>Actual</th>\n",
       "      <th></th>\n",
       "      <th></th>\n",
       "      <th></th>\n",
       "    </tr>\n",
       "  </thead>\n",
       "  <tbody>\n",
       "    <tr>\n",
       "      <th>0</th>\n",
       "      <td>9273</td>\n",
       "      <td>124</td>\n",
       "      <td>9397</td>\n",
       "    </tr>\n",
       "    <tr>\n",
       "      <th>1</th>\n",
       "      <td>2946</td>\n",
       "      <td>249</td>\n",
       "      <td>3195</td>\n",
       "    </tr>\n",
       "    <tr>\n",
       "      <th>All</th>\n",
       "      <td>12219</td>\n",
       "      <td>373</td>\n",
       "      <td>12592</td>\n",
       "    </tr>\n",
       "  </tbody>\n",
       "</table>\n",
       "</div>"
      ],
      "text/plain": [
       "Predicted      0    1    All\n",
       "Actual                      \n",
       "0           9273  124   9397\n",
       "1           2946  249   3195\n",
       "All        12219  373  12592"
      ]
     },
     "metadata": {},
     "output_type": "display_data"
    }
   ],
   "source": [
    "model_report(svm_gs_model)"
   ]
  },
  {
   "cell_type": "code",
   "execution_count": 72,
   "metadata": {
    "ExecuteTime": {
     "end_time": "2019-12-30T17:29:53.705891Z",
     "start_time": "2019-12-30T17:29:53.701544Z"
    }
   },
   "outputs": [],
   "source": [
    "# #from sklearn import svm, grid_search\n",
    "# def svc_param_selection(X, y, nfolds):\n",
    "#     Cs = [0.001, 0.01, 0.1, 1, 10]\n",
    "#     gammas = [0.001, 0.01, 0.1, 1]\n",
    "#     param_grid = {'C': Cs, 'gamma' : gammas}\n",
    "#     grid_search = GridSearchCV(svm.SVC(kernel='rbf'), param_grid, cv=nfolds)\n",
    "#     grid_search.fit(X, y)\n",
    "#     grid_search.best_params_\n",
    "#     return grid_search.best_params_"
   ]
  },
  {
   "cell_type": "code",
   "execution_count": 73,
   "metadata": {
    "ExecuteTime": {
     "end_time": "2019-12-30T17:29:53.714061Z",
     "start_time": "2019-12-30T17:29:53.709530Z"
    }
   },
   "outputs": [],
   "source": [
    "# svc_param_selection(X_train, y_train, 3)"
   ]
  },
  {
   "cell_type": "markdown",
   "metadata": {},
   "source": [
    "## model reports"
   ]
  },
  {
   "cell_type": "code",
   "execution_count": 74,
   "metadata": {
    "ExecuteTime": {
     "end_time": "2019-12-30T17:29:53.723001Z",
     "start_time": "2019-12-30T17:29:53.718898Z"
    }
   },
   "outputs": [],
   "source": [
    "# svc_param_selection(X_train, y_train, 5)"
   ]
  },
  {
   "cell_type": "code",
   "execution_count": 75,
   "metadata": {
    "ExecuteTime": {
     "end_time": "2019-12-30T17:29:53.731080Z",
     "start_time": "2019-12-30T17:29:53.726533Z"
    }
   },
   "outputs": [],
   "source": [
    "# def plot_feature_importances(model):\n",
    "#     n_features = X.shape[1]\n",
    "#     plt.figure(figsize=(8,8))\n",
    "#     plt.barh(range(n_features), model.feature_importances_, align='center') \n",
    "#     plt.yticks(np.arange(n_features), X.columns.values) \n",
    "#     plt.xlabel(\"Feature importance\")\n",
    "#     plt.ylabel(\"Feature\")"
   ]
  },
  {
   "cell_type": "code",
   "execution_count": 76,
   "metadata": {
    "ExecuteTime": {
     "end_time": "2019-12-30T17:29:53.738910Z",
     "start_time": "2019-12-30T17:29:53.735757Z"
    }
   },
   "outputs": [],
   "source": [
    "# for index, val in enumerate(pipelines):\n",
    "#     print('%s pipeline test accuracy: %.3f' % (pipeline_names[index], val.score(X_test, y_test)))"
   ]
  },
  {
   "cell_type": "code",
   "execution_count": 77,
   "metadata": {
    "ExecuteTime": {
     "end_time": "2019-12-30T17:29:53.746900Z",
     "start_time": "2019-12-30T17:29:53.742233Z"
    }
   },
   "outputs": [],
   "source": [
    "#gs_rf.cv_results_"
   ]
  },
  {
   "cell_type": "code",
   "execution_count": 78,
   "metadata": {
    "ExecuteTime": {
     "end_time": "2019-12-30T17:29:53.754802Z",
     "start_time": "2019-12-30T17:29:53.751250Z"
    }
   },
   "outputs": [],
   "source": [
    "#gs_ab.cv_results_"
   ]
  },
  {
   "cell_type": "code",
   "execution_count": 79,
   "metadata": {
    "ExecuteTime": {
     "end_time": "2019-12-30T17:29:53.762379Z",
     "start_time": "2019-12-30T17:29:53.758138Z"
    },
    "code_folding": [
     0
    ]
   },
   "outputs": [],
   "source": [
    "# from sklearn.model_selection import GridSearchCV\n",
    "# from sklearn.metrics import classification_report\n",
    "from sklearn.svm import SVC"
   ]
  },
  {
   "cell_type": "code",
   "execution_count": 80,
   "metadata": {
    "ExecuteTime": {
     "end_time": "2019-12-30T17:29:53.771104Z",
     "start_time": "2019-12-30T17:29:53.767448Z"
    }
   },
   "outputs": [],
   "source": [
    "#gs_svm.cv_results_"
   ]
  },
  {
   "cell_type": "code",
   "execution_count": 81,
   "metadata": {
    "ExecuteTime": {
     "end_time": "2019-12-30T17:29:53.777804Z",
     "start_time": "2019-12-30T17:29:53.774245Z"
    },
    "code_folding": [
     0
    ]
   },
   "outputs": [],
   "source": [
    "# from sklearn.linear_model import SGDClassifier\n",
    "# sgd_clf = SGDClassifier(random_state=123)\n",
    "# sgd_clf.fit(X_train, y_train_fatal)"
   ]
  },
  {
   "cell_type": "code",
   "execution_count": 82,
   "metadata": {
    "ExecuteTime": {
     "end_time": "2019-12-30T17:29:53.786351Z",
     "start_time": "2019-12-30T17:29:53.783249Z"
    },
    "code_folding": [
     0
    ]
   },
   "outputs": [],
   "source": [
    "# from sklearn.model_selection import cross_val_score\n",
    "# cross_val_score(sgd_clf, X_train, y_train_fatal, cv=3, scoring=\"accuracy\")"
   ]
  },
  {
   "cell_type": "code",
   "execution_count": 83,
   "metadata": {
    "ExecuteTime": {
     "end_time": "2019-12-30T17:29:53.793282Z",
     "start_time": "2019-12-30T17:29:53.789818Z"
    },
    "code_folding": []
   },
   "outputs": [],
   "source": [
    "# y_scores = cross_val_predict(sgd_clf, X_train, y_train_fatal, cv=3, method=\"decision_function\")"
   ]
  },
  {
   "cell_type": "code",
   "execution_count": 84,
   "metadata": {
    "ExecuteTime": {
     "end_time": "2019-12-30T17:29:53.802665Z",
     "start_time": "2019-12-30T17:29:53.798199Z"
    },
    "code_folding": []
   },
   "outputs": [],
   "source": [
    "# from sklearn.metrics import precision_recall_curve\n",
    "# precisions, recalls, thresholds = precision_recall_curve(y_train_fatal, y_scores)"
   ]
  },
  {
   "cell_type": "code",
   "execution_count": 85,
   "metadata": {
    "ExecuteTime": {
     "end_time": "2019-12-30T17:29:53.808989Z",
     "start_time": "2019-12-30T17:29:53.805699Z"
    },
    "code_folding": []
   },
   "outputs": [],
   "source": [
    "# def plot_precision_recall_vs_threshold(precisions, recalls, thresholds):\n",
    "#     plt.plot(thresholds, precisions[:-1], \"b--\", label=\"Precision\")\n",
    "#     plt.plot(thresholds, recalls[:-1], \"g--\", label=\"Recall\")"
   ]
  },
  {
   "cell_type": "code",
   "execution_count": 86,
   "metadata": {
    "ExecuteTime": {
     "end_time": "2019-12-30T17:29:53.818274Z",
     "start_time": "2019-12-30T17:29:53.813486Z"
    },
    "code_folding": []
   },
   "outputs": [],
   "source": [
    "# plot_precision_recall_vs_threshold(precisions, recalls, thresholds)\n",
    "# plt.show()"
   ]
  },
  {
   "cell_type": "code",
   "execution_count": 87,
   "metadata": {
    "ExecuteTime": {
     "end_time": "2019-12-30T17:29:53.825730Z",
     "start_time": "2019-12-30T17:29:53.822321Z"
    },
    "code_folding": []
   },
   "outputs": [],
   "source": [
    "# from sklearn.metrics import roc_curve\n",
    "# fpr, tpr, thresholds = roc_curve(y_train_fatal, y_scores)"
   ]
  },
  {
   "cell_type": "code",
   "execution_count": 88,
   "metadata": {
    "ExecuteTime": {
     "end_time": "2019-12-30T17:29:53.834132Z",
     "start_time": "2019-12-30T17:29:53.829442Z"
    },
    "code_folding": []
   },
   "outputs": [],
   "source": [
    "# def plot_roc_curve(fpr, tpr, label=None):\n",
    "#     plt.plot(fpr, tpr, linewidth=2, label=label)\n",
    "#     plt.plot([0,1], [0,1], 'k--')"
   ]
  },
  {
   "cell_type": "code",
   "execution_count": 89,
   "metadata": {
    "ExecuteTime": {
     "end_time": "2019-12-30T17:29:53.840854Z",
     "start_time": "2019-12-30T17:29:53.837505Z"
    }
   },
   "outputs": [],
   "source": [
    "# plot_roc_curve(fpr, tpr)"
   ]
  },
  {
   "cell_type": "code",
   "execution_count": 90,
   "metadata": {
    "ExecuteTime": {
     "end_time": "2019-12-30T17:29:53.850338Z",
     "start_time": "2019-12-30T17:29:53.843915Z"
    }
   },
   "outputs": [],
   "source": [
    "# from sklearn.metrics import roc_auc_score\n",
    "# roc_auc_score(y_train_fatal, y_scores)"
   ]
  },
  {
   "cell_type": "code",
   "execution_count": 91,
   "metadata": {
    "ExecuteTime": {
     "end_time": "2019-12-30T17:29:53.857470Z",
     "start_time": "2019-12-30T17:29:53.854096Z"
    }
   },
   "outputs": [],
   "source": [
    "# from sklearn.ensemble import RandomForestClassifier\n",
    "# forest_clf = RandomForestClassifier(random_state=42)\n",
    "# y_probas_forest = cross_val_predict(forest_clf, X_train, y_train_fatal, cv=3, method=\"predict_proba\")"
   ]
  },
  {
   "cell_type": "code",
   "execution_count": 92,
   "metadata": {
    "ExecuteTime": {
     "end_time": "2019-12-30T17:29:53.866366Z",
     "start_time": "2019-12-30T17:29:53.860545Z"
    },
    "code_folding": [
     0
    ]
   },
   "outputs": [],
   "source": [
    "# y_scores_forest = y_probas_forest[:, 1]\n",
    "# fpr_forest, tpr_forest, thresholds_forest = roc_curve(y_train_fatal, y_scores_forest)"
   ]
  },
  {
   "cell_type": "code",
   "execution_count": 93,
   "metadata": {
    "ExecuteTime": {
     "end_time": "2019-12-30T17:29:53.873208Z",
     "start_time": "2019-12-30T17:29:53.868865Z"
    },
    "code_folding": [
     0
    ],
    "scrolled": true
   },
   "outputs": [],
   "source": [
    "# plt.plot(fpr, tpr, \"b:\", label='SGD')\n",
    "# plot_roc_curve(fpr_forest, tpr_forest, \"Random Forest\")\n",
    "# plt.legend(loc=\"lower right\")\n",
    "# plt.show()"
   ]
  },
  {
   "cell_type": "code",
   "execution_count": 94,
   "metadata": {
    "ExecuteTime": {
     "end_time": "2019-12-30T17:29:53.880214Z",
     "start_time": "2019-12-30T17:29:53.876190Z"
    }
   },
   "outputs": [],
   "source": [
    "# roc_auc_score(y_train_fatal, y_scores_forest)"
   ]
  },
  {
   "cell_type": "code",
   "execution_count": 95,
   "metadata": {
    "ExecuteTime": {
     "end_time": "2019-12-30T17:29:53.890166Z",
     "start_time": "2019-12-30T17:29:53.885351Z"
    },
    "code_folding": []
   },
   "outputs": [],
   "source": [
    "# # Import the three supervised learning models from sklearn\n",
    "# from sklearn.ensemble import RandomForestClassifier\n",
    "# from sklearn.naive_bayes import GaussianNB\n",
    "\n",
    "\n",
    "# clf_A = RandomForestClassifier(random_state=random_state)\n",
    "# clf_B = GaussianNB()\n",
    "# clf_C = SVC(random_state=random_state)\n",
    "\n",
    "# # Calculate the number of samples for 1%, 10%, and 100% of the training data\n",
    "# samples_100 = len(y_train)\n",
    "# samples_10 = int(len(y_train)/10)\n",
    "# samples_1 = int(len(y_train)/100)\n",
    "\n",
    "# # Collect results on the learners\n",
    "# results = {}\n",
    "# for clf in [clf_A, clf_B, clf_C]:\n",
    "#     clf_name = clf.__class__.__name__\n",
    "#     results[clf_name] = {}\n",
    "#     for i, samples in enumerate([samples_1, samples_10,   samples_100]):\n",
    "#         results[clf_name][i] = \\\n",
    "#         y_train_pred(clf, samples, X_train, y_train, X_test, y_test)\n",
    "\n",
    "# # Run metrics visualization for the three supervised learning models chosen\n",
    "# vs.evaluate(results, accuracy, fscore)"
   ]
  }
 ],
 "metadata": {
  "hide_input": false,
  "kernelspec": {
   "display_name": "Python 3",
   "language": "python",
   "name": "python3"
  },
  "language_info": {
   "codemirror_mode": {
    "name": "ipython",
    "version": 3
   },
   "file_extension": ".py",
   "mimetype": "text/x-python",
   "name": "python",
   "nbconvert_exporter": "python",
   "pygments_lexer": "ipython3",
   "version": "3.7.3"
  },
  "toc": {
   "base_numbering": 1,
   "nav_menu": {},
   "number_sections": true,
   "sideBar": true,
   "skip_h1_title": false,
   "title_cell": "Table of Contents",
   "title_sidebar": "Contents",
   "toc_cell": false,
   "toc_position": {
    "height": "calc(100% - 180px)",
    "left": "10px",
    "top": "150px",
    "width": "165px"
   },
   "toc_section_display": true,
   "toc_window_display": true
  }
 },
 "nbformat": 4,
 "nbformat_minor": 2
}
